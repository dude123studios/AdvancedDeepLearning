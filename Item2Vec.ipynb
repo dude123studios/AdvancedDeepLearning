{
  "nbformat": 4,
  "nbformat_minor": 0,
  "metadata": {
    "colab": {
      "name": "Item2Vec",
      "provenance": [],
      "collapsed_sections": [],
      "authorship_tag": "ABX9TyMCYDeTiWw6DVKfWr64h8Z9",
      "include_colab_link": true
    },
    "kernelspec": {
      "name": "python3",
      "display_name": "Python 3"
    }
  },
  "cells": [
    {
      "cell_type": "markdown",
      "metadata": {
        "id": "view-in-github",
        "colab_type": "text"
      },
      "source": [
        "<a href=\"https://colab.research.google.com/github/dude123studios/AdvancedDeepLearning/blob/main/Item2Vec.ipynb\" target=\"_parent\"><img src=\"https://colab.research.google.com/assets/colab-badge.svg\" alt=\"Open In Colab\"/></a>"
      ]
    },
    {
      "cell_type": "code",
      "metadata": {
        "id": "f1oCapPgAvyP"
      },
      "source": [
        "import gensim\r\n",
        "import logging\r\n",
        "import numpy as np\r\n",
        "import os\r\n",
        "import shutil\r\n",
        "import tensorflow as tf\r\n",
        "\r\n",
        "from scipy.sparse import csr_matrix\r\n",
        "from sklearn.metrics.pairwise import cosine_similarity \r\n",
        "\r\n",
        "logging.basicConfig(format='%(asctime)s : %(levelname)s : %(message)s', level=logging.INFO)"
      ],
      "execution_count": 1,
      "outputs": []
    },
    {
      "cell_type": "code",
      "metadata": {
        "id": "fNulsPqsBc-s"
      },
      "source": [
        "DATA_DIR = './data'\r\n",
        "UCI_DATA_URL = 'https://archive.ics.uci.edu/ml/machine-learning-databases/00371/NIPS_1987-2015.csv'\r\n",
        "\r\n",
        "def download_and_read(url):\r\n",
        "  local_file = url.split('/')[-1]\r\n",
        "  p = tf.keras.utils.get_file(local_file, url, cache_dir='.')\r\n",
        "  row_ids, col_ids, data = [], [], []\r\n",
        "  rid = 0\r\n",
        "  f = open(p, 'r')\r\n",
        "  for line in f:\r\n",
        "    line = line.strip()\r\n",
        "    if line.startswith(\"\\\"\\\"\\\",\"):\r\n",
        "      continue\r\n",
        "    counts = np.array([int(x) for x in line.split(',')[1:]])\r\n",
        "    nz_col_idz = np.nonzero(counts)[0]\r\n",
        "    nz_data = counts[nz_col_idz]\r\n",
        "    nz_row_ids = np.repeat(rid,len(nz_col_idz))\r\n",
        "    rid += 1\r\n",
        "    row_ids.extend(nz_row_ids.tolist())\r\n",
        "    col_ids.extend(nz_col_idz.tolist())\r\n",
        "    data.extend(nz_data.tolist())\r\n",
        "  f.close()\r\n",
        "  TD = csr_matrix((\r\n",
        "    np.array(data), (\r\n",
        "        np.array(row_ids),np.array(col_ids)\r\n",
        "    ), shape = (rid,counts.shape[0]))\r\n",
        "\r\n",
        "TD = download_and_read(UCI_DATA_URL)\r\n",
        "\r\n",
        "E = TD.T * TD\r\n",
        "\r\n",
        "E[E>0] = 1"
      ],
      "execution_count": null,
      "outputs": []
    },
    {
      "cell_type": "code",
      "metadata": {
        "id": "3XPr4-rfJ0i6"
      },
      "source": [
        "NUM_WALKS_PER_VERTEX = 32\r\n",
        "MAX_LEN = 40\r\n",
        "RESTART_CHANCE = 0.15\r\n",
        "\r\n",
        "RANDOM_WALKS = os.path.join(DATA_DIR, 'random-walks.txt')\r\n",
        "def construct_random_walks(E, n, alpha, l, ofile):\r\n",
        "  if os.path.exists(ofile):\r\n",
        "    print('random walks already generated....')\r\n",
        "    return\r\n",
        "  f = open(ofile, 'w')\r\n",
        "  for i in range(E.shape[0]):\r\n",
        "    if i % 100 == 0:\r\n",
        "      print('{:d} random walks generated from {:d} vertices'.format(n*i,i))\r\n",
        "    for j in range(n):\r\n",
        "      curr = i\r\n",
        "      walk = [curr]\r\n",
        "      target_nodes = np.nonzero(E[curr])[l]\r\n",
        "      for k in range(l):\r\n",
        "        if np.random.random() < alpha and len(walk) > 5:\r\n",
        "          break\r\n",
        "        try:\r\n",
        "          curr = np.random.choice(target_nodes)\r\n",
        "          walk.append(curr)\r\n",
        "          target_nodes = np.nonzero(E[curr])[l]\r\n",
        "        except ValueError:\r\n",
        "          continue\r\n",
        "      f.write('{:s}\\n'.format(' '.join([str(x) for x in walk])))\r\n",
        "  print('{:d} random walks generated from {:d} vertices, COMPLETE'.format(n*i,i))\r\n",
        "  f.close()\r\n",
        "\r\n",
        "construct_random_walks(E, NUM_WALKS_PER_VERTEX, RESTART_CHANCE, MAX_LEN, RANDOM_WALKS)\r\n",
        "#This takes a REAALLY long time so I will skip this"
      ],
      "execution_count": null,
      "outputs": []
    },
    {
      "cell_type": "code",
      "metadata": {
        "id": "PvG7hxCf2vuG"
      },
      "source": [
        "W2V_MODEL_FILE = os.path.join(DATA_DIR,'w2v-neurips-papers.model')\r\n",
        "class Documents(object):\r\n",
        "  def __init__(self, input_file):\r\n",
        "    self.input_file = input_file\r\n",
        "\r\n",
        "  def __iter__(self):\r\n",
        "    with open(self.input_file, 'r') as f:\r\n",
        "      for i, line in enumerate(f):\r\n",
        "        if i % 1000 == 0:\r\n",
        "          logging.info('{:d} random walks extracted'.format(i))\r\n",
        "        yield line.strip().split()   "
      ],
      "execution_count": null,
      "outputs": []
    },
    {
      "cell_type": "code",
      "metadata": {
        "id": "72e2zplR4cDK"
      },
      "source": [
        "def train_word2vec_model(random_walks_file, model_file):\r\n",
        "  if os.path.exists(model_file):\r\n",
        "    print('Model file {:s} already exists, skipping training ...'.format(model_file))\r\n",
        "    return\r\n",
        "\r\n",
        "  docs = Documents(random_walks_file)\r\n",
        "  model = gensim.models.Word2Vec(docs, size=128,window=10, sg=1,min_count=2,workers=4)\r\n",
        "\r\n",
        "  model.train(docs, total_examples=model.corpus_count,\r\n",
        "              epoch=50)\r\n",
        "  model.save(model_file)\r\n",
        "\r\n",
        "train_word2vec_model(RANDOM_WALKS,W2V_MODEL_FILE)"
      ],
      "execution_count": 3,
      "outputs": []
    }
  ]
}