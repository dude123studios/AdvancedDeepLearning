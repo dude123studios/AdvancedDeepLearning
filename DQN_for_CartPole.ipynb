{
  "nbformat": 4,
  "nbformat_minor": 0,
  "metadata": {
    "colab": {
      "name": "DQN for CartPole",
      "provenance": [],
      "authorship_tag": "ABX9TyOCMAm5djCJDDigUw82kyO4",
      "include_colab_link": true
    },
    "kernelspec": {
      "name": "python3",
      "display_name": "Python 3"
    },
    "language_info": {
      "name": "python"
    },
    "accelerator": "GPU"
  },
  "cells": [
    {
      "cell_type": "markdown",
      "metadata": {
        "id": "view-in-github",
        "colab_type": "text"
      },
      "source": [
        "<a href=\"https://colab.research.google.com/github/dude123studios/AdvancedDeepLearning/blob/main/DQN_for_CartPole.ipynb\" target=\"_parent\"><img src=\"https://colab.research.google.com/assets/colab-badge.svg\" alt=\"Open In Colab\"/></a>"
      ]
    },
    {
      "cell_type": "code",
      "metadata": {
        "colab": {
          "base_uri": "https://localhost:8080/"
        },
        "id": "KbrSZHQ5UQRG",
        "outputId": "36789cc1-cf1a-4f44-c617-e6a578c4a590"
      },
      "source": [
        "!pip install gym"
      ],
      "execution_count": 1,
      "outputs": [
        {
          "output_type": "stream",
          "text": [
            "Requirement already satisfied: gym in /usr/local/lib/python3.7/dist-packages (0.17.3)\n",
            "Requirement already satisfied: pyglet<=1.5.0,>=1.4.0 in /usr/local/lib/python3.7/dist-packages (from gym) (1.5.0)\n",
            "Requirement already satisfied: scipy in /usr/local/lib/python3.7/dist-packages (from gym) (1.4.1)\n",
            "Requirement already satisfied: cloudpickle<1.7.0,>=1.2.0 in /usr/local/lib/python3.7/dist-packages (from gym) (1.3.0)\n",
            "Requirement already satisfied: numpy>=1.10.4 in /usr/local/lib/python3.7/dist-packages (from gym) (1.19.5)\n",
            "Requirement already satisfied: future in /usr/local/lib/python3.7/dist-packages (from pyglet<=1.5.0,>=1.4.0->gym) (0.16.0)\n"
          ],
          "name": "stdout"
        }
      ]
    },
    {
      "cell_type": "code",
      "metadata": {
        "id": "IvKBIo7e1GeO"
      },
      "source": [
        "import random\n",
        "import gym\n",
        "import math\n",
        "import numpy as np\n",
        "from collections import deque\n",
        "import tensorflow as tf\n",
        "from tensorflow.keras.models import Sequential\n",
        "from tensorflow.keras.layers import Dense\n",
        "from tensorflow.keras.optimizers import Adam"
      ],
      "execution_count": 2,
      "outputs": []
    },
    {
      "cell_type": "code",
      "metadata": {
        "id": "HYBZlAP-1bu8"
      },
      "source": [
        "EPOCHS = 200\n",
        "THRESHHOLD = 45\n",
        "MONITOR = False"
      ],
      "execution_count": 3,
      "outputs": []
    },
    {
      "cell_type": "code",
      "metadata": {
        "id": "fgJUp0ln1oIV"
      },
      "source": [
        "class DQN:\n",
        "    def __init__(self, env_string, batch_size = 64):\n",
        "        self.memory = deque(maxlen=100000)\n",
        "        self.env = gym.make(env_string)\n",
        "        self.input_size = self.env.observation_space.shape[0]\n",
        "        self.action_size = self.env.action_space.n\n",
        "\n",
        "        self.batch_size = batch_size\n",
        "        self.gamma = 1.0\n",
        "        self.epsilon = 1.0\n",
        "        self.epsilon_min = 0.01\n",
        "        self.epsilon_decay = 0.995\n",
        "\n",
        "        alpha = 0.01\n",
        "        alpha_decay = 0.01\n",
        "\n",
        "        if MONITOR:\n",
        "            self.env = gym.wrappers.Monitor(self.env, 'recording', force=True)\n",
        "        self.model = Sequential([\n",
        "            Dense(24, input_dim=self.input_size, activation='tanh'),\n",
        "            Dense(48, activation='tanh'),\n",
        "            Dense(self.action_size, activation='linear')\n",
        "        ])\n",
        "        self.model.compile(loss = 'mse', optimizer = Adam(alpha, decay=alpha_decay))\n",
        "    \n",
        "    def remember(self, state, action, reward, next_state, done):\n",
        "        self.memory.append((state, action, reward, next_state, done))\n",
        "\n",
        "    def preprocces_state(self, state):\n",
        "        return np.reshape(state, [1, self.input_size])\n",
        "\n",
        "    def replay(self, batch_size):\n",
        "        x_batch, y_batch = [], []\n",
        "        minibatch = random.sample(self.memory, min(len(self.memory), batch_size))\n",
        "        for state, action, reward, next_state, done in minibatch:\n",
        "            y_target = self.model.predict(state)\n",
        "            if done:\n",
        "                y_target[0][action] = reward \n",
        "            else:\n",
        "                y_target[0][action] = reward + self.gamma * np.max(self.model.predict(next_state)[0])\n",
        "            x_batch.append(state[0])\n",
        "            y_batch.append(y_target[0])\n",
        "        self.model.fit(np.array(x_batch), np.array(y_batch), batch_size=len(x_batch), verbose=0)\n",
        "    \n",
        "    def choose_action(self, state, epsilon):\n",
        "        if np.random.random() <= epsilon:\n",
        "            return self.env.action_space.sample()\n",
        "        else:\n",
        "            return np.argmax(self.model.predict(state))\n",
        "    \n",
        "    def train(self):\n",
        "        scores = deque(maxlen=100)\n",
        "        avg_scores = []\n",
        "        for e in range(EPOCHS):\n",
        "            state = self.env.reset()\n",
        "            state = self.preprocces_state(state)\n",
        "            done = False\n",
        "            i = 0\n",
        "            while not done:\n",
        "                action = self.choose_action(state, self.epsilon)\n",
        "                next_state, reward, done, _ = self.env.step(action)\n",
        "                next_state = self.preprocces_state(next_state)\n",
        "                self.remember(state, action, reward, next_state, done)\n",
        "                state = next_state\n",
        "                self.epsilon = max(self.epsilon_min, self.epsilon_decay*self.epsilon)\n",
        "                i += 1\n",
        "            scores.append(i)\n",
        "            mean_score = np.mean(scores)\n",
        "            avg_scores.append(mean_score)\n",
        "            if mean_score >= THRESHHOLD and e >= 100:\n",
        "                print('Ran {} episodes. Solved after {} trials ✔'.format(e, e-100))\n",
        "                return avg_scores\n",
        "            if e % 100 == 0:\n",
        "                print('[Episode {}] - Mean survival time over last 100 episodes was {} ticks.'.format(e, mean_score))\n",
        "            self.replay(self.batch_size)\n",
        "\n",
        "        print('Did not solve after {} episodes'.format(e))\n",
        "        return avg_scores"
      ],
      "execution_count": 4,
      "outputs": []
    },
    {
      "cell_type": "code",
      "metadata": {
        "colab": {
          "base_uri": "https://localhost:8080/"
        },
        "id": "LAdbDn8sPSEg",
        "outputId": "4f51748c-7be6-4c9f-f0cb-1a0a53f1aca8"
      },
      "source": [
        "env_string = 'CartPole-v0'\n",
        "agent = DQN(env_string)\n",
        "scores = agent.train()"
      ],
      "execution_count": 5,
      "outputs": [
        {
          "output_type": "stream",
          "text": [
            "[Episode 0] - Mean survival time over last 100 episodes was 19.0 ticks.\n",
            "[Episode 100] - Mean survival time over last 100 episodes was 17.76 ticks.\n",
            "Ran 168 episodes. Solved after 68 trials ✔\n"
          ],
          "name": "stdout"
        }
      ]
    }
  ]
}