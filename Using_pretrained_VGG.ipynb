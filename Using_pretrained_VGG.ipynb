{
  "nbformat": 4,
  "nbformat_minor": 0,
  "metadata": {
    "colab": {
      "name": "Using pretrained VGG",
      "provenance": [],
      "collapsed_sections": [],
      "authorship_tag": "ABX9TyPDvaQRsYiTDufHVJqzg5F8",
      "include_colab_link": true
    },
    "kernelspec": {
      "name": "python3",
      "display_name": "Python 3"
    }
  },
  "cells": [
    {
      "cell_type": "markdown",
      "metadata": {
        "id": "view-in-github",
        "colab_type": "text"
      },
      "source": [
        "<a href=\"https://colab.research.google.com/github/dude123studios/AdvancedDeepLearning/blob/main/Using_pretrained_VGG.ipynb\" target=\"_parent\"><img src=\"https://colab.research.google.com/assets/colab-badge.svg\" alt=\"Open In Colab\"/></a>"
      ]
    },
    {
      "cell_type": "code",
      "metadata": {
        "colab": {
          "base_uri": "https://localhost:8080/"
        },
        "id": "Uw7LZIndpq6A",
        "outputId": "b143cc17-4075-41db-ca65-3edafdd1a6f4"
      },
      "source": [
        "import tensorflow as tf\r\n",
        "from tensorflow.keras.applications.vgg16 import VGG16\r\n",
        "\r\n",
        "model = VGG16()\r\n",
        "model.summary()"
      ],
      "execution_count": 4,
      "outputs": [
        {
          "output_type": "stream",
          "text": [
            "Downloading data from https://storage.googleapis.com/tensorflow/keras-applications/vgg16/vgg16_weights_tf_dim_ordering_tf_kernels.h5\n",
            "553467904/553467096 [==============================] - 4s 0us/step\n",
            "Model: \"vgg16\"\n",
            "_________________________________________________________________\n",
            "Layer (type)                 Output Shape              Param #   \n",
            "=================================================================\n",
            "input_1 (InputLayer)         [(None, 224, 224, 3)]     0         \n",
            "_________________________________________________________________\n",
            "block1_conv1 (Conv2D)        (None, 224, 224, 64)      1792      \n",
            "_________________________________________________________________\n",
            "block1_conv2 (Conv2D)        (None, 224, 224, 64)      36928     \n",
            "_________________________________________________________________\n",
            "block1_pool (MaxPooling2D)   (None, 112, 112, 64)      0         \n",
            "_________________________________________________________________\n",
            "block2_conv1 (Conv2D)        (None, 112, 112, 128)     73856     \n",
            "_________________________________________________________________\n",
            "block2_conv2 (Conv2D)        (None, 112, 112, 128)     147584    \n",
            "_________________________________________________________________\n",
            "block2_pool (MaxPooling2D)   (None, 56, 56, 128)       0         \n",
            "_________________________________________________________________\n",
            "block3_conv1 (Conv2D)        (None, 56, 56, 256)       295168    \n",
            "_________________________________________________________________\n",
            "block3_conv2 (Conv2D)        (None, 56, 56, 256)       590080    \n",
            "_________________________________________________________________\n",
            "block3_conv3 (Conv2D)        (None, 56, 56, 256)       590080    \n",
            "_________________________________________________________________\n",
            "block3_pool (MaxPooling2D)   (None, 28, 28, 256)       0         \n",
            "_________________________________________________________________\n",
            "block4_conv1 (Conv2D)        (None, 28, 28, 512)       1180160   \n",
            "_________________________________________________________________\n",
            "block4_conv2 (Conv2D)        (None, 28, 28, 512)       2359808   \n",
            "_________________________________________________________________\n",
            "block4_conv3 (Conv2D)        (None, 28, 28, 512)       2359808   \n",
            "_________________________________________________________________\n",
            "block4_pool (MaxPooling2D)   (None, 14, 14, 512)       0         \n",
            "_________________________________________________________________\n",
            "block5_conv1 (Conv2D)        (None, 14, 14, 512)       2359808   \n",
            "_________________________________________________________________\n",
            "block5_conv2 (Conv2D)        (None, 14, 14, 512)       2359808   \n",
            "_________________________________________________________________\n",
            "block5_conv3 (Conv2D)        (None, 14, 14, 512)       2359808   \n",
            "_________________________________________________________________\n",
            "block5_pool (MaxPooling2D)   (None, 7, 7, 512)         0         \n",
            "_________________________________________________________________\n",
            "flatten (Flatten)            (None, 25088)             0         \n",
            "_________________________________________________________________\n",
            "fc1 (Dense)                  (None, 4096)              102764544 \n",
            "_________________________________________________________________\n",
            "fc2 (Dense)                  (None, 4096)              16781312  \n",
            "_________________________________________________________________\n",
            "predictions (Dense)          (None, 1000)              4097000   \n",
            "=================================================================\n",
            "Total params: 138,357,544\n",
            "Trainable params: 138,357,544\n",
            "Non-trainable params: 0\n",
            "_________________________________________________________________\n"
          ],
          "name": "stdout"
        }
      ]
    },
    {
      "cell_type": "code",
      "metadata": {
        "id": "JgEgak5dqg3d",
        "colab": {
          "base_uri": "https://localhost:8080/"
        },
        "outputId": "fe8883c7-6072-4c3b-ac59-bfbd8a718eb7"
      },
      "source": [
        "import cv2 \r\n",
        "import numpy as np\r\n",
        "im = cv2.resize(cv2.imread('Cute-Cats-063.jpg'),(224,224))\r\n",
        "im = np.expand_dims(im,axis=0)\r\n",
        "im.astype('float32')\r\n"
      ],
      "execution_count": 2,
      "outputs": [
        {
          "output_type": "execute_result",
          "data": {
            "text/plain": [
              "array([[[[ 50.,  58.,  27.],\n",
              "         [ 48.,  56.,  26.],\n",
              "         [ 50.,  58.,  28.],\n",
              "         ...,\n",
              "         [ 21.,  76.,  49.],\n",
              "         [ 29.,  78.,  48.],\n",
              "         [ 40.,  90.,  53.]],\n",
              "\n",
              "        [[ 51.,  59.,  28.],\n",
              "         [ 48.,  56.,  25.],\n",
              "         [ 49.,  57.,  27.],\n",
              "         ...,\n",
              "         [ 26.,  82.,  53.],\n",
              "         [ 27.,  84.,  51.],\n",
              "         [ 38.,  96.,  57.]],\n",
              "\n",
              "        [[ 49.,  58.,  27.],\n",
              "         [ 50.,  58.,  28.],\n",
              "         [ 50.,  58.,  28.],\n",
              "         ...,\n",
              "         [ 32.,  91.,  60.],\n",
              "         [ 31.,  93.,  57.],\n",
              "         [ 37., 102.,  60.]],\n",
              "\n",
              "        ...,\n",
              "\n",
              "        [[ 21.,  48.,  39.],\n",
              "         [ 16.,  45.,  36.],\n",
              "         [ 15.,  46.,  37.],\n",
              "         ...,\n",
              "         [185., 200., 209.],\n",
              "         [130., 147., 156.],\n",
              "         [176., 193., 202.]],\n",
              "\n",
              "        [[ 16.,  48.,  37.],\n",
              "         [ 16.,  52.,  40.],\n",
              "         [ 18.,  53.,  43.],\n",
              "         ...,\n",
              "         [189., 204., 213.],\n",
              "         [171., 188., 197.],\n",
              "         [170., 187., 196.]],\n",
              "\n",
              "        [[ 26.,  62.,  48.],\n",
              "         [ 25.,  66.,  51.],\n",
              "         [ 20.,  62.,  51.],\n",
              "         ...,\n",
              "         [193., 208., 217.],\n",
              "         [182., 199., 208.],\n",
              "         [156., 172., 181.]]]], dtype=float32)"
            ]
          },
          "metadata": {
            "tags": []
          },
          "execution_count": 2
        }
      ]
    },
    {
      "cell_type": "code",
      "metadata": {
        "colab": {
          "base_uri": "https://localhost:8080/",
          "height": 282
        },
        "id": "RSBGqgZKCRdd",
        "outputId": "6dcd7fb6-ee52-4c7b-e37c-5cb5f7f38ec0"
      },
      "source": [
        "output = model.predict(im)\r\n",
        "index = np.argmax(output)\r\n",
        "print(index)\r\n",
        "\r\n",
        "import matplotlib.pyplot as plt\r\n",
        "plt.plot(output.ravel())\r\n",
        "plt.show()"
      ],
      "execution_count": 8,
      "outputs": [
        {
          "output_type": "stream",
          "text": [
            "278\n"
          ],
          "name": "stdout"
        },
        {
          "output_type": "display_data",
          "data": {
            "image/png": "[encoded data removed]",
            "text/plain": [
              "<Figure size 432x288 with 1 Axes>"
            ]
          },
          "metadata": {
            "tags": [],
            "needs_background": "light"
          }
        }
      ]
    },
    {
      "cell_type": "code",
      "metadata": {
        "colab": {
          "base_uri": "https://localhost:8080/"
        },
        "id": "cNObFDn-DMXM",
        "outputId": "6d5ab5af-77ca-4cf9-c7dc-c7475d186db1"
      },
      "source": [
        "new_model = tf.keras.models.Model(inputs=model.input,outputs=model.get_layer('block4_pool').output)\r\n",
        "output = new_model.predict(im)\r\n",
        "print(output)"
      ],
      "execution_count": 10,
      "outputs": [
        {
          "output_type": "stream",
          "text": [
            "[[[[0.0000000e+00 0.0000000e+00 1.4204256e+02 ... 5.4646683e+01\n",
            "    0.0000000e+00 0.0000000e+00]\n",
            "   [0.0000000e+00 0.0000000e+00 4.1048538e+01 ... 0.0000000e+00\n",
            "    0.0000000e+00 0.0000000e+00]\n",
            "   [0.0000000e+00 0.0000000e+00 1.0836384e+02 ... 0.0000000e+00\n",
            "    0.0000000e+00 0.0000000e+00]\n",
            "   ...\n",
            "   [9.5386902e+01 0.0000000e+00 4.0447208e+02 ... 3.4181198e+02\n",
            "    8.7121338e+01 0.0000000e+00]\n",
            "   [2.1837285e+02 0.0000000e+00 4.1124875e+02 ... 0.0000000e+00\n",
            "    0.0000000e+00 0.0000000e+00]\n",
            "   [1.8263818e+02 0.0000000e+00 3.0659402e+02 ... 0.0000000e+00\n",
            "    0.0000000e+00 0.0000000e+00]]\n",
            "\n",
            "  [[0.0000000e+00 0.0000000e+00 3.2486214e+01 ... 0.0000000e+00\n",
            "    0.0000000e+00 0.0000000e+00]\n",
            "   [0.0000000e+00 0.0000000e+00 0.0000000e+00 ... 0.0000000e+00\n",
            "    9.0426964e+01 0.0000000e+00]\n",
            "   [0.0000000e+00 0.0000000e+00 0.0000000e+00 ... 0.0000000e+00\n",
            "    0.0000000e+00 0.0000000e+00]\n",
            "   ...\n",
            "   [0.0000000e+00 0.0000000e+00 0.0000000e+00 ... 0.0000000e+00\n",
            "    2.9116629e+02 0.0000000e+00]\n",
            "   [1.7244154e-01 0.0000000e+00 9.1131294e+01 ... 0.0000000e+00\n",
            "    0.0000000e+00 0.0000000e+00]\n",
            "   [0.0000000e+00 0.0000000e+00 2.8254901e+02 ... 0.0000000e+00\n",
            "    0.0000000e+00 0.0000000e+00]]\n",
            "\n",
            "  [[0.0000000e+00 8.2578621e+01 2.8166533e+01 ... 2.2037781e+02\n",
            "    0.0000000e+00 0.0000000e+00]\n",
            "   [0.0000000e+00 0.0000000e+00 0.0000000e+00 ... 0.0000000e+00\n",
            "    1.0638777e+02 0.0000000e+00]\n",
            "   [0.0000000e+00 4.9859394e+01 0.0000000e+00 ... 0.0000000e+00\n",
            "    1.2492704e+02 0.0000000e+00]\n",
            "   ...\n",
            "   [0.0000000e+00 0.0000000e+00 0.0000000e+00 ... 0.0000000e+00\n",
            "    6.4059473e+02 0.0000000e+00]\n",
            "   [0.0000000e+00 0.0000000e+00 0.0000000e+00 ... 0.0000000e+00\n",
            "    0.0000000e+00 0.0000000e+00]\n",
            "   [0.0000000e+00 0.0000000e+00 6.5615448e+01 ... 0.0000000e+00\n",
            "    0.0000000e+00 0.0000000e+00]]\n",
            "\n",
            "  ...\n",
            "\n",
            "  [[6.2988586e+01 0.0000000e+00 0.0000000e+00 ... 1.2190938e+02\n",
            "    6.1919061e+02 0.0000000e+00]\n",
            "   [0.0000000e+00 0.0000000e+00 0.0000000e+00 ... 2.1774599e+02\n",
            "    7.4626886e+02 0.0000000e+00]\n",
            "   [0.0000000e+00 0.0000000e+00 1.6000662e+02 ... 0.0000000e+00\n",
            "    7.8506683e+01 0.0000000e+00]\n",
            "   ...\n",
            "   [0.0000000e+00 0.0000000e+00 0.0000000e+00 ... 0.0000000e+00\n",
            "    9.8049371e+02 1.3316747e+02]\n",
            "   [0.0000000e+00 0.0000000e+00 0.0000000e+00 ... 0.0000000e+00\n",
            "    1.4841487e+01 3.1641977e+02]\n",
            "   [7.2308502e+01 0.0000000e+00 0.0000000e+00 ... 0.0000000e+00\n",
            "    0.0000000e+00 5.5186985e+01]]\n",
            "\n",
            "  [[1.6073157e+02 0.0000000e+00 2.1893806e+02 ... 2.1283562e+01\n",
            "    1.2421591e+02 0.0000000e+00]\n",
            "   [0.0000000e+00 0.0000000e+00 1.4941189e+01 ... 0.0000000e+00\n",
            "    1.5450232e+02 0.0000000e+00]\n",
            "   [0.0000000e+00 0.0000000e+00 1.6562325e+02 ... 0.0000000e+00\n",
            "    0.0000000e+00 0.0000000e+00]\n",
            "   ...\n",
            "   [0.0000000e+00 0.0000000e+00 0.0000000e+00 ... 0.0000000e+00\n",
            "    6.8052203e+02 4.3202716e+02]\n",
            "   [0.0000000e+00 0.0000000e+00 0.0000000e+00 ... 9.3694221e+01\n",
            "    0.0000000e+00 2.3531087e+02]\n",
            "   [7.2836731e+01 0.0000000e+00 0.0000000e+00 ... 0.0000000e+00\n",
            "    0.0000000e+00 5.7906162e+01]]\n",
            "\n",
            "  [[2.2084354e+01 0.0000000e+00 1.7238402e+02 ... 0.0000000e+00\n",
            "    0.0000000e+00 0.0000000e+00]\n",
            "   [0.0000000e+00 0.0000000e+00 0.0000000e+00 ... 0.0000000e+00\n",
            "    1.2948117e+01 0.0000000e+00]\n",
            "   [0.0000000e+00 0.0000000e+00 0.0000000e+00 ... 0.0000000e+00\n",
            "    3.6802540e+01 0.0000000e+00]\n",
            "   ...\n",
            "   [0.0000000e+00 0.0000000e+00 0.0000000e+00 ... 2.1214290e+02\n",
            "    5.5984521e+02 3.4239209e+02]\n",
            "   [0.0000000e+00 0.0000000e+00 0.0000000e+00 ... 4.8495273e+02\n",
            "    6.6088776e+01 2.9695746e+02]\n",
            "   [3.6837212e+01 0.0000000e+00 0.0000000e+00 ... 5.0260754e+02\n",
            "    0.0000000e+00 4.0289468e+02]]]]\n"
          ],
          "name": "stdout"
        }
      ]
    }
  ]
}