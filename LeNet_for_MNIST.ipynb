{
  "nbformat": 4,
  "nbformat_minor": 0,
  "metadata": {
    "colab": {
      "name": "LeNet for MNIST",
      "provenance": [],
      "collapsed_sections": [],
      "authorship_tag": "ABX9TyPJiBGTAt8OhpBBeWhav8s5",
      "include_colab_link": true
    },
    "kernelspec": {
      "name": "python3",
      "display_name": "Python 3"
    }
  },
  "cells": [
    {
      "cell_type": "markdown",
      "metadata": {
        "id": "view-in-github",
        "colab_type": "text"
      },
      "source": [
        "<a href=\"https://colab.research.google.com/github/dude123studios/AdvancedDeepLearning/blob/main/LeNet_for_MNIST.ipynb\" target=\"_parent\"><img src=\"https://colab.research.google.com/assets/colab-badge.svg\" alt=\"Open In Colab\"/></a>"
      ]
    },
    {
      "cell_type": "code",
      "metadata": {
        "colab": {
          "base_uri": "https://localhost:8080/"
        },
        "id": "TWqpwusEvJ-v",
        "outputId": "2fbc3cd7-59a8-4f39-c343-00f01dedf539"
      },
      "source": [
        "import tensorflow as tf\r\n",
        "from tensorflow.keras import datasets, layers, models, optimizers\r\n",
        "\r\n",
        "EPOCHS = 5\r\n",
        "BATCH_SIZE = 128\r\n",
        "VERBOSE = 1\r\n",
        "OPTIMIZER = optimizers.Adam()\r\n",
        "VALIDATION_SPLIT = 0.95\r\n",
        "\r\n",
        "IMG_ROWS, IMG_COLS = 28,28\r\n",
        "INPUT_SHAPE = (IMG_ROWS, IMG_COLS,1)\r\n",
        "NB_CLASSES = 10\r\n",
        "\r\n",
        "def build(input_shape,classes):\r\n",
        "    model = models.Sequential()\r\n",
        "\r\n",
        "    model.add(layers.Conv2D(20,(5,5),activation='relu',input_shape=input_shape))\r\n",
        "    model.add(layers.MaxPool2D(pool_size=(2,2),strides=(2,2)))\r\n",
        "\r\n",
        "    model.add(layers.Conv2D(50, (5, 5), activation='relu'))\r\n",
        "    model.add(layers.MaxPool2D(pool_size=(2, 2), strides=(2, 2)))\r\n",
        "\r\n",
        "\r\n",
        "    model.add(layers.Flatten())\r\n",
        "    model.add(layers.Dense(500,activation='relu'))\r\n",
        "    model.add(layers.Dense(classes,activation='softmax'))\r\n",
        "    return model\r\n",
        "\r\n",
        "(x_train,y_train),(x_test,y_test) = datasets.mnist.load_data()\r\n",
        "\r\n",
        "x_train = x_train.reshape((60000,28,28,1))\r\n",
        "x_test = x_test.reshape((10000,28,28,1))\r\n",
        "\r\n",
        "x_test = x_test/255.0\r\n",
        "x_train = x_train/255.0\r\n",
        "\r\n",
        "x_train = x_train.astype('float32')\r\n",
        "x_test = x_test.astype('float32')\r\n",
        "\r\n",
        "y_train = tf.keras.utils.to_categorical(y_train,NB_CLASSES)\r\n",
        "y_test = tf.keras.utils.to_categorical(y_test,NB_CLASSES)\r\n",
        "\r\n",
        "model = build(INPUT_SHAPE,NB_CLASSES)\r\n",
        "model.compile(loss='categorical_crossentropy',optimizer=OPTIMIZER,metrics=['accuracy'])\r\n",
        "\r\n",
        "model.summary()\r\n",
        "\r\n",
        "history = model.fit(x_train,y_train,verbose=VERBOSE,epochs=EPOCHS,validation_split=VALIDATION_SPLIT)\r\n",
        "\r\n",
        "score = model.evaluate(x_test,y_test,verbose=VERBOSE)\r\n",
        "print('\\n test score: ',score[0])\r\n",
        "print('Test Accuracy: ',score[1])\r\n"
      ],
      "execution_count": null,
      "outputs": [
        {
          "output_type": "stream",
          "text": [
            "Model: \"sequential\"\n",
            "_________________________________________________________________\n",
            "Layer (type)                 Output Shape              Param #   \n",
            "=================================================================\n",
            "conv2d (Conv2D)              (None, 24, 24, 20)        520       \n",
            "_________________________________________________________________\n",
            "max_pooling2d (MaxPooling2D) (None, 12, 12, 20)        0         \n",
            "_________________________________________________________________\n",
            "conv2d_1 (Conv2D)            (None, 8, 8, 50)          25050     \n",
            "_________________________________________________________________\n",
            "max_pooling2d_1 (MaxPooling2 (None, 4, 4, 50)          0         \n",
            "_________________________________________________________________\n",
            "flatten (Flatten)            (None, 800)               0         \n",
            "_________________________________________________________________\n",
            "dense (Dense)                (None, 500)               400500    \n",
            "_________________________________________________________________\n",
            "dense_1 (Dense)              (None, 10)                5010      \n",
            "=================================================================\n",
            "Total params: 431,080\n",
            "Trainable params: 431,080\n",
            "Non-trainable params: 0\n",
            "_________________________________________________________________\n",
            "Epoch 1/5\n",
            "94/94 [==============================] - 15s 158ms/step - loss: 1.1251 - accuracy: 0.6337 - val_loss: 0.2870 - val_accuracy: 0.9121\n",
            "Epoch 2/5\n",
            "94/94 [==============================] - 15s 162ms/step - loss: 0.2040 - accuracy: 0.9434 - val_loss: 0.1687 - val_accuracy: 0.9499\n",
            "Epoch 3/5\n",
            "94/94 [==============================] - 15s 158ms/step - loss: 0.1006 - accuracy: 0.9711 - val_loss: 0.1246 - val_accuracy: 0.9624\n",
            "Epoch 4/5\n",
            "94/94 [==============================] - 15s 163ms/step - loss: 0.0738 - accuracy: 0.9791 - val_loss: 0.1503 - val_accuracy: 0.9529\n",
            "Epoch 5/5\n",
            "94/94 [==============================] - 15s 158ms/step - loss: 0.0439 - accuracy: 0.9858 - val_loss: 0.1331 - val_accuracy: 0.9595\n",
            "313/313 [==============================] - 2s 8ms/step - loss: 0.1184 - accuracy: 0.9617\n",
            "\n",
            " test score:  0.11837756633758545\n",
            "Test Accuracy:  0.9617000222206116\n"
          ],
          "name": "stdout"
        }
      ]
    },
    {
      "cell_type": "code",
      "metadata": {
        "colab": {
          "base_uri": "https://localhost:8080/"
        },
        "id": "asKmtVAUwP0T",
        "outputId": "41c39fac-736b-4778-ad68-653906012ef3"
      },
      "source": [
        "history = model.fit(x_train,y_train,verbose=VERBOSE,epochs=EPOCHS,validation_split=VALIDATION_SPLIT)\r\n",
        "\r\n",
        "score = model.evaluate(x_test,y_test,verbose=VERBOSE)\r\n",
        "print('\\n test score: ',score[0])\r\n",
        "print('Test Accuracy: ',score[1])"
      ],
      "execution_count": null,
      "outputs": [
        {
          "output_type": "stream",
          "text": [
            "Epoch 1/5\n",
            "94/94 [==============================] - 14s 153ms/step - loss: 0.0365 - accuracy: 0.9910 - val_loss: 0.1278 - val_accuracy: 0.9617\n",
            "Epoch 2/5\n",
            "94/94 [==============================] - 15s 156ms/step - loss: 0.0401 - accuracy: 0.9887 - val_loss: 0.1201 - val_accuracy: 0.9642\n",
            "Epoch 3/5\n",
            "94/94 [==============================] - 15s 156ms/step - loss: 0.0184 - accuracy: 0.9950 - val_loss: 0.1107 - val_accuracy: 0.9688\n",
            "Epoch 4/5\n",
            "94/94 [==============================] - 14s 152ms/step - loss: 0.0113 - accuracy: 0.9970 - val_loss: 0.1262 - val_accuracy: 0.9671\n",
            "Epoch 5/5\n",
            "94/94 [==============================] - 15s 159ms/step - loss: 0.0193 - accuracy: 0.9930 - val_loss: 0.1263 - val_accuracy: 0.9630\n",
            "313/313 [==============================] - 2s 8ms/step - loss: 0.1089 - accuracy: 0.9677\n",
            "\n",
            " test score:  0.10894837975502014\n",
            "Test Accuracy:  0.9677000045776367\n"
          ],
          "name": "stdout"
        }
      ]
    }
  ]
}