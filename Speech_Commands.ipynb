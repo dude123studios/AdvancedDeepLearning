{
  "nbformat": 4,
  "nbformat_minor": 0,
  "metadata": {
    "colab": {
      "name": "Speech Commands(Tensorflow tutorial I coded manually)",
      "provenance": [],
      "collapsed_sections": [],
      "authorship_tag": "ABX9TyOIECAUx2NWtAT5uOYsGqOk",
      "include_colab_link": true
    },
    "kernelspec": {
      "name": "python3",
      "display_name": "Python 3"
    },
    "accelerator": "GPU"
  },
  "cells": [
    {
      "cell_type": "markdown",
      "metadata": {
        "id": "view-in-github",
        "colab_type": "text"
      },
      "source": [
        "<a href=\"https://colab.research.google.com/github/dude123studios/AdvancedDeepLearning/blob/main/Speech_Commands.ipynb\" target=\"_parent\"><img src=\"https://colab.research.google.com/assets/colab-badge.svg\" alt=\"Open In Colab\"/></a>"
      ]
    },
    {
      "cell_type": "code",
      "metadata": {
        "id": "SQ3rP3rJuns_"
      },
      "source": [
        "import os\r\n",
        "import pathlib\r\n",
        "import matplotlib.pyplot as plt\r\n",
        "import numpy as np\r\n",
        "import seaborn as sns\r\n",
        "import tensorflow as tf\r\n",
        "from tensorflow.keras.layers.experimental import preprocessing\r\n",
        "from tensorflow.keras import layers\r\n",
        "from tensorflow.keras import models\r\n",
        "from IPython import display"
      ],
      "execution_count": 1,
      "outputs": []
    },
    {
      "cell_type": "code",
      "metadata": {
        "id": "Y7BtHEVrwNdL",
        "colab": {
          "base_uri": "https://localhost:8080/"
        },
        "outputId": "1d219d62-b103-462d-d152-e1bc54d7e5f8"
      },
      "source": [
        "data_dir = pathlib.Path('data/mini_speech_commands')\r\n",
        "if not data_dir.exists():\r\n",
        "  tf.keras.utils.get_file(\r\n",
        "      'mini_speech_commands.zip',\r\n",
        "      origin=\"http://storage.googleapis.com/download.tensorflow.org/data/mini_speech_commands.zip\",\r\n",
        "      extract=True,cache_dir='.', cache_subdir='data')"
      ],
      "execution_count": 2,
      "outputs": [
        {
          "output_type": "stream",
          "text": [
            "Downloading data from http://storage.googleapis.com/download.tensorflow.org/data/mini_speech_commands.zip\n",
            "182083584/182082353 [==============================] - 1s 0us/step\n"
          ],
          "name": "stdout"
        }
      ]
    },
    {
      "cell_type": "code",
      "metadata": {
        "colab": {
          "base_uri": "https://localhost:8080/"
        },
        "id": "vzCe-QFkdnbh",
        "outputId": "8d9707e4-c729-4d6b-97c4-f109e00d18ef"
      },
      "source": [
        "commands = np.array(tf.io.gfile.listdir(str(data_dir)))\r\n",
        "commands = commands[commands != 'README.md']\r\n",
        "print('Commands:', commands)"
      ],
      "execution_count": 3,
      "outputs": [
        {
          "output_type": "stream",
          "text": [
            "Commands: ['stop' 'yes' 'go' 'down' 'left' 'no' 'right' 'up']\n"
          ],
          "name": "stdout"
        }
      ]
    },
    {
      "cell_type": "code",
      "metadata": {
        "colab": {
          "base_uri": "https://localhost:8080/"
        },
        "id": "dyEAPo54drqB",
        "outputId": "887be836-9022-4132-b139-0bfb38acaf17"
      },
      "source": [
        "filenames = tf.io.gfile.glob(str(data_dir) + '/*/*')\r\n",
        "filenames = tf.random.shuffle(filenames)\r\n",
        "num_samples = len(filenames)\r\n",
        "\r\n",
        "print('Number of total examples:', num_samples)\r\n",
        "print('Number of examples per label:',len(tf.io.gfile.listdir(str(data_dir/commands[0]))))\r\n",
        "print('Example file tensor:', filenames[0])"
      ],
      "execution_count": 4,
      "outputs": [
        {
          "output_type": "stream",
          "text": [
            "Number of total examples: 8000\n",
            "Number of examples per label: 1000\n",
            "Example file tensor: tf.Tensor(b'data/mini_speech_commands/yes/2197f41c_nohash_2.wav', shape=(), dtype=string)\n"
          ],
          "name": "stdout"
        }
      ]
    },
    {
      "cell_type": "code",
      "metadata": {
        "id": "BiLzjTGveJXQ"
      },
      "source": [
        "train_files = filenames[:6400]\r\n",
        "val_files = filenames[6400: 6400 + 800]\r\n",
        "test_files = filenames[-800:]"
      ],
      "execution_count": 5,
      "outputs": []
    },
    {
      "cell_type": "code",
      "metadata": {
        "id": "t1sCrdRjeXDt"
      },
      "source": [
        "def decode_audio(audio):\r\n",
        "  audio, _ = tf.audio.decode_wav(audio)\r\n",
        "  return tf.squeeze(audio, axis=-1)"
      ],
      "execution_count": 6,
      "outputs": []
    },
    {
      "cell_type": "code",
      "metadata": {
        "id": "PN6R9vSyewwP"
      },
      "source": [
        "def get_label(file_path):\r\n",
        "  parts = tf.strings.split(file_path, os.path.sep)\r\n",
        "  return parts[-2]"
      ],
      "execution_count": 7,
      "outputs": []
    },
    {
      "cell_type": "code",
      "metadata": {
        "id": "Dc23HTV4fA0n"
      },
      "source": [
        "def get_waveform_and_label(file_path):\r\n",
        "  label = get_label(file_path)\r\n",
        "  audio_binary = tf.io.read_file(file_path)\r\n",
        "  waveform = decode_audio(audio_binary)\r\n",
        "  return waveform, label"
      ],
      "execution_count": 8,
      "outputs": []
    },
    {
      "cell_type": "code",
      "metadata": {
        "id": "JuRFN66LfI0T"
      },
      "source": [
        "dataset = tf.data.Dataset.from_tensor_slices(train_files)\r\n",
        "dataset = dataset.map(get_waveform_and_label)"
      ],
      "execution_count": 9,
      "outputs": []
    },
    {
      "cell_type": "markdown",
      "metadata": {
        "id": "LTGzo6oafljT"
      },
      "source": [
        "Now that we made our own tfds, we have to convert the WAV files to a spectrogram, so that we can use a model similar to AlexNet to classify the sounds. spectrograms are image representations of audio, which makes it easier to deal with 16,000 inputs a second, rather than having to use a atrous convolution"
      ]
    },
    {
      "cell_type": "code",
      "metadata": {
        "id": "D6LBuWZnfePU"
      },
      "source": [
        "def get_spectrogram(waveform):\r\n",
        "  zero_padding = tf.zeros([16000] - tf.shape(waveform), dtype=tf.float32)\r\n",
        "  waveform = tf.cast(waveform, tf.float32)\r\n",
        "  equal_length = tf.concat([waveform, zero_padding], 0)\r\n",
        "  spectrogram = tf.signal.stft(\r\n",
        "      equal_length, frame_length=255, frame_step=128)\r\n",
        "\r\n",
        "  spectrogram = tf.abs(spectrogram)\r\n",
        "\r\n",
        "  return spectrogram"
      ],
      "execution_count": 10,
      "outputs": []
    },
    {
      "cell_type": "code",
      "metadata": {
        "id": "z7H6oNrrgZQo"
      },
      "source": [
        "def get_spectrogram_and_label(audio,label):\r\n",
        "  spectrogram = get_spectrogram(audio)\r\n",
        "  spectrogram = tf.expand_dims(spectrogram, -1)\r\n",
        "  label_id = tf.argmax(label==commands)\r\n",
        "  return spectrogram, label_id"
      ],
      "execution_count": 11,
      "outputs": []
    },
    {
      "cell_type": "code",
      "metadata": {
        "id": "lZ_P55MrglwC"
      },
      "source": [
        "dataset = dataset.map(get_spectrogram_and_label)"
      ],
      "execution_count": 12,
      "outputs": []
    },
    {
      "cell_type": "code",
      "metadata": {
        "id": "GsoaL7J5hPKe"
      },
      "source": [
        "def preprocess_dataset(files):\r\n",
        "  files_ds = tf.data.Dataset.from_tensor_slices(files)\r\n",
        "  output_ds = files_ds.map(get_waveform_and_label)\r\n",
        "  output_ds = output_ds.map(get_spectrogram_and_label)\r\n",
        "  return output_ds\r\n",
        "\r\n",
        "train = dataset\r\n",
        "val = preprocess_dataset(val_files)\r\n",
        "test = preprocess_dataset(test_files)"
      ],
      "execution_count": 13,
      "outputs": []
    },
    {
      "cell_type": "markdown",
      "metadata": {
        "id": "vE5P7yARiCw1"
      },
      "source": [
        "Define some hyperperameters"
      ]
    },
    {
      "cell_type": "code",
      "metadata": {
        "id": "DPP3kKgah9-J"
      },
      "source": [
        "BATCH_SIZE = 32\r\n",
        "EPOCHS = 20\r\n",
        "train = train.batch(BATCH_SIZE)\r\n",
        "val = val.batch(BATCH_SIZE)"
      ],
      "execution_count": 14,
      "outputs": []
    },
    {
      "cell_type": "code",
      "metadata": {
        "id": "OEwmy5FyiRjM"
      },
      "source": [
        "train = train.cache()\r\n",
        "val = val.cache()"
      ],
      "execution_count": 15,
      "outputs": []
    },
    {
      "cell_type": "code",
      "metadata": {
        "colab": {
          "base_uri": "https://localhost:8080/"
        },
        "id": "jnmFBTRUicwM",
        "outputId": "b3e2f572-e07c-46ce-ee65-924e627fc9a9"
      },
      "source": [
        "\r\n",
        "for spectrogram, _ in dataset.take(1):\r\n",
        "  input_shape = spectrogram.shape\r\n",
        "print(input_shape)"
      ],
      "execution_count": 16,
      "outputs": [
        {
          "output_type": "stream",
          "text": [
            "(124, 129, 1)\n"
          ],
          "name": "stdout"
        }
      ]
    },
    {
      "cell_type": "markdown",
      "metadata": {
        "id": "7gvZCapBpWcO"
      },
      "source": [
        "Define model"
      ]
    },
    {
      "cell_type": "code",
      "metadata": {
        "id": "YV2nW8z1kE0e"
      },
      "source": [
        "def get_model():\r\n",
        "  norm_layer = preprocessing.Normalization()\r\n",
        "  norm_layer.adapt(dataset.map(lambda x, _: x))\r\n",
        "\r\n",
        "  input_ = tf.keras.layers.Input(shape=input_shape)\r\n",
        "  x = preprocessing.Resizing(128,128)(input_)\r\n",
        "  x = norm_layer(x)\r\n",
        "\r\n",
        "  x = layers.Conv2D(32,(3,3),activation='relu')(x)\r\n",
        "  x = layers.BatchNormalization()(x)\r\n",
        "  x = layers.Conv2D(64,(3,3),activation='relu')(x)\r\n",
        "  x = layers.MaxPool2D((2,2))(x)\r\n",
        "\r\n",
        "  x = layers.Conv2D(64,(3,3),activation='relu')(x)\r\n",
        "  x = layers.BatchNormalization()(x)\r\n",
        "  x = layers.Conv2D(128,(4,4),activation='relu')(x)\r\n",
        "  x = layers.MaxPool2D((2,2))(x)\r\n",
        "\r\n",
        "  x = layers.Conv2D(128,(3,3),activation='relu')(x)\r\n",
        "  x = layers.BatchNormalization()(x)\r\n",
        "  x = layers.Conv2D(128,(3,3),activation='relu')(x)\r\n",
        "  x = layers.MaxPool2D((2,2))(x)\r\n",
        "\r\n",
        "  x = layers.Flatten()(x)\r\n",
        "  x = layers.Dense(256,activation='relu')(x)\r\n",
        "  x = layers.Dense(128,activation='relu')(x)\r\n",
        "  x = layers.Dense(8,activation='softmax')(x)\r\n",
        "  model = models.Model(inputs=input_,outputs=x)\r\n",
        "  model.summary()\r\n",
        "\r\n",
        "  model.compile(loss='sparse_categorical_crossentropy',metrics='accuracy',optimizer='adam')\r\n",
        "  return model"
      ],
      "execution_count": 23,
      "outputs": []
    },
    {
      "cell_type": "code",
      "metadata": {
        "colab": {
          "base_uri": "https://localhost:8080/"
        },
        "id": "FYUgZRvjmDsF",
        "outputId": "7445a4cd-bb0b-47a2-c3e3-90a8feb0ac75"
      },
      "source": [
        "with tf.device('gpu:0'):\r\n",
        "  model = get_model()\r\n",
        "  history = model.fit(train,validation_data=val,epochs=EPOCHS)\r\n",
        "  model.save('speech_commands.h5')\r\n"
      ],
      "execution_count": 24,
      "outputs": [
        {
          "output_type": "stream",
          "text": [
            "Model: \"model_1\"\n",
            "_________________________________________________________________\n",
            "Layer (type)                 Output Shape              Param #   \n",
            "=================================================================\n",
            "input_2 (InputLayer)         [(None, 124, 129, 1)]     0         \n",
            "_________________________________________________________________\n",
            "resizing_1 (Resizing)        (None, 128, 128, 1)       0         \n",
            "_________________________________________________________________\n",
            "normalization_2 (Normalizati (None, 128, 128, 1)       3         \n",
            "_________________________________________________________________\n",
            "conv2d_6 (Conv2D)            (None, 126, 126, 32)      320       \n",
            "_________________________________________________________________\n",
            "batch_normalization_3 (Batch (None, 126, 126, 32)      128       \n",
            "_________________________________________________________________\n",
            "conv2d_7 (Conv2D)            (None, 124, 124, 64)      18496     \n",
            "_________________________________________________________________\n",
            "max_pooling2d_3 (MaxPooling2 (None, 62, 62, 64)        0         \n",
            "_________________________________________________________________\n",
            "conv2d_8 (Conv2D)            (None, 60, 60, 64)        36928     \n",
            "_________________________________________________________________\n",
            "batch_normalization_4 (Batch (None, 60, 60, 64)        256       \n",
            "_________________________________________________________________\n",
            "conv2d_9 (Conv2D)            (None, 57, 57, 128)       131200    \n",
            "_________________________________________________________________\n",
            "max_pooling2d_4 (MaxPooling2 (None, 28, 28, 128)       0         \n",
            "_________________________________________________________________\n",
            "conv2d_10 (Conv2D)           (None, 26, 26, 128)       147584    \n",
            "_________________________________________________________________\n",
            "batch_normalization_5 (Batch (None, 26, 26, 128)       512       \n",
            "_________________________________________________________________\n",
            "conv2d_11 (Conv2D)           (None, 24, 24, 128)       147584    \n",
            "_________________________________________________________________\n",
            "max_pooling2d_5 (MaxPooling2 (None, 12, 12, 128)       0         \n",
            "_________________________________________________________________\n",
            "flatten_1 (Flatten)          (None, 18432)             0         \n",
            "_________________________________________________________________\n",
            "dense_3 (Dense)              (None, 256)               4718848   \n",
            "_________________________________________________________________\n",
            "dense_4 (Dense)              (None, 128)               32896     \n",
            "_________________________________________________________________\n",
            "dense_5 (Dense)              (None, 8)                 1032      \n",
            "=================================================================\n",
            "Total params: 5,235,787\n",
            "Trainable params: 5,235,336\n",
            "Non-trainable params: 451\n",
            "_________________________________________________________________\n",
            "Epoch 1/20\n",
            "200/200 [==============================] - 33s 125ms/step - loss: 2.4666 - accuracy: 0.2655 - val_loss: 1.8649 - val_accuracy: 0.3175\n",
            "Epoch 2/20\n",
            "200/200 [==============================] - 12s 59ms/step - loss: 0.8583 - accuracy: 0.7022 - val_loss: 0.9868 - val_accuracy: 0.6612\n",
            "Epoch 3/20\n",
            "200/200 [==============================] - 12s 60ms/step - loss: 0.4659 - accuracy: 0.8429 - val_loss: 0.5149 - val_accuracy: 0.8450\n",
            "Epoch 4/20\n",
            "200/200 [==============================] - 12s 60ms/step - loss: 0.3047 - accuracy: 0.9021 - val_loss: 0.3356 - val_accuracy: 0.9038\n",
            "Epoch 5/20\n",
            "200/200 [==============================] - 12s 60ms/step - loss: 0.2100 - accuracy: 0.9327 - val_loss: 0.5252 - val_accuracy: 0.8175\n",
            "Epoch 6/20\n",
            "200/200 [==============================] - 12s 61ms/step - loss: 0.1650 - accuracy: 0.9468 - val_loss: 0.5686 - val_accuracy: 0.8413\n",
            "Epoch 7/20\n",
            "200/200 [==============================] - 12s 61ms/step - loss: 0.1123 - accuracy: 0.9590 - val_loss: 0.3714 - val_accuracy: 0.8963\n",
            "Epoch 8/20\n",
            "200/200 [==============================] - 12s 61ms/step - loss: 0.1014 - accuracy: 0.9653 - val_loss: 0.3983 - val_accuracy: 0.9112\n",
            "Epoch 9/20\n",
            "200/200 [==============================] - 12s 62ms/step - loss: 0.1407 - accuracy: 0.9594 - val_loss: 0.5617 - val_accuracy: 0.8625\n",
            "Epoch 10/20\n",
            "200/200 [==============================] - 12s 62ms/step - loss: 0.1158 - accuracy: 0.9638 - val_loss: 0.7725 - val_accuracy: 0.8637\n",
            "Epoch 11/20\n",
            "200/200 [==============================] - 12s 62ms/step - loss: 0.1071 - accuracy: 0.9660 - val_loss: 0.3998 - val_accuracy: 0.8963\n",
            "Epoch 12/20\n",
            "200/200 [==============================] - 12s 62ms/step - loss: 0.0846 - accuracy: 0.9761 - val_loss: 1.0612 - val_accuracy: 0.8263\n",
            "Epoch 13/20\n",
            "200/200 [==============================] - 12s 62ms/step - loss: 0.0936 - accuracy: 0.9716 - val_loss: 0.5523 - val_accuracy: 0.8988\n",
            "Epoch 14/20\n",
            "200/200 [==============================] - 12s 62ms/step - loss: 0.0792 - accuracy: 0.9791 - val_loss: 0.4021 - val_accuracy: 0.9075\n",
            "Epoch 15/20\n",
            "200/200 [==============================] - 13s 63ms/step - loss: 0.0785 - accuracy: 0.9789 - val_loss: 0.4962 - val_accuracy: 0.8637\n",
            "Epoch 16/20\n",
            "200/200 [==============================] - 13s 63ms/step - loss: 0.0775 - accuracy: 0.9795 - val_loss: 0.3654 - val_accuracy: 0.9225\n",
            "Epoch 17/20\n",
            "200/200 [==============================] - 13s 63ms/step - loss: 0.0272 - accuracy: 0.9931 - val_loss: 0.4776 - val_accuracy: 0.9087\n",
            "Epoch 18/20\n",
            "200/200 [==============================] - 13s 63ms/step - loss: 0.0516 - accuracy: 0.9872 - val_loss: 0.4419 - val_accuracy: 0.9013\n",
            "Epoch 19/20\n",
            "200/200 [==============================] - 13s 63ms/step - loss: 0.0211 - accuracy: 0.9932 - val_loss: 0.5345 - val_accuracy: 0.8863\n",
            "Epoch 20/20\n",
            "200/200 [==============================] - 13s 63ms/step - loss: 0.0162 - accuracy: 0.9964 - val_loss: 0.6685 - val_accuracy: 0.8813\n"
          ],
          "name": "stdout"
        }
      ]
    },
    {
      "cell_type": "code",
      "metadata": {
        "colab": {
          "base_uri": "https://localhost:8080/",
          "height": 265
        },
        "id": "ztJPngCQo2FJ",
        "outputId": "258294df-185d-4887-b5f7-61cca44ebbd1"
      },
      "source": [
        "metrics = history.history\r\n",
        "plt.plot(history.epoch, metrics['loss'], metrics['val_loss'])\r\n",
        "plt.legend(['loss', 'val_loss'])\r\n",
        "plt.show()"
      ],
      "execution_count": 25,
      "outputs": [
        {
          "output_type": "display_data",
          "data": {
            "image/png": "[encoded data removed]",
            "text/plain": [
              "<Figure size 432x288 with 1 Axes>"
            ]
          },
          "metadata": {
            "tags": [],
            "needs_background": "light"
          }
        }
      ]
    }
  ]
}