{
  "nbformat": 4,
  "nbformat_minor": 0,
  "metadata": {
    "accelerator": "GPU",
    "colab": {
      "name": "ConditionalGAN",
      "provenance": [],
      "collapsed_sections": [],
      "authorship_tag": "ABX9TyP4Bn7yPsveA2g9SV+x6LUB",
      "include_colab_link": true
    },
    "kernelspec": {
      "display_name": "Python 3",
      "name": "python3"
    },
    "language_info": {
      "name": "python"
    }
  },
  "cells": [
    {
      "cell_type": "markdown",
      "metadata": {
        "id": "view-in-github",
        "colab_type": "text"
      },
      "source": [
        "<a href=\"https://colab.research.google.com/github/dude123studios/AdvancedDeepLearning/blob/main/ConditionalGAN.ipynb\" target=\"_parent\"><img src=\"https://colab.research.google.com/assets/colab-badge.svg\" alt=\"Open In Colab\"/></a>"
      ]
    },
    {
      "cell_type": "code",
      "metadata": {
        "id": "V4-8m5FeDljH"
      },
      "source": [
        "import tensorflow as tf\n",
        "from tensorflow.keras.layers import *\n",
        "import numpy as np\n",
        "from tensorflow.keras.datasets import mnist\n",
        "from google.colab.patches import cv2_imshow"
      ],
      "execution_count": 1,
      "outputs": []
    },
    {
      "cell_type": "code",
      "metadata": {
        "id": "Zt6pQy6bEWuf"
      },
      "source": [
        "EPOCHS = 20\n",
        "BATCH_SIZE = 100\n",
        "NUM_CLASSES = 10\n",
        "LATENT_DIM = 64"
      ],
      "execution_count": 2,
      "outputs": []
    },
    {
      "cell_type": "code",
      "metadata": {
        "id": "zJHS5cNJD0fo"
      },
      "source": [
        "(x_train, y_train), (x_test, y_test) = mnist.load_data()\n",
        "x_train, x_test = x_train/127.5-1, x_test/127.5-1\n",
        "y_train = tf.keras.utils.to_categorical(y_train, NUM_CLASSES)\n",
        "y_test = tf.keras.utils.to_categorical(y_test, NUM_CLASSES)\n",
        "x_train = x_train.reshape((x_train.shape[0], 28, 28, 1))\n",
        "x_test = x_test.reshape((x_test.shape[0], 28, 28, 1))"
      ],
      "execution_count": 3,
      "outputs": []
    },
    {
      "cell_type": "code",
      "metadata": {
        "id": "oSs7OBJfIpTN"
      },
      "source": [
        "def generator():\n",
        "    z = Input(shape=(LATENT_DIM,), name='latent')\n",
        "    c = Input(shape=(NUM_CLASSES,), name='conditional')\n",
        "    y = Dense(64)(c)\n",
        "    concat = Concatenate(axis=-1)([z, y])\n",
        "    x = Dense(128*7*7)(concat)\n",
        "    x = LeakyReLU(alpha=0.2)(x)\n",
        "    x = Reshape((7,7,128))(x)\n",
        "    x = UpSampling2D()(x)\n",
        "\n",
        "    x = Conv2D(128, kernel_size=3,padding='same')(x)\n",
        "    x = BatchNormalization()(x)\n",
        "    x = LeakyReLU(alpha=0.2)(x)\n",
        "\n",
        "    Conv2D(64, kernel_size=3,padding='same')(x)\n",
        "    x = LeakyReLU(alpha=0.2)(x)\n",
        "    x = UpSampling2D()(x)\n",
        "\n",
        "    x = Conv2D(32, kernel_size=3,padding='same')(x)\n",
        "    x = BatchNormalization()(x)\n",
        "    x = LeakyReLU(alpha=0.2)(x)\n",
        "\n",
        "    x = Conv2D(1, kernel_size=3,padding='same')(x)\n",
        "    output = Activation('tanh')(x)\n",
        "    return tf.keras.models.Model(inputs=(z, c), outputs=output)"
      ],
      "execution_count": 4,
      "outputs": []
    },
    {
      "cell_type": "code",
      "metadata": {
        "id": "3oG4ZnaXGV-t"
      },
      "source": [
        "def discriminator():\n",
        "    model = tf.keras.models.Sequential()\n",
        "\n",
        "    model.add(Conv2D(64,kernel_size=3,strides=2,padding='same'))\n",
        "    model.add(BatchNormalization())\n",
        "    model.add(LeakyReLU(alpha=0.2))\n",
        "    model.add(Dropout(0.2))\n",
        "\n",
        "    model.add(Conv2D(128,kernel_size=3,strides=2,padding='same'))\n",
        "    model.add(ZeroPadding2D(padding=((0,1),(0,1))))\n",
        "    model.add(BatchNormalization())\n",
        "    model.add(LeakyReLU(alpha=0.2))\n",
        "\n",
        "    model.add(Conv2D(128,kernel_size=3,strides=2,padding='same'))\n",
        "    model.add(BatchNormalization())\n",
        "    model.add(LeakyReLU(alpha=0.2))\n",
        "    model.add(Dropout(0.2))\n",
        "\n",
        "    model.add(Conv2D(256,kernel_size=3,strides=2,padding='same'))\n",
        "    model.add(BatchNormalization())\n",
        "    model.add(LeakyReLU(alpha=0.2))\n",
        "    model.add(Dropout(0.2))\n",
        "\n",
        "    model.add(Flatten())\n",
        "    model.add(Dense(256))\n",
        "    model.add(LeakyReLU(alpha=0.2))\n",
        "    return model"
      ],
      "execution_count": 5,
      "outputs": []
    },
    {
      "cell_type": "code",
      "metadata": {
        "id": "4lged6h5KZmH"
      },
      "source": [
        "class ConditionalGAN(tf.keras.Model):\n",
        "\n",
        "    def __init__(self, **kwargs):\n",
        "        super(ConditionalGAN, self).__init__(**kwargs)\n",
        "\n",
        "        self.generator = generator()\n",
        "        self.discriminator = discriminator()\n",
        "        self.disc_head = Dense(1, activation='sigmoid')\n",
        "        self.class_head = Dense(NUM_CLASSES, activation='softmax')\n",
        "        self.beta = 0.5\n",
        "    \n",
        "    def compile(self, d_optimizer, g_optimizer, loss=None):\n",
        "        super().compile()\n",
        "        self.d_optimizer = d_optimizer\n",
        "        self.g_optimizer = g_optimizer\n",
        "        self.d_loss_metric = tf.keras.metrics.Mean(name=\"d_loss\")\n",
        "        self.g_loss_metric = tf.keras.metrics.Mean(name=\"g_loss\")\n",
        "    \n",
        "    def call(self, inputs):\n",
        "        return self.generator({'latent':inputs[0], 'conditional':inputs[1]})\n",
        "\n",
        "    @property\n",
        "    def metrics(self):\n",
        "        return [self.d_loss_metric, self.g_loss_metric]\n",
        "    \n",
        "    def train_step(self, data):\n",
        "        \n",
        "        self.beta += 2e-5\n",
        "\n",
        "        real_imgs = data[0]\n",
        "        class_labels = data[1]\n",
        "        noise = tf.random.normal((BATCH_SIZE, LATENT_DIM))\n",
        "        valid = tf.ones((BATCH_SIZE, 1))\n",
        "        fake = tf.zeros((BATCH_SIZE, 1))\n",
        "\n",
        "        with tf.GradientTape() as tape:\n",
        "            fake_imgs = self([noise, class_labels])\n",
        "\n",
        "            features_real = self.discriminator(real_imgs)\n",
        "            features_fake = self.discriminator(fake_imgs)\n",
        "\n",
        "            disc_real = self.disc_head(features_real)\n",
        "            disc_fake = self.disc_head(features_fake)\n",
        "\n",
        "            c_real = self.class_head(features_real)\n",
        "\n",
        "            d_adversarial_loss = tf.keras.losses.binary_crossentropy(valid, disc_real)\n",
        "            d_adversarial_loss += tf.keras.losses.binary_crossentropy(fake, disc_fake)\n",
        "            d_class_loss = tf.keras.losses.categorical_crossentropy(class_labels, c_real)\n",
        "\n",
        "            d_loss = d_adversarial_loss + self.beta * d_class_loss\n",
        "\n",
        "        d_vars = self.discriminator.trainable_variables + self.class_head.trainable_variables + self.disc_head.trainable_variables\n",
        "        d_grads = tape.gradient(d_loss, d_vars)\n",
        "        self.d_optimizer.apply_gradients(zip(d_grads, d_vars))\n",
        "\n",
        "        with tf.GradientTape() as tape:\n",
        "            fake_imgs = self([noise, class_labels])\n",
        "\n",
        "            features_fake = self.discriminator(fake_imgs)\n",
        "            disc_fake = self.disc_head(features_fake)\n",
        "            c_fake = self.class_head(features_fake)\n",
        "\n",
        "            g_adversarial_loss = tf.keras.losses.binary_crossentropy(valid, disc_fake)\n",
        "            g_class_loss = tf.keras.losses.categorical_crossentropy(class_labels, c_fake)\n",
        "\n",
        "            g_loss = g_adversarial_loss + self.beta * g_class_loss\n",
        "        \n",
        "        g_vars = self.generator.trainable_variables\n",
        "        g_grads = tape.gradient(g_loss, g_vars)\n",
        "        self.g_optimizer.apply_gradients(zip(g_grads, g_vars))\n",
        "\n",
        "        self.d_loss_metric.update_state(d_loss)\n",
        "        self.g_loss_metric.update_state(g_loss)\n",
        "\n",
        "        return {'d_loss':self.d_loss_metric.result(), 'g_loss':self.g_loss_metric.result()}"
      ],
      "execution_count": 6,
      "outputs": []
    },
    {
      "cell_type": "code",
      "metadata": {
        "id": "y6Q43Sm7v2BJ"
      },
      "source": [
        "class ConditionalGANMonitor(tf.keras.callbacks.Callback):\n",
        "    def __init__(self, num_img=5):\n",
        "        self.num_img = num_img\n",
        "\n",
        "    def on_epoch_end(self, epoch, logs=None):\n",
        "        if (epoch+1) % 5 is not 0:\n",
        "            return \n",
        "        random_latent_vectors = tf.random.normal(shape=(self.num_img, LATENT_DIM))\n",
        "        random_choice = np.random.randint(0, NUM_CLASSES, (self.num_img,))\n",
        "        random_logit = tf.keras.utils.to_categorical(random_choice, NUM_CLASSES)\n",
        "        generated_images = self.model([random_latent_vectors, random_logit])\n",
        "        generated_images = (generated_images+1.)*127.5\n",
        "        generated_images = generated_images.numpy()\n",
        "        for i in range(self.num_img):\n",
        "            img = generated_images[i]\n",
        "            print('Number:', random_choice[i])\n",
        "            cv2_imshow(img)"
      ],
      "execution_count": 7,
      "outputs": []
    },
    {
      "cell_type": "code",
      "metadata": {
        "colab": {
          "base_uri": "https://localhost:8080/",
          "height": 1000
        },
        "id": "m39KnN-C6SgV",
        "outputId": "89e6d94c-c778-4744-d637-ab87e27aed96"
      },
      "source": [
        "model = ConditionalGAN()\n",
        "model.compile(tf.keras.optimizers.Adam(), tf.keras.optimizers.Adam())\n",
        "callbacks = [ConditionalGANMonitor(5)]\n",
        "model.fit(x_train,y_train, batch_size = BATCH_SIZE, epochs=EPOCHS, callbacks=callbacks)"
      ],
      "execution_count": 8,
      "outputs": [
        {
          "output_type": "stream",
          "text": [
            "Epoch 1/20\n",
            "  5/600 [..............................] - ETA: 21s - d_loss: 2.4574 - g_loss: 1.8068WARNING:tensorflow:Callback method `on_train_batch_end` is slow compared to the batch time (batch time: 0.0139s vs `on_train_batch_end` time: 0.0184s). Check your callbacks.\n",
            "600/600 [==============================] - 27s 37ms/step - d_loss: 0.5385 - g_loss: 10.0939\n",
            "Epoch 2/20\n",
            "600/600 [==============================] - 22s 37ms/step - d_loss: 0.1223 - g_loss: 10.3360\n",
            "Epoch 3/20\n",
            "600/600 [==============================] - 22s 37ms/step - d_loss: 0.3465 - g_loss: 6.2233\n",
            "Epoch 4/20\n",
            "600/600 [==============================] - 22s 36ms/step - d_loss: 0.5997 - g_loss: 2.9385\n",
            "Epoch 5/20\n",
            "600/600 [==============================] - 22s 37ms/step - d_loss: 0.8121 - g_loss: 2.0454\n",
            "Number: 6\n"
          ],
          "name": "stdout"
        },
        {
          "output_type": "display_data",
          "data": {
            "image/png": "[encoded data removed]",
            "text/plain": [
              "<PIL.Image.Image image mode=RGB size=28x28 at 0x7F8D2F3D1F90>"
            ]
          },
          "metadata": {
            "tags": []
          }
        },
        {
          "output_type": "stream",
          "text": [
            "Number: 5\n"
          ],
          "name": "stdout"
        },
        {
          "output_type": "display_data",
          "data": {
            "image/png": "[encoded data removed]",
            "text/plain": [
              "<PIL.Image.Image image mode=RGB size=28x28 at 0x7F8D2F3E4110>"
            ]
          },
          "metadata": {
            "tags": []
          }
        },
        {
          "output_type": "stream",
          "text": [
            "Number: 3\n"
          ],
          "name": "stdout"
        },
        {
          "output_type": "display_data",
          "data": {
            "image/png": "[encoded data removed]",
            "text/plain": [
              "<PIL.Image.Image image mode=RGB size=28x28 at 0x7F8D2F3E3650>"
            ]
          },
          "metadata": {
            "tags": []
          }
        },
        {
          "output_type": "stream",
          "text": [
            "Number: 5\n"
          ],
          "name": "stdout"
        },
        {
          "output_type": "display_data",
          "data": {
            "image/png": "[encoded data removed]",
            "text/plain": [
              "<PIL.Image.Image image mode=RGB size=28x28 at 0x7F8D3BF857D0>"
            ]
          },
          "metadata": {
            "tags": []
          }
        },
        {
          "output_type": "stream",
          "text": [
            "Number: 6\n"
          ],
          "name": "stdout"
        },
        {
          "output_type": "display_data",
          "data": {
            "image/png": "[encoded data removed]",
            "text/plain": [
              "<PIL.Image.Image image mode=RGB size=28x28 at 0x7F8D40221CD0>"
            ]
          },
          "metadata": {
            "tags": []
          }
        },
        {
          "output_type": "stream",
          "text": [
            "Epoch 6/20\n",
            "600/600 [==============================] - 22s 37ms/step - d_loss: 0.9482 - g_loss: 1.7141\n",
            "Epoch 7/20\n",
            "600/600 [==============================] - 22s 37ms/step - d_loss: 0.9360 - g_loss: 1.7247\n",
            "Epoch 8/20\n",
            "600/600 [==============================] - 22s 37ms/step - d_loss: 1.0052 - g_loss: 1.4924\n",
            "Epoch 9/20\n",
            "600/600 [==============================] - 22s 37ms/step - d_loss: 1.0484 - g_loss: 1.4009\n",
            "Epoch 10/20\n",
            "600/600 [==============================] - 22s 37ms/step - d_loss: 1.1225 - g_loss: 1.2799\n",
            "Number: 8\n"
          ],
          "name": "stdout"
        },
        {
          "output_type": "display_data",
          "data": {
            "image/png": "[encoded data removed]",
            "text/plain": [
              "<PIL.Image.Image image mode=RGB size=28x28 at 0x7F8D3BFA0B50>"
            ]
          },
          "metadata": {
            "tags": []
          }
        },
        {
          "output_type": "stream",
          "text": [
            "Number: 4\n"
          ],
          "name": "stdout"
        },
        {
          "output_type": "display_data",
          "data": {
            "image/png": "[encoded data removed]",
            "text/plain": [
              "<PIL.Image.Image image mode=RGB size=28x28 at 0x7F8D3BFA0390>"
            ]
          },
          "metadata": {
            "tags": []
          }
        },
        {
          "output_type": "stream",
          "text": [
            "Number: 7\n"
          ],
          "name": "stdout"
        },
        {
          "output_type": "display_data",
          "data": {
            "image/png": "[encoded data removed]",
            "text/plain": [
              "<PIL.Image.Image image mode=RGB size=28x28 at 0x7F8D3BFA0650>"
            ]
          },
          "metadata": {
            "tags": []
          }
        },
        {
          "output_type": "stream",
          "text": [
            "Number: 6\n"
          ],
          "name": "stdout"
        },
        {
          "output_type": "display_data",
          "data": {
            "image/png": "[encoded data removed]",
            "text/plain": [
              "<PIL.Image.Image image mode=RGB size=28x28 at 0x7F8D3BFA02D0>"
            ]
          },
          "metadata": {
            "tags": []
          }
        },
        {
          "output_type": "stream",
          "text": [
            "Number: 4\n"
          ],
          "name": "stdout"
        },
        {
          "output_type": "display_data",
          "data": {
            "image/png": "[encoded data removed]",
            "text/plain": [
              "<PIL.Image.Image image mode=RGB size=28x28 at 0x7F8D3BFA0050>"
            ]
          },
          "metadata": {
            "tags": []
          }
        },
        {
          "output_type": "stream",
          "text": [
            "Epoch 11/20\n",
            "600/600 [==============================] - 22s 37ms/step - d_loss: 1.1404 - g_loss: 1.2797\n",
            "Epoch 12/20\n",
            "600/600 [==============================] - 22s 37ms/step - d_loss: 1.1050 - g_loss: 1.3120\n",
            "Epoch 13/20\n",
            "600/600 [==============================] - 22s 37ms/step - d_loss: 1.1538 - g_loss: 1.2010\n",
            "Epoch 14/20\n",
            "600/600 [==============================] - 22s 37ms/step - d_loss: 1.1358 - g_loss: 1.2072\n",
            "Epoch 15/20\n",
            "600/600 [==============================] - 22s 37ms/step - d_loss: 1.1334 - g_loss: 1.2243\n",
            "Number: 8\n"
          ],
          "name": "stdout"
        },
        {
          "output_type": "display_data",
          "data": {
            "image/png": "[encoded data removed]",
            "text/plain": [
              "<PIL.Image.Image image mode=RGB size=28x28 at 0x7F8D3BF9FCD0>"
            ]
          },
          "metadata": {
            "tags": []
          }
        },
        {
          "output_type": "stream",
          "text": [
            "Number: 5\n"
          ],
          "name": "stdout"
        },
        {
          "output_type": "display_data",
          "data": {
            "image/png": "[encoded data removed]",
            "text/plain": [
              "<PIL.Image.Image image mode=RGB size=28x28 at 0x7F8D3BFA0BD0>"
            ]
          },
          "metadata": {
            "tags": []
          }
        },
        {
          "output_type": "stream",
          "text": [
            "Number: 7\n"
          ],
          "name": "stdout"
        },
        {
          "output_type": "display_data",
          "data": {
            "image/png": "[encoded data removed]",
            "text/plain": [
              "<PIL.Image.Image image mode=RGB size=28x28 at 0x7F8D3BFA03D0>"
            ]
          },
          "metadata": {
            "tags": []
          }
        },
        {
          "output_type": "stream",
          "text": [
            "Number: 4\n"
          ],
          "name": "stdout"
        },
        {
          "output_type": "display_data",
          "data": {
            "image/png": "[encoded data removed]",
            "text/plain": [
              "<PIL.Image.Image image mode=RGB size=28x28 at 0x7F8D3BFA0910>"
            ]
          },
          "metadata": {
            "tags": []
          }
        },
        {
          "output_type": "stream",
          "text": [
            "Number: 6\n"
          ],
          "name": "stdout"
        },
        {
          "output_type": "display_data",
          "data": {
            "image/png": "[encoded data removed]",
            "text/plain": [
              "<PIL.Image.Image image mode=RGB size=28x28 at 0x7F8D3BFA0610>"
            ]
          },
          "metadata": {
            "tags": []
          }
        },
        {
          "output_type": "stream",
          "text": [
            "Epoch 16/20\n",
            "600/600 [==============================] - 22s 37ms/step - d_loss: 1.1501 - g_loss: 1.1900\n",
            "Epoch 17/20\n",
            "600/600 [==============================] - 22s 37ms/step - d_loss: 1.1853 - g_loss: 1.0889\n",
            "Epoch 18/20\n",
            "600/600 [==============================] - 22s 37ms/step - d_loss: 1.2075 - g_loss: 1.0514\n",
            "Epoch 19/20\n",
            "600/600 [==============================] - 22s 37ms/step - d_loss: 1.2116 - g_loss: 1.0456\n",
            "Epoch 20/20\n",
            "600/600 [==============================] - 22s 37ms/step - d_loss: 1.2329 - g_loss: 1.0067\n",
            "Number: 8\n"
          ],
          "name": "stdout"
        },
        {
          "output_type": "display_data",
          "data": {
            "image/png": "[encoded data removed]",
            "text/plain": [
              "<PIL.Image.Image image mode=RGB size=28x28 at 0x7F8D3BF9FAD0>"
            ]
          },
          "metadata": {
            "tags": []
          }
        },
        {
          "output_type": "stream",
          "text": [
            "Number: 3\n"
          ],
          "name": "stdout"
        },
        {
          "output_type": "display_data",
          "data": {
            "image/png": "[encoded data removed]",
            "text/plain": [
              "<PIL.Image.Image image mode=RGB size=28x28 at 0x7F8D3BFA0450>"
            ]
          },
          "metadata": {
            "tags": []
          }
        },
        {
          "output_type": "stream",
          "text": [
            "Number: 2\n"
          ],
          "name": "stdout"
        },
        {
          "output_type": "display_data",
          "data": {
            "image/png": "[encoded data removed]",
            "text/plain": [
              "<PIL.Image.Image image mode=RGB size=28x28 at 0x7F8D3BFA0910>"
            ]
          },
          "metadata": {
            "tags": []
          }
        },
        {
          "output_type": "stream",
          "text": [
            "Number: 6\n"
          ],
          "name": "stdout"
        },
        {
          "output_type": "display_data",
          "data": {
            "image/png": "[encoded data removed]",
            "text/plain": [
              "<PIL.Image.Image image mode=RGB size=28x28 at 0x7F8D3BFA0510>"
            ]
          },
          "metadata": {
            "tags": []
          }
        },
        {
          "output_type": "stream",
          "text": [
            "Number: 0\n"
          ],
          "name": "stdout"
        },
        {
          "output_type": "display_data",
          "data": {
            "image/png": "[encoded data removed]",
            "text/plain": [
              "<PIL.Image.Image image mode=RGB size=28x28 at 0x7F8D3BFA0C10>"
            ]
          },
          "metadata": {
            "tags": []
          }
        },
        {
          "output_type": "execute_result",
          "data": {
            "text/plain": [
              "<tensorflow.python.keras.callbacks.History at 0x7f8d9d5e6790>"
            ]
          },
          "metadata": {
            "tags": []
          },
          "execution_count": 8
        }
      ]
    }
  ]
}