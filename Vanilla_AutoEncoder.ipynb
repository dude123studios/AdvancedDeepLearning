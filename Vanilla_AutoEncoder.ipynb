{
  "nbformat": 4,
  "nbformat_minor": 0,
  "metadata": {
    "colab": {
      "name": "Vanilla AutoEncoder",
      "provenance": [],
      "authorship_tag": "ABX9TyNRxpR7TDDcuWvMnjp0LmRb",
      "include_colab_link": true
    },
    "kernelspec": {
      "name": "python3",
      "display_name": "Python 3"
    },
    "accelerator": "GPU"
  },
  "cells": [
    {
      "cell_type": "markdown",
      "metadata": {
        "id": "view-in-github",
        "colab_type": "text"
      },
      "source": [
        "<a href=\"https://colab.research.google.com/github/dude123studios/AdvancedDeepLearning/blob/main/Vanilla_AutoEncoder.ipynb\" target=\"_parent\"><img src=\"https://colab.research.google.com/assets/colab-badge.svg\" alt=\"Open In Colab\"/></a>"
      ]
    },
    {
      "cell_type": "code",
      "metadata": {
        "id": "AvBGkLsMHVb2"
      },
      "source": [
        "import numpy as np\r\n",
        "import tensorflow as tf\r\n",
        "import tensorflow.keras as K\r\n",
        "import matplotlib.pyplot as plt"
      ],
      "execution_count": 1,
      "outputs": []
    },
    {
      "cell_type": "code",
      "metadata": {
        "id": "qwSKsO9AHoui"
      },
      "source": [
        "np.random.seed(11)\r\n",
        "tf.random.set_seed(11)\r\n",
        "batch_size = 256\r\n",
        "epochs = 20\r\n",
        "learning_rate = 1e-3\r\n",
        "momentum = 8e-1\r\n",
        "hidden_dim = 128\r\n",
        "original_dim = 784"
      ],
      "execution_count": 2,
      "outputs": []
    },
    {
      "cell_type": "code",
      "metadata": {
        "id": "_UjTTfw3Ikii",
        "colab": {
          "base_uri": "https://localhost:8080/"
        },
        "outputId": "4e643a81-2c92-43eb-bca3-4efd00850b27"
      },
      "source": [
        "(x_train, _), (x_test, _) = K.datasets.mnist.load_data()\r\n",
        "x_train = x_train / 255.\r\n",
        "x_test = x_test / 255.\r\n",
        "x_train = x_train.astype(np.float32)\r\n",
        "x_test = x_test.astype(np.float32)\r\n",
        "x_train = np.reshape(x_train, (x_train.shape[0],x_train.shape[1]*x_train.shape[2]))\r\n",
        "x_test = np.reshape(x_test, (x_test.shape[0],x_test.shape[1]*x_test.shape[2]))\r\n",
        "train_data = tf.data.Dataset.from_tensor_slices(x_train).batch(batch_size)"
      ],
      "execution_count": 3,
      "outputs": [
        {
          "output_type": "stream",
          "text": [
            "Downloading data from https://storage.googleapis.com/tensorflow/tf-keras-datasets/mnist.npz\n",
            "11493376/11490434 [==============================] - 0s 0us/step\n"
          ],
          "name": "stdout"
        }
      ]
    },
    {
      "cell_type": "code",
      "metadata": {
        "id": "Xro22u41p2OV"
      },
      "source": [
        "class Encoder(K.layers.Layer):\r\n",
        "  def __init__(self, num_units):\r\n",
        "    super(Encoder, self).__init__(num_units)\r\n",
        "    self.dense = K.layers.Dense(num_units, activation='relu')\r\n",
        "  def call(self, x):\r\n",
        "    x = self.dense(x)\r\n",
        "    return x"
      ],
      "execution_count": 4,
      "outputs": []
    },
    {
      "cell_type": "code",
      "metadata": {
        "id": "yxDraXnrv6tJ"
      },
      "source": [
        "class Decoder(K.layers.Layer):\r\n",
        "  def __init__(self, num_units):\r\n",
        "    super(Decoder, self).__init__(num_units)\r\n",
        "    self.dense = K.layers.Dense(num_units, activation='relu')\r\n",
        "  def call(self, x):\r\n",
        "    x = self.dense(x)\r\n",
        "    return x"
      ],
      "execution_count": 5,
      "outputs": []
    },
    {
      "cell_type": "code",
      "metadata": {
        "id": "8mfRZqOpwrf-"
      },
      "source": [
        "class Autoencoder(K.Model):\r\n",
        "  def __init__(self, hidden_dim, original_dim):\r\n",
        "    super(Autoencoder, self).__init__()\r\n",
        "    self.loss = []\r\n",
        "    self.encoder = Encoder(hidden_dim)\r\n",
        "    self.decoder = Decoder(original_dim)\r\n",
        "\r\n",
        "  def call(self, input_features):\r\n",
        "    encoded = self.encoder(input_features)\r\n",
        "    reconstructed = self.decoder(encoded)\r\n",
        "    return reconstructed"
      ],
      "execution_count": 6,
      "outputs": []
    },
    {
      "cell_type": "code",
      "metadata": {
        "id": "ZC8bltlP_3To"
      },
      "source": [
        "autoencoder = Autoencoder(hidden_dim, original_dim)\r\n",
        "opt = tf.keras.optimizers.Adam(learning_rate=1e-2)\r\n",
        "def loss(preds, real):\r\n",
        "  return tf.reduce_mean(tf.square(tf.subtract(real, preds)))"
      ],
      "execution_count": 7,
      "outputs": []
    },
    {
      "cell_type": "code",
      "metadata": {
        "id": "fZcUP9GRAhZl"
      },
      "source": [
        "@tf.function\r\n",
        "def train_step(loss, model, opt, original):\r\n",
        "  with tf.GradientTape() as tape:\r\n",
        "    preds = model(original)\r\n",
        "    error = loss(preds, original)\r\n",
        "    gradients = tape.gradient(error, model.trainable_variables)\r\n",
        "    vars = zip(gradients, model.trainable_variables)\r\n",
        "  opt.apply_gradients(vars)\r\n",
        "  return error"
      ],
      "execution_count": 8,
      "outputs": []
    },
    {
      "cell_type": "code",
      "metadata": {
        "id": "VYyFrkaoBHpv"
      },
      "source": [
        "def train(model, opt, loss, dataset, epochs=20):\r\n",
        "  for epoch in range(1, epochs+1):\r\n",
        "    epoch_loss = 0\r\n",
        "    for step, batch_features in enumerate(dataset):\r\n",
        "      loss_val = train_step(loss, model, opt, batch_features)\r\n",
        "      epoch_loss += loss_val\r\n",
        "    model.loss.append(epoch_loss)\r\n",
        "    print('Epoch {}/{}. Loss: {}'.format(epoch, epochs, epoch_loss.numpy()))"
      ],
      "execution_count": 9,
      "outputs": []
    },
    {
      "cell_type": "code",
      "metadata": {
        "colab": {
          "base_uri": "https://localhost:8080/"
        },
        "id": "BvmC_3ZjCSTy",
        "outputId": "34cd9b35-7c63-49f4-e3f8-b59db4e8f653"
      },
      "source": [
        "train(autoencoder, opt, loss, train_data, epochs = epochs)"
      ],
      "execution_count": 10,
      "outputs": [
        {
          "output_type": "stream",
          "text": [
            "Epoch 1/20. Loss: 5.149855136871338\n",
            "Epoch 2/20. Loss: 3.0874993801116943\n",
            "Epoch 3/20. Loss: 2.9646055698394775\n",
            "Epoch 4/20. Loss: 2.913895606994629\n",
            "Epoch 5/20. Loss: 2.8690407276153564\n",
            "Epoch 6/20. Loss: 2.850360155105591\n",
            "Epoch 7/20. Loss: 2.8720521926879883\n",
            "Epoch 8/20. Loss: 2.8403968811035156\n",
            "Epoch 9/20. Loss: 2.8216700553894043\n",
            "Epoch 10/20. Loss: 2.8240578174591064\n",
            "Epoch 11/20. Loss: 2.8157050609588623\n",
            "Epoch 12/20. Loss: 2.8380894660949707\n",
            "Epoch 13/20. Loss: 2.8177340030670166\n",
            "Epoch 14/20. Loss: 2.8112833499908447\n",
            "Epoch 15/20. Loss: 2.80302357673645\n",
            "Epoch 16/20. Loss: 2.8369526863098145\n",
            "Epoch 17/20. Loss: 2.817483901977539\n",
            "Epoch 18/20. Loss: 2.8029613494873047\n",
            "Epoch 19/20. Loss: 2.836801290512085\n",
            "Epoch 20/20. Loss: 2.807302236557007\n"
          ],
          "name": "stdout"
        }
      ]
    },
    {
      "cell_type": "code",
      "metadata": {
        "colab": {
          "base_uri": "https://localhost:8080/",
          "height": 279
        },
        "id": "Ap-_6G2oZzwZ",
        "outputId": "42171187-6bfc-4d7a-e89f-8a61c454b697"
      },
      "source": [
        "plt.plot(range(epochs), autoencoder.loss)\r\n",
        "plt.xlabel('Epochs')\r\n",
        "plt.ylabel('Loss')\r\n",
        "plt.show()"
      ],
      "execution_count": 11,
      "outputs": [
        {
          "output_type": "display_data",
          "data": {
            "image/png": "[encoded data removed]",
            "text/plain": [
              "<Figure size 432x288 with 1 Axes>"
            ]
          },
          "metadata": {
            "tags": [],
            "needs_background": "light"
          }
        }
      ]
    },
    {
      "cell_type": "code",
      "metadata": {
        "colab": {
          "base_uri": "https://localhost:8080/",
          "height": 248
        },
        "id": "GRSK9bZzaMNX",
        "outputId": "6ad17d82-fc4f-4ae9-f9a9-466aafd2e16a"
      },
      "source": [
        "number = 10  \r\n",
        "plt.figure(figsize=(20, 4))\r\n",
        "for index in range(number):\r\n",
        "    ax = plt.subplot(2, number, index + 1)\r\n",
        "    plt.imshow(x_test[index].reshape(28, 28), cmap='gray')\r\n",
        "    ax.get_xaxis().set_visible(False)\r\n",
        "    ax.get_yaxis().set_visible(False)\r\n",
        "\r\n",
        "    ax = plt.subplot(2, number, index + 1 + number)\r\n",
        "    plt.imshow(autoencoder(x_test)[index].numpy().reshape(28, 28), cmap='gray')\r\n",
        "    ax.get_xaxis().set_visible(False)\r\n",
        "    ax.get_yaxis().set_visible(False)\r\n",
        "plt.show()"
      ],
      "execution_count": 12,
      "outputs": [
        {
          "output_type": "display_data",
          "data": {
            "image/png": "[encoded data removed]",
            "text/plain": [
              "<Figure size 1440x288 with 20 Axes>"
            ]
          },
          "metadata": {
            "tags": [],
            "needs_background": "light"
          }
        }
      ]
    }
  ]
}