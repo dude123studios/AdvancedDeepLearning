{
  "nbformat": 4,
  "nbformat_minor": 0,
  "metadata": {
    "colab": {
      "name": "Transformer for cifar-100",
      "provenance": [],
      "collapsed_sections": [],
      "authorship_tag": "ABX9TyPZ0K1+Dc7jVqaYxwjRTf8+",
      "include_colab_link": true
    },
    "kernelspec": {
      "name": "python3",
      "display_name": "Python 3"
    },
    "accelerator": "GPU"
  },
  "cells": [
    {
      "cell_type": "markdown",
      "metadata": {
        "id": "view-in-github",
        "colab_type": "text"
      },
      "source": [
        "<a href=\"https://colab.research.google.com/github/dude123studios/AdvancedDeepLearning/blob/main/Transformer_for_cifar100.ipynb\" target=\"_parent\"><img src=\"https://colab.research.google.com/assets/colab-badge.svg\" alt=\"Open In Colab\"/></a>"
      ]
    },
    {
      "cell_type": "code",
      "metadata": {
        "colab": {
          "base_uri": "https://localhost:8080/"
        },
        "id": "EbzdKu8exDg-",
        "outputId": "22952ed4-b6ba-44a9-cb32-de278bcee259"
      },
      "source": [
        "!pip install -U tensorflow-addons"
      ],
      "execution_count": 1,
      "outputs": [
        {
          "output_type": "stream",
          "text": [
            "Collecting tensorflow-addons\n",
            "\u001b[?25l  Downloading https://files.pythonhosted.org/packages/74/e3/56d2fe76f0bb7c88ed9b2a6a557e25e83e252aec08f13de34369cd850a0b/tensorflow_addons-0.12.1-cp37-cp37m-manylinux2010_x86_64.whl (703kB)\n",
            "\r\u001b[K     |▌                               | 10kB 20.0MB/s eta 0:00:01\r\u001b[K     |█                               | 20kB 13.6MB/s eta 0:00:01\r\u001b[K     |█▍                              | 30kB 12.5MB/s eta 0:00:01\r\u001b[K     |█▉                              | 40kB 11.8MB/s eta 0:00:01\r\u001b[K     |██▎                             | 51kB 7.7MB/s eta 0:00:01\r\u001b[K     |██▉                             | 61kB 7.1MB/s eta 0:00:01\r\u001b[K     |███▎                            | 71kB 8.1MB/s eta 0:00:01\r\u001b[K     |███▊                            | 81kB 9.0MB/s eta 0:00:01\r\u001b[K     |████▏                           | 92kB 8.3MB/s eta 0:00:01\r\u001b[K     |████▋                           | 102kB 7.4MB/s eta 0:00:01\r\u001b[K     |█████▏                          | 112kB 7.4MB/s eta 0:00:01\r\u001b[K     |█████▋                          | 122kB 7.4MB/s eta 0:00:01\r\u001b[K     |██████                          | 133kB 7.4MB/s eta 0:00:01\r\u001b[K     |██████▌                         | 143kB 7.4MB/s eta 0:00:01\r\u001b[K     |███████                         | 153kB 7.4MB/s eta 0:00:01\r\u001b[K     |███████▌                        | 163kB 7.4MB/s eta 0:00:01\r\u001b[K     |████████                        | 174kB 7.4MB/s eta 0:00:01\r\u001b[K     |████████▍                       | 184kB 7.4MB/s eta 0:00:01\r\u001b[K     |████████▉                       | 194kB 7.4MB/s eta 0:00:01\r\u001b[K     |█████████▎                      | 204kB 7.4MB/s eta 0:00:01\r\u001b[K     |█████████▉                      | 215kB 7.4MB/s eta 0:00:01\r\u001b[K     |██████████▎                     | 225kB 7.4MB/s eta 0:00:01\r\u001b[K     |██████████▊                     | 235kB 7.4MB/s eta 0:00:01\r\u001b[K     |███████████▏                    | 245kB 7.4MB/s eta 0:00:01\r\u001b[K     |███████████▋                    | 256kB 7.4MB/s eta 0:00:01\r\u001b[K     |████████████▏                   | 266kB 7.4MB/s eta 0:00:01\r\u001b[K     |████████████▋                   | 276kB 7.4MB/s eta 0:00:01\r\u001b[K     |█████████████                   | 286kB 7.4MB/s eta 0:00:01\r\u001b[K     |█████████████▌                  | 296kB 7.4MB/s eta 0:00:01\r\u001b[K     |██████████████                  | 307kB 7.4MB/s eta 0:00:01\r\u001b[K     |██████████████▍                 | 317kB 7.4MB/s eta 0:00:01\r\u001b[K     |███████████████                 | 327kB 7.4MB/s eta 0:00:01\r\u001b[K     |███████████████▍                | 337kB 7.4MB/s eta 0:00:01\r\u001b[K     |███████████████▉                | 348kB 7.4MB/s eta 0:00:01\r\u001b[K     |████████████████▎               | 358kB 7.4MB/s eta 0:00:01\r\u001b[K     |████████████████▊               | 368kB 7.4MB/s eta 0:00:01\r\u001b[K     |█████████████████▎              | 378kB 7.4MB/s eta 0:00:01\r\u001b[K     |█████████████████▊              | 389kB 7.4MB/s eta 0:00:01\r\u001b[K     |██████████████████▏             | 399kB 7.4MB/s eta 0:00:01\r\u001b[K     |██████████████████▋             | 409kB 7.4MB/s eta 0:00:01\r\u001b[K     |███████████████████             | 419kB 7.4MB/s eta 0:00:01\r\u001b[K     |███████████████████▋            | 430kB 7.4MB/s eta 0:00:01\r\u001b[K     |████████████████████            | 440kB 7.4MB/s eta 0:00:01\r\u001b[K     |████████████████████▌           | 450kB 7.4MB/s eta 0:00:01\r\u001b[K     |█████████████████████           | 460kB 7.4MB/s eta 0:00:01\r\u001b[K     |█████████████████████▍          | 471kB 7.4MB/s eta 0:00:01\r\u001b[K     |██████████████████████          | 481kB 7.4MB/s eta 0:00:01\r\u001b[K     |██████████████████████▍         | 491kB 7.4MB/s eta 0:00:01\r\u001b[K     |██████████████████████▉         | 501kB 7.4MB/s eta 0:00:01\r\u001b[K     |███████████████████████▎        | 512kB 7.4MB/s eta 0:00:01\r\u001b[K     |███████████████████████▊        | 522kB 7.4MB/s eta 0:00:01\r\u001b[K     |████████████████████████▎       | 532kB 7.4MB/s eta 0:00:01\r\u001b[K     |████████████████████████▊       | 542kB 7.4MB/s eta 0:00:01\r\u001b[K     |█████████████████████████▏      | 552kB 7.4MB/s eta 0:00:01\r\u001b[K     |█████████████████████████▋      | 563kB 7.4MB/s eta 0:00:01\r\u001b[K     |██████████████████████████      | 573kB 7.4MB/s eta 0:00:01\r\u001b[K     |██████████████████████████▋     | 583kB 7.4MB/s eta 0:00:01\r\u001b[K     |███████████████████████████     | 593kB 7.4MB/s eta 0:00:01\r\u001b[K     |███████████████████████████▌    | 604kB 7.4MB/s eta 0:00:01\r\u001b[K     |████████████████████████████    | 614kB 7.4MB/s eta 0:00:01\r\u001b[K     |████████████████████████████▍   | 624kB 7.4MB/s eta 0:00:01\r\u001b[K     |████████████████████████████▉   | 634kB 7.4MB/s eta 0:00:01\r\u001b[K     |█████████████████████████████▍  | 645kB 7.4MB/s eta 0:00:01\r\u001b[K     |█████████████████████████████▉  | 655kB 7.4MB/s eta 0:00:01\r\u001b[K     |██████████████████████████████▎ | 665kB 7.4MB/s eta 0:00:01\r\u001b[K     |██████████████████████████████▊ | 675kB 7.4MB/s eta 0:00:01\r\u001b[K     |███████████████████████████████▏| 686kB 7.4MB/s eta 0:00:01\r\u001b[K     |███████████████████████████████▊| 696kB 7.4MB/s eta 0:00:01\r\u001b[K     |████████████████████████████████| 706kB 7.4MB/s \n",
            "\u001b[?25hRequirement already satisfied, skipping upgrade: typeguard>=2.7 in /usr/local/lib/python3.7/dist-packages (from tensorflow-addons) (2.7.1)\n",
            "Installing collected packages: tensorflow-addons\n",
            "Successfully installed tensorflow-addons-0.12.1\n"
          ],
          "name": "stdout"
        }
      ]
    },
    {
      "cell_type": "code",
      "metadata": {
        "id": "1BRk4vV_Zv9F"
      },
      "source": [
        "import tensorflow as tf\r\n",
        "import numpy as np\r\n",
        "from tensorflow.keras.layers import *\r\n",
        "from tensorflow.keras.datasets.cifar100 import load_data\r\n",
        "import tensorflow_addons as tfa"
      ],
      "execution_count": 2,
      "outputs": []
    },
    {
      "cell_type": "code",
      "metadata": {
        "colab": {
          "base_uri": "https://localhost:8080/"
        },
        "id": "dAtOaRVixPKH",
        "outputId": "3cbddf37-fb57-4397-f62e-2f8005efdc10"
      },
      "source": [
        "num_classes = 100\r\n",
        "input_shape = (32, 32, 3)\r\n",
        "\r\n",
        "(x_train, y_train) , (x_test, y_test) = load_data()\r\n",
        "\r\n",
        "learning_rate = 0.001\r\n",
        "weight_decay = 0.0001\r\n",
        "batch_size = 256\r\n",
        "num_epochs = 50\r\n",
        "image_size = 72\r\n",
        "patch_size = 6\r\n",
        "num_patches = (image_size // patch_size) ** 2\r\n",
        "projection_dim = 64\r\n",
        "num_heads = 4\r\n",
        "transformer_units = [\r\n",
        "    projection_dim * 2,\r\n",
        "    projection_dim,\r\n",
        "]  \r\n",
        "transformer_layers = 8\r\n",
        "mlp_head_units = [2048, 1024]  "
      ],
      "execution_count": 3,
      "outputs": [
        {
          "output_type": "stream",
          "text": [
            "Downloading data from https://www.cs.toronto.edu/~kriz/cifar-100-python.tar.gz\n",
            "169009152/169001437 [==============================] - 3s 0us/step\n"
          ],
          "name": "stdout"
        }
      ]
    },
    {
      "cell_type": "code",
      "metadata": {
        "id": "z5F0_eDXyCtk"
      },
      "source": [
        "data_augmentation = tf.keras.models.Sequential(\r\n",
        "    [\r\n",
        "        experimental.preprocessing.Normalization(),\r\n",
        "        experimental.preprocessing.Resizing(image_size, image_size), \r\n",
        "        experimental.preprocessing.RandomFlip('horizontal'),\r\n",
        "        experimental.preprocessing.RandomRotation(0.02),\r\n",
        "        experimental.preprocessing.RandomZoom(0.2, 0.2)\r\n",
        "    ],\r\n",
        "    name='data_augmentation'\r\n",
        ")\r\n",
        "data_augmentation.layers[0].adapt(x_train)"
      ],
      "execution_count": 4,
      "outputs": []
    },
    {
      "cell_type": "code",
      "metadata": {
        "id": "wNNb4XJqzH0x"
      },
      "source": [
        "def mlp(x, hidden_units, dropout_rate):\r\n",
        "    for units in hidden_units:\r\n",
        "        x = Dense(units, activation=tf.nn.gelu)(x)\r\n",
        "        x = Dropout(dropout_rate)(x)\r\n",
        "    return x"
      ],
      "execution_count": 5,
      "outputs": []
    },
    {
      "cell_type": "code",
      "metadata": {
        "id": "RnY7h7MazPih"
      },
      "source": [
        "class Patches(Layer):\r\n",
        "  def __init__(self, patch_size):\r\n",
        "    super(Patches, self).__init__()\r\n",
        "    self.patch_size = patch_size\r\n",
        "\r\n",
        "  def call(self, images):\r\n",
        "    batch_size = tf.shape(images)[0]\r\n",
        "    patches = tf.image.extract_patches(\r\n",
        "        images=images,\r\n",
        "        sizes= [1, self.patch_size, self.patch_size, 1],\r\n",
        "        strides = [1, self.patch_size, self.patch_size, 1],\r\n",
        "        rates = [1, 1, 1, 1],\r\n",
        "        padding='VALID'\r\n",
        "    )\r\n",
        "    patch_dims = patches.shape[-1]\r\n",
        "    patches = tf.reshape(patches, [batch_size, -1, patch_dims])\r\n",
        "    return patches"
      ],
      "execution_count": 6,
      "outputs": []
    },
    {
      "cell_type": "code",
      "metadata": {
        "colab": {
          "base_uri": "https://localhost:8080/",
          "height": 547
        },
        "id": "xo0PFz4u5JHl",
        "outputId": "ed3b39a1-c51a-4f9c-b840-1a238f2bb93e"
      },
      "source": [
        "import matplotlib.pyplot as plt\r\n",
        "\r\n",
        "plt.figure(figsize=(4, 4))\r\n",
        "image = x_train[np.random.choice(range(x_train.shape[0]))]\r\n",
        "plt.imshow(image.astype(\"uint8\"))\r\n",
        "plt.axis(\"off\")\r\n",
        "\r\n",
        "resized_image = tf.image.resize(\r\n",
        "    tf.convert_to_tensor([image]), size=(image_size, image_size)\r\n",
        ")\r\n",
        "patches = Patches(patch_size)(resized_image)\r\n",
        "print(f\"Image size: {image_size} X {image_size}\")\r\n",
        "print(f\"Patch size: {patch_size} X {patch_size}\")\r\n",
        "print(f\"Patches per image: {patches.shape[1]}\")\r\n",
        "print(f\"Elements per patch: {patches.shape[-1]}\")\r\n",
        "\r\n",
        "n = int(np.sqrt(patches.shape[1]))\r\n",
        "plt.figure(figsize=(4, 4))\r\n",
        "for i, patch in enumerate(patches[0]):\r\n",
        "    ax = plt.subplot(n, n, i + 1)\r\n",
        "    patch_img = tf.reshape(patch, (patch_size, patch_size, 3))\r\n",
        "    plt.imshow(patch_img.numpy().astype(\"uint8\"))\r\n",
        "    plt.axis(\"off\")"
      ],
      "execution_count": 7,
      "outputs": [
        {
          "output_type": "stream",
          "text": [
            "Image size: 72 X 72\n",
            "Patch size: 6 X 6\n",
            "Patches per image: 144\n",
            "Elements per patch: 108\n"
          ],
          "name": "stdout"
        },
        {
          "output_type": "display_data",
          "data": {
            "image/png": "[encoded data removed]",
            "text/plain": [
              "<Figure size 288x288 with 1 Axes>"
            ]
          },
          "metadata": {
            "tags": [],
            "needs_background": "light"
          }
        },
        {
          "output_type": "display_data",
          "data": {
            "image/png": "[encoded data removed]",
            "text/plain": [
              "<Figure size 288x288 with 144 Axes>"
            ]
          },
          "metadata": {
            "tags": [],
            "needs_background": "light"
          }
        }
      ]
    },
    {
      "cell_type": "code",
      "metadata": {
        "id": "scZ4oy-l6ERO"
      },
      "source": [
        "class PatchEncoder(Layer):\r\n",
        "  def __init__(self, num_patches, projection_dim):\r\n",
        "    super(PatchEncoder, self).__init__()\r\n",
        "    self.num_patches = num_patches\r\n",
        "    self.projection = Dense(projection_dim)\r\n",
        "    self.positional_encoding = Embedding(num_patches, projection_dim)\r\n",
        "\r\n",
        "  def call(self, patch):\r\n",
        "    positions = tf.range(start=0, limit=self.num_patches, delta=1)\r\n",
        "    encoded = self.projection(patch) + self.positional_encoding(positions)\r\n",
        "    return encoded"
      ],
      "execution_count": 8,
      "outputs": []
    },
    {
      "cell_type": "code",
      "metadata": {
        "id": "moxRoxxJ9A2w"
      },
      "source": [
        "def create_vit():\r\n",
        "  inputs = Input(shape=input_shape)\r\n",
        "  augmented = data_augmentation(inputs)\r\n",
        "  patches = Patches(patch_size)(augmented)\r\n",
        "  encoded_patches = PatchEncoder(num_patches,projection_dim)(patches)\r\n",
        "\r\n",
        "  for _ in range(transformer_layers):\r\n",
        "    \r\n",
        "    x1 = LayerNormalization(epsilon=1e-6)(encoded_patches)\r\n",
        "    attention = MultiHeadAttention(num_heads, projection_dim, dropout=0.1)(x1, x1)\r\n",
        "\r\n",
        "    x2 = Add()([encoded_patches, attention])\r\n",
        "\r\n",
        "    x3 = LayerNormalization(epsilon=1e-6)(x2)\r\n",
        "\r\n",
        "    x3 = mlp(x3, transformer_units, 0.1)\r\n",
        "\r\n",
        "    encoded_patches = Add()([x2, x3])\r\n",
        "\r\n",
        "  representation = LayerNormalization(epsilon=1e-6)(encoded_patches)\r\n",
        "  representation = Flatten()(representation)\r\n",
        "  representation = Dropout(0.5)(representation)\r\n",
        "\r\n",
        "  features = mlp(representation, mlp_head_units, 0.5)\r\n",
        "  logits = Dense(num_classes)(features)\r\n",
        "  \r\n",
        "  model = tf.keras.Model(inputs=inputs, outputs=logits)\r\n",
        "  return model"
      ],
      "execution_count": 9,
      "outputs": []
    },
    {
      "cell_type": "code",
      "metadata": {
        "id": "sYprcxOPJBIv"
      },
      "source": [
        "def train(model):\r\n",
        "  optimizer = tfa.optimizers.AdamW(learning_rate=learning_rate,\r\n",
        "                                   weight_decay=weight_decay)\r\n",
        "  model.compile(optimizer=optimizer,\r\n",
        "                loss = tf.keras.losses.SparseCategoricalCrossentropy(from_logits=True),\r\n",
        "                metrics = [\r\n",
        "                    tf.keras.metrics.SparseCategoricalAccuracy(name='accuracy'),\r\n",
        "                    tf.keras.metrics.SparseTopKCategoricalAccuracy(5, name='top-5-accuracy')\r\n",
        "                  ]\r\n",
        "                )\r\n",
        "  checkpoint_filepath = '/tmp/checkpoint'\r\n",
        "  checkpoint_callback = tf.keras.callbacks.ModelCheckpoint(\r\n",
        "      checkpoint_filepath,\r\n",
        "      monitor='val_accuracy',\r\n",
        "      save_best_only=True,\r\n",
        "      save_weights_only=True,\r\n",
        "    )\r\n",
        "\r\n",
        "  history = model.fit(\r\n",
        "      x=x_train,\r\n",
        "      y=y_train,\r\n",
        "      batch_size=batch_size,\r\n",
        "      epochs=num_epochs,\r\n",
        "      validation_split=0.1,\r\n",
        "      callbacks=[checkpoint_callback],\r\n",
        "    )\r\n",
        "  model.load_weights(checkpoint_filepath)\r\n",
        "  _, accuracy, top_5_accuracy = model.evaluate(x_test, y_test)\r\n",
        "  print(f\"Test accuracy: {round(accuracy * 100, 2)}%\")\r\n",
        "  print(f\"Test top 5 accuracy: {round(top_5_accuracy * 100, 2)}%\")\r\n",
        "\r\n",
        "  return history\r\n"
      ],
      "execution_count": 10,
      "outputs": []
    },
    {
      "cell_type": "code",
      "metadata": {
        "colab": {
          "base_uri": "https://localhost:8080/"
        },
        "id": "hjzSIh0-_0wb",
        "outputId": "4c221014-029c-42a6-a015-80983281f4b3"
      },
      "source": [
        "vit_classifier = create_vit()\r\n",
        "history = train(vit_classifier)"
      ],
      "execution_count": 11,
      "outputs": [
        {
          "output_type": "stream",
          "text": [
            "Epoch 1/50\n",
            "176/176 [==============================] - 78s 376ms/step - loss: 4.9119 - accuracy: 0.0300 - top-5-accuracy: 0.1118 - val_loss: 3.9339 - val_accuracy: 0.1032 - val_top-5-accuracy: 0.3032\n",
            "Epoch 2/50\n",
            "176/176 [==============================] - 65s 369ms/step - loss: 4.0006 - accuracy: 0.0868 - top-5-accuracy: 0.2712 - val_loss: 3.5408 - val_accuracy: 0.1550 - val_top-5-accuracy: 0.4060\n",
            "Epoch 3/50\n",
            "176/176 [==============================] - 65s 369ms/step - loss: 3.7020 - accuracy: 0.1289 - top-5-accuracy: 0.3613 - val_loss: 3.3514 - val_accuracy: 0.2030 - val_top-5-accuracy: 0.4746\n",
            "Epoch 4/50\n",
            "176/176 [==============================] - 65s 370ms/step - loss: 3.4904 - accuracy: 0.1617 - top-5-accuracy: 0.4267 - val_loss: 3.1819 - val_accuracy: 0.2262 - val_top-5-accuracy: 0.5194\n",
            "Epoch 5/50\n",
            "176/176 [==============================] - 65s 369ms/step - loss: 3.3456 - accuracy: 0.1863 - top-5-accuracy: 0.4639 - val_loss: 3.0567 - val_accuracy: 0.2544 - val_top-5-accuracy: 0.5534\n",
            "Epoch 6/50\n",
            "176/176 [==============================] - 65s 369ms/step - loss: 3.1926 - accuracy: 0.2218 - top-5-accuracy: 0.5060 - val_loss: 2.9413 - val_accuracy: 0.2730 - val_top-5-accuracy: 0.5754\n",
            "Epoch 7/50\n",
            "176/176 [==============================] - 65s 370ms/step - loss: 3.0624 - accuracy: 0.2400 - top-5-accuracy: 0.5398 - val_loss: 2.8103 - val_accuracy: 0.3000 - val_top-5-accuracy: 0.6056\n",
            "Epoch 8/50\n",
            "176/176 [==============================] - 65s 369ms/step - loss: 2.9395 - accuracy: 0.2659 - top-5-accuracy: 0.5724 - val_loss: 2.6834 - val_accuracy: 0.3210 - val_top-5-accuracy: 0.6304\n",
            "Epoch 9/50\n",
            "176/176 [==============================] - 65s 369ms/step - loss: 2.8401 - accuracy: 0.2848 - top-5-accuracy: 0.5983 - val_loss: 2.5960 - val_accuracy: 0.3364 - val_top-5-accuracy: 0.6522\n",
            "Epoch 10/50\n",
            "176/176 [==============================] - 65s 369ms/step - loss: 2.7292 - accuracy: 0.3078 - top-5-accuracy: 0.6247 - val_loss: 2.5291 - val_accuracy: 0.3580 - val_top-5-accuracy: 0.6648\n",
            "Epoch 11/50\n",
            "176/176 [==============================] - 65s 369ms/step - loss: 2.6263 - accuracy: 0.3288 - top-5-accuracy: 0.6471 - val_loss: 2.4287 - val_accuracy: 0.3820 - val_top-5-accuracy: 0.6828\n",
            "Epoch 12/50\n",
            "176/176 [==============================] - 65s 369ms/step - loss: 2.5441 - accuracy: 0.3437 - top-5-accuracy: 0.6587 - val_loss: 2.3722 - val_accuracy: 0.3904 - val_top-5-accuracy: 0.6894\n",
            "Epoch 13/50\n",
            "176/176 [==============================] - 65s 369ms/step - loss: 2.4608 - accuracy: 0.3619 - top-5-accuracy: 0.6800 - val_loss: 2.3387 - val_accuracy: 0.3958 - val_top-5-accuracy: 0.7040\n",
            "Epoch 14/50\n",
            "176/176 [==============================] - 65s 369ms/step - loss: 2.4046 - accuracy: 0.3722 - top-5-accuracy: 0.6925 - val_loss: 2.2972 - val_accuracy: 0.4048 - val_top-5-accuracy: 0.7130\n",
            "Epoch 15/50\n",
            "176/176 [==============================] - 65s 369ms/step - loss: 2.3338 - accuracy: 0.3908 - top-5-accuracy: 0.7077 - val_loss: 2.3021 - val_accuracy: 0.4066 - val_top-5-accuracy: 0.7048\n",
            "Epoch 16/50\n",
            "176/176 [==============================] - 65s 369ms/step - loss: 2.2645 - accuracy: 0.4011 - top-5-accuracy: 0.7248 - val_loss: 2.2068 - val_accuracy: 0.4204 - val_top-5-accuracy: 0.7296\n",
            "Epoch 17/50\n",
            "176/176 [==============================] - 65s 369ms/step - loss: 2.1845 - accuracy: 0.4223 - top-5-accuracy: 0.7358 - val_loss: 2.1825 - val_accuracy: 0.4268 - val_top-5-accuracy: 0.7342\n",
            "Epoch 18/50\n",
            "176/176 [==============================] - 65s 369ms/step - loss: 2.1403 - accuracy: 0.4291 - top-5-accuracy: 0.7460 - val_loss: 2.1433 - val_accuracy: 0.4348 - val_top-5-accuracy: 0.7404\n",
            "Epoch 19/50\n",
            "176/176 [==============================] - 65s 369ms/step - loss: 2.0840 - accuracy: 0.4445 - top-5-accuracy: 0.7563 - val_loss: 2.1125 - val_accuracy: 0.4494 - val_top-5-accuracy: 0.7468\n",
            "Epoch 20/50\n",
            "176/176 [==============================] - 65s 369ms/step - loss: 2.0282 - accuracy: 0.4538 - top-5-accuracy: 0.7677 - val_loss: 2.1096 - val_accuracy: 0.4506 - val_top-5-accuracy: 0.7426\n",
            "Epoch 21/50\n",
            "176/176 [==============================] - 65s 369ms/step - loss: 1.9702 - accuracy: 0.4662 - top-5-accuracy: 0.7815 - val_loss: 2.0992 - val_accuracy: 0.4462 - val_top-5-accuracy: 0.7464\n",
            "Epoch 22/50\n",
            "176/176 [==============================] - 65s 369ms/step - loss: 1.9174 - accuracy: 0.4800 - top-5-accuracy: 0.7914 - val_loss: 2.0652 - val_accuracy: 0.4572 - val_top-5-accuracy: 0.7536\n",
            "Epoch 23/50\n",
            "176/176 [==============================] - 65s 369ms/step - loss: 1.8756 - accuracy: 0.4879 - top-5-accuracy: 0.7998 - val_loss: 2.0185 - val_accuracy: 0.4636 - val_top-5-accuracy: 0.7646\n",
            "Epoch 24/50\n",
            "176/176 [==============================] - 65s 369ms/step - loss: 1.8245 - accuracy: 0.5016 - top-5-accuracy: 0.8083 - val_loss: 2.0078 - val_accuracy: 0.4708 - val_top-5-accuracy: 0.7682\n",
            "Epoch 25/50\n",
            "176/176 [==============================] - 65s 369ms/step - loss: 1.7706 - accuracy: 0.5160 - top-5-accuracy: 0.8159 - val_loss: 2.0140 - val_accuracy: 0.4710 - val_top-5-accuracy: 0.7632\n",
            "Epoch 26/50\n",
            "176/176 [==============================] - 65s 369ms/step - loss: 1.7463 - accuracy: 0.5221 - top-5-accuracy: 0.8213 - val_loss: 1.9709 - val_accuracy: 0.4770 - val_top-5-accuracy: 0.7750\n",
            "Epoch 27/50\n",
            "176/176 [==============================] - 65s 369ms/step - loss: 1.7060 - accuracy: 0.5274 - top-5-accuracy: 0.8315 - val_loss: 1.9556 - val_accuracy: 0.4794 - val_top-5-accuracy: 0.7728\n",
            "Epoch 28/50\n",
            "176/176 [==============================] - 65s 369ms/step - loss: 1.6558 - accuracy: 0.5395 - top-5-accuracy: 0.8367 - val_loss: 1.9445 - val_accuracy: 0.4832 - val_top-5-accuracy: 0.7786\n",
            "Epoch 29/50\n",
            "176/176 [==============================] - 65s 369ms/step - loss: 1.6453 - accuracy: 0.5442 - top-5-accuracy: 0.8386 - val_loss: 1.9449 - val_accuracy: 0.4882 - val_top-5-accuracy: 0.7804\n",
            "Epoch 30/50\n",
            "176/176 [==============================] - 65s 369ms/step - loss: 1.5877 - accuracy: 0.5532 - top-5-accuracy: 0.8510 - val_loss: 1.9402 - val_accuracy: 0.4908 - val_top-5-accuracy: 0.7868\n",
            "Epoch 31/50\n",
            "176/176 [==============================] - 65s 369ms/step - loss: 1.5397 - accuracy: 0.5664 - top-5-accuracy: 0.8575 - val_loss: 1.9187 - val_accuracy: 0.4956 - val_top-5-accuracy: 0.7860\n",
            "Epoch 32/50\n",
            "176/176 [==============================] - 65s 370ms/step - loss: 1.5457 - accuracy: 0.5666 - top-5-accuracy: 0.8569 - val_loss: 1.8979 - val_accuracy: 0.5018 - val_top-5-accuracy: 0.7930\n",
            "Epoch 33/50\n",
            "176/176 [==============================] - 65s 368ms/step - loss: 1.4776 - accuracy: 0.5817 - top-5-accuracy: 0.8667 - val_loss: 1.9109 - val_accuracy: 0.5032 - val_top-5-accuracy: 0.7912\n",
            "Epoch 34/50\n",
            "176/176 [==============================] - 65s 369ms/step - loss: 1.4663 - accuracy: 0.5858 - top-5-accuracy: 0.8703 - val_loss: 1.9006 - val_accuracy: 0.5036 - val_top-5-accuracy: 0.7892\n",
            "Epoch 35/50\n",
            "176/176 [==============================] - 65s 369ms/step - loss: 1.4357 - accuracy: 0.5897 - top-5-accuracy: 0.8735 - val_loss: 1.8894 - val_accuracy: 0.5070 - val_top-5-accuracy: 0.7884\n",
            "Epoch 36/50\n",
            "176/176 [==============================] - 65s 369ms/step - loss: 1.3926 - accuracy: 0.6008 - top-5-accuracy: 0.8824 - val_loss: 1.8960 - val_accuracy: 0.5012 - val_top-5-accuracy: 0.7908\n",
            "Epoch 37/50\n",
            "176/176 [==============================] - 65s 369ms/step - loss: 1.3652 - accuracy: 0.6118 - top-5-accuracy: 0.8855 - val_loss: 1.9241 - val_accuracy: 0.5082 - val_top-5-accuracy: 0.7898\n",
            "Epoch 38/50\n",
            "176/176 [==============================] - 65s 369ms/step - loss: 1.3401 - accuracy: 0.6132 - top-5-accuracy: 0.8906 - val_loss: 1.8939 - val_accuracy: 0.5102 - val_top-5-accuracy: 0.7966\n",
            "Epoch 39/50\n",
            "176/176 [==============================] - 65s 369ms/step - loss: 1.3145 - accuracy: 0.6229 - top-5-accuracy: 0.8929 - val_loss: 1.8884 - val_accuracy: 0.5132 - val_top-5-accuracy: 0.7974\n",
            "Epoch 40/50\n",
            "176/176 [==============================] - 65s 369ms/step - loss: 1.3100 - accuracy: 0.6211 - top-5-accuracy: 0.8924 - val_loss: 1.8824 - val_accuracy: 0.5124 - val_top-5-accuracy: 0.7902\n",
            "Epoch 41/50\n",
            "176/176 [==============================] - 65s 369ms/step - loss: 1.2838 - accuracy: 0.6312 - top-5-accuracy: 0.8976 - val_loss: 1.8703 - val_accuracy: 0.5094 - val_top-5-accuracy: 0.7990\n",
            "Epoch 42/50\n",
            "176/176 [==============================] - 65s 369ms/step - loss: 1.2591 - accuracy: 0.6375 - top-5-accuracy: 0.9009 - val_loss: 1.9053 - val_accuracy: 0.5142 - val_top-5-accuracy: 0.7890\n",
            "Epoch 43/50\n",
            "176/176 [==============================] - 65s 369ms/step - loss: 1.2306 - accuracy: 0.6419 - top-5-accuracy: 0.9055 - val_loss: 1.8778 - val_accuracy: 0.5210 - val_top-5-accuracy: 0.7988\n",
            "Epoch 44/50\n",
            "176/176 [==============================] - 65s 369ms/step - loss: 1.2326 - accuracy: 0.6414 - top-5-accuracy: 0.9073 - val_loss: 1.8733 - val_accuracy: 0.5104 - val_top-5-accuracy: 0.7974\n",
            "Epoch 45/50\n",
            "176/176 [==============================] - 65s 369ms/step - loss: 1.1965 - accuracy: 0.6527 - top-5-accuracy: 0.9115 - val_loss: 1.8776 - val_accuracy: 0.5212 - val_top-5-accuracy: 0.7936\n",
            "Epoch 46/50\n",
            "176/176 [==============================] - 65s 369ms/step - loss: 1.1786 - accuracy: 0.6557 - top-5-accuracy: 0.9142 - val_loss: 1.8666 - val_accuracy: 0.5226 - val_top-5-accuracy: 0.7986\n",
            "Epoch 47/50\n",
            "176/176 [==============================] - 65s 369ms/step - loss: 1.1661 - accuracy: 0.6637 - top-5-accuracy: 0.9175 - val_loss: 1.8720 - val_accuracy: 0.5242 - val_top-5-accuracy: 0.7976\n",
            "Epoch 48/50\n",
            "176/176 [==============================] - 65s 369ms/step - loss: 1.1618 - accuracy: 0.6607 - top-5-accuracy: 0.9159 - val_loss: 1.8568 - val_accuracy: 0.5214 - val_top-5-accuracy: 0.8026\n",
            "Epoch 49/50\n",
            "176/176 [==============================] - 65s 368ms/step - loss: 1.1436 - accuracy: 0.6668 - top-5-accuracy: 0.9179 - val_loss: 1.8831 - val_accuracy: 0.5234 - val_top-5-accuracy: 0.8040\n",
            "Epoch 50/50\n",
            "176/176 [==============================] - 65s 368ms/step - loss: 1.1030 - accuracy: 0.6764 - top-5-accuracy: 0.9232 - val_loss: 1.8649 - val_accuracy: 0.5280 - val_top-5-accuracy: 0.8066\n",
            "313/313 [==============================] - 6s 20ms/step - loss: 1.8408 - accuracy: 0.5328 - top-5-accuracy: 0.8071\n",
            "Test accuracy: 53.28%\n",
            "Test top 5 accuracy: 80.71%\n"
          ],
          "name": "stdout"
        }
      ]
    }
  ]
}