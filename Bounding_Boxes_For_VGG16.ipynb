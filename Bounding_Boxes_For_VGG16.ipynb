{
  "nbformat": 4,
  "nbformat_minor": 0,
  "metadata": {
    "colab": {
      "name": "Bounding Boxes For VGG16",
      "provenance": [],
      "collapsed_sections": [],
      "authorship_tag": "ABX9TyN6/N0jiKEFPfDbFWV4y9Ru",
      "include_colab_link": true
    },
    "kernelspec": {
      "name": "python3",
      "display_name": "Python 3"
    }
  },
  "cells": [
    {
      "cell_type": "markdown",
      "metadata": {
        "id": "view-in-github",
        "colab_type": "text"
      },
      "source": [
        "<a href=\"https://colab.research.google.com/github/dude123studios/AdvancedDeepLearning/blob/main/Bounding_Boxes_For_VGG16.ipynb\" target=\"_parent\"><img src=\"https://colab.research.google.com/assets/colab-badge.svg\" alt=\"Open In Colab\"/></a>"
      ]
    },
    {
      "cell_type": "code",
      "metadata": {
        "colab": {
          "base_uri": "https://localhost:8080/"
        },
        "id": "sfvNO-sLurUz",
        "outputId": "1238bc9d-4a4f-4230-be1f-84a69758f66f"
      },
      "source": [
        "import tensorflow as tf\r\n",
        "from tensorflow.keras.applications.vgg16 import VGG16\r\n",
        "\r\n",
        "vgg = VGG16(weights='imagenet',include_top=False,\r\n",
        "            input_tensor=tf.keras.layers.Input(shape=(224,224,3)))\r\n",
        "\r\n",
        "vgg.trainable = False\r\n",
        "flatten = vgg.output\r\n",
        "flatten = tf.keras.layers.Flatten()(flatten)\r\n",
        "\r\n",
        "bbox_head = tf.keras.layers.Dense(128,activation='relu')(flatten)\r\n",
        "bbox_head = tf.keras.layers.Dense(64,activation='relu')(bbox_head)\r\n",
        "bbox_head = tf.keras.layers.Dense(32,activation='relu')(bbox_head)\r\n",
        "bbox_head = tf.keras.layers.Dense(4,activation='sigmoid',name='bounding_box')(bbox_head)\r\n",
        "\r\n",
        "softmax_head = tf.keras.layers.Dense(512,activation='relu')(flatten)\r\n",
        "softmax_head = tf.keras.layers.Dropout(0.5)(softmax_head)\r\n",
        "softmax_head = tf.keras.layers.Dense(512,activation='relu')(flatten)\r\n",
        "softmax_head = tf.keras.layers.Dropout(0.5)(softmax_head)\r\n",
        "softmax_head = tf.keras.layers.Dense(10,activation='softmax',name='class_head')(softmax_head)\r\n",
        "\r\n",
        "model = tf.keras.models.Model(inputs=vgg.input,outputs=(bbox_head,softmax_head))\r\n",
        "\r\n",
        "losses = {\r\n",
        "    'bounding_box':'categorical_crossentropy',\r\n",
        "    'class_head':'mean_squared_error'\r\n",
        "}\r\n",
        "loss_weights = {\r\n",
        "    'bounding_box':1.0,\r\n",
        "    'class_head':1.0\r\n",
        "}\r\n",
        "model.compile(optimizer='Adam',loss=losses,loss_weights=loss_weights,metrics=['accuracy'])\r\n",
        "model.summary()"
      ],
      "execution_count": 1,
      "outputs": [
        {
          "output_type": "stream",
          "text": [
            "Downloading data from https://storage.googleapis.com/tensorflow/keras-applications/vgg16/vgg16_weights_tf_dim_ordering_tf_kernels_notop.h5\n",
            "58892288/58889256 [==============================] - 0s 0us/step\n",
            "Model: \"model\"\n",
            "__________________________________________________________________________________________________\n",
            "Layer (type)                    Output Shape         Param #     Connected to                     \n",
            "==================================================================================================\n",
            "input_1 (InputLayer)            [(None, 224, 224, 3) 0                                            \n",
            "__________________________________________________________________________________________________\n",
            "block1_conv1 (Conv2D)           (None, 224, 224, 64) 1792        input_1[0][0]                    \n",
            "__________________________________________________________________________________________________\n",
            "block1_conv2 (Conv2D)           (None, 224, 224, 64) 36928       block1_conv1[0][0]               \n",
            "__________________________________________________________________________________________________\n",
            "block1_pool (MaxPooling2D)      (None, 112, 112, 64) 0           block1_conv2[0][0]               \n",
            "__________________________________________________________________________________________________\n",
            "block2_conv1 (Conv2D)           (None, 112, 112, 128 73856       block1_pool[0][0]                \n",
            "__________________________________________________________________________________________________\n",
            "block2_conv2 (Conv2D)           (None, 112, 112, 128 147584      block2_conv1[0][0]               \n",
            "__________________________________________________________________________________________________\n",
            "block2_pool (MaxPooling2D)      (None, 56, 56, 128)  0           block2_conv2[0][0]               \n",
            "__________________________________________________________________________________________________\n",
            "block3_conv1 (Conv2D)           (None, 56, 56, 256)  295168      block2_pool[0][0]                \n",
            "__________________________________________________________________________________________________\n",
            "block3_conv2 (Conv2D)           (None, 56, 56, 256)  590080      block3_conv1[0][0]               \n",
            "__________________________________________________________________________________________________\n",
            "block3_conv3 (Conv2D)           (None, 56, 56, 256)  590080      block3_conv2[0][0]               \n",
            "__________________________________________________________________________________________________\n",
            "block3_pool (MaxPooling2D)      (None, 28, 28, 256)  0           block3_conv3[0][0]               \n",
            "__________________________________________________________________________________________________\n",
            "block4_conv1 (Conv2D)           (None, 28, 28, 512)  1180160     block3_pool[0][0]                \n",
            "__________________________________________________________________________________________________\n",
            "block4_conv2 (Conv2D)           (None, 28, 28, 512)  2359808     block4_conv1[0][0]               \n",
            "__________________________________________________________________________________________________\n",
            "block4_conv3 (Conv2D)           (None, 28, 28, 512)  2359808     block4_conv2[0][0]               \n",
            "__________________________________________________________________________________________________\n",
            "block4_pool (MaxPooling2D)      (None, 14, 14, 512)  0           block4_conv3[0][0]               \n",
            "__________________________________________________________________________________________________\n",
            "block5_conv1 (Conv2D)           (None, 14, 14, 512)  2359808     block4_pool[0][0]                \n",
            "__________________________________________________________________________________________________\n",
            "block5_conv2 (Conv2D)           (None, 14, 14, 512)  2359808     block5_conv1[0][0]               \n",
            "__________________________________________________________________________________________________\n",
            "block5_conv3 (Conv2D)           (None, 14, 14, 512)  2359808     block5_conv2[0][0]               \n",
            "__________________________________________________________________________________________________\n",
            "block5_pool (MaxPooling2D)      (None, 7, 7, 512)    0           block5_conv3[0][0]               \n",
            "__________________________________________________________________________________________________\n",
            "flatten (Flatten)               (None, 25088)        0           block5_pool[0][0]                \n",
            "__________________________________________________________________________________________________\n",
            "dense (Dense)                   (None, 128)          3211392     flatten[0][0]                    \n",
            "__________________________________________________________________________________________________\n",
            "dense_1 (Dense)                 (None, 64)           8256        dense[0][0]                      \n",
            "__________________________________________________________________________________________________\n",
            "dense_4 (Dense)                 (None, 512)          12845568    flatten[0][0]                    \n",
            "__________________________________________________________________________________________________\n",
            "dense_2 (Dense)                 (None, 32)           2080        dense_1[0][0]                    \n",
            "__________________________________________________________________________________________________\n",
            "dropout_1 (Dropout)             (None, 512)          0           dense_4[0][0]                    \n",
            "__________________________________________________________________________________________________\n",
            "bounding_box (Dense)            (None, 4)            132         dense_2[0][0]                    \n",
            "__________________________________________________________________________________________________\n",
            "class_head (Dense)              (None, 10)           5130        dropout_1[0][0]                  \n",
            "==================================================================================================\n",
            "Total params: 30,787,246\n",
            "Trainable params: 16,072,558\n",
            "Non-trainable params: 14,714,688\n",
            "__________________________________________________________________________________________________\n"
          ],
          "name": "stdout"
        }
      ]
    }
  ]
}