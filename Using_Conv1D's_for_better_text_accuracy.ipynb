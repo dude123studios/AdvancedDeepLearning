{
  "nbformat": 4,
  "nbformat_minor": 0,
  "metadata": {
    "colab": {
      "name": "Using Conv1D's for better text accuracy",
      "provenance": [],
      "collapsed_sections": [],
      "authorship_tag": "ABX9TyOmambahLQYjmjXVfnMYM3u",
      "include_colab_link": true
    },
    "kernelspec": {
      "name": "python3",
      "display_name": "Python 3"
    },
    "accelerator": "GPU"
  },
  "cells": [
    {
      "cell_type": "markdown",
      "metadata": {
        "id": "view-in-github",
        "colab_type": "text"
      },
      "source": [
        "<a href=\"https://colab.research.google.com/github/dude123studios/AdvancedDeepLearning/blob/main/Using_Conv1D's_for_better_text_accuracy.ipynb\" target=\"_parent\"><img src=\"https://colab.research.google.com/assets/colab-badge.svg\" alt=\"Open In Colab\"/></a>"
      ]
    },
    {
      "cell_type": "code",
      "metadata": {
        "id": "Kly2rLbJAcNM"
      },
      "source": [
        "import tensorflow as tf\r\n",
        "from tensorflow.keras import datasets, layers, models, preprocessing\r\n",
        "\r\n",
        "max_len = 200\r\n",
        "n_words = 10000\r\n",
        "dim_embedding = 256\r\n",
        "EPOCHS = 20\r\n",
        "BATCH_SIZE = 500\r\n"
      ],
      "execution_count": 6,
      "outputs": []
    },
    {
      "cell_type": "code",
      "metadata": {
        "id": "BQYr8m0kAgCz"
      },
      "source": [
        "def load_data():\r\n",
        "    (x_train,y_train),(x_test,y_test) = datasets.imdb.load_data(num_words=n_words)\r\n",
        "    x_train = preprocessing.sequence.pad_sequences(x_train,maxlen=max_len)\r\n",
        "    x_test = preprocessing.sequence.pad_sequences(x_test,maxlen=max_len)\r\n",
        "    return (x_train,y_train),(x_test,y_test)"
      ],
      "execution_count": 3,
      "outputs": []
    },
    {
      "cell_type": "code",
      "metadata": {
        "id": "furquWeaAiaF"
      },
      "source": [
        "def build_model():\r\n",
        "\r\n",
        "    model = models.Sequential()\r\n",
        "    model.add(layers.Embedding(n_words,dim_embedding,input_length=max_len))\r\n",
        "    model.add(layers.Dropout(0.3))\r\n",
        "    model.add(layers.Conv1D(256,3,padding='valid',activation='relu'))\r\n",
        "    model.add(layers.GlobalMaxPooling1D())\r\n",
        "    model.add(layers.Dense(128, activation='relu'))\r\n",
        "    model.add(layers.Dropout(0.5))\r\n",
        "    model.add(layers.Dense(1,activation='sigmoid'))\r\n",
        "    model.compile(optimizer='adam',loss='binary_crossentropy',metrics=['accuracy'])\r\n",
        "    return model\r\n"
      ],
      "execution_count": 4,
      "outputs": []
    },
    {
      "cell_type": "code",
      "metadata": {
        "colab": {
          "base_uri": "https://localhost:8080/"
        },
        "id": "k8Mask8bAlwI",
        "outputId": "c59fd178-d5c1-4681-82f4-1fd0ef2d6195"
      },
      "source": [
        "(x_train,y_train),(x_test,y_test) = load_data()\r\n"
      ],
      "execution_count": 5,
      "outputs": [
        {
          "output_type": "stream",
          "text": [
            "Downloading data from https://storage.googleapis.com/tensorflow/tf-keras-datasets/imdb.npz\n",
            "17465344/17464789 [==============================] - 0s 0us/step\n"
          ],
          "name": "stdout"
        },
        {
          "output_type": "stream",
          "text": [
            "<string>:6: VisibleDeprecationWarning: Creating an ndarray from ragged nested sequences (which is a list-or-tuple of lists-or-tuples-or ndarrays with different lengths or shapes) is deprecated. If you meant to do this, you must specify 'dtype=object' when creating the ndarray\n",
            "/usr/local/lib/python3.6/dist-packages/tensorflow/python/keras/datasets/imdb.py:159: VisibleDeprecationWarning: Creating an ndarray from ragged nested sequences (which is a list-or-tuple of lists-or-tuples-or ndarrays with different lengths or shapes) is deprecated. If you meant to do this, you must specify 'dtype=object' when creating the ndarray\n",
            "  x_train, y_train = np.array(xs[:idx]), np.array(labels[:idx])\n",
            "/usr/local/lib/python3.6/dist-packages/tensorflow/python/keras/datasets/imdb.py:160: VisibleDeprecationWarning: Creating an ndarray from ragged nested sequences (which is a list-or-tuple of lists-or-tuples-or ndarrays with different lengths or shapes) is deprecated. If you meant to do this, you must specify 'dtype=object' when creating the ndarray\n",
            "  x_test, y_test = np.array(xs[idx:]), np.array(labels[idx:])\n"
          ],
          "name": "stderr"
        }
      ]
    },
    {
      "cell_type": "code",
      "metadata": {
        "colab": {
          "base_uri": "https://localhost:8080/"
        },
        "id": "Ehf_TsDNOVlF",
        "outputId": "75f3b993-0fe5-4754-dd54-d3b9abd1bd76"
      },
      "source": [
        "with tf.device('gpu:0'):\r\n",
        "    model = build_model()\r\n",
        "    model.summary()\r\n",
        "    score = model.fit(x_train,y_train,batch_size=BATCH_SIZE,\r\n",
        "                      epochs=EPOCHS,validation_data=(x_test,y_test))\r\n",
        "    score = model.evaluate(x_test,y_test,batch_size=BATCH_SIZE)\r\n",
        "    print('\\nTest score:',score[0])\r\n",
        "    print('Test accuracy:',score[1])"
      ],
      "execution_count": 7,
      "outputs": [
        {
          "output_type": "stream",
          "text": [
            "Model: \"sequential\"\n",
            "_________________________________________________________________\n",
            "Layer (type)                 Output Shape              Param #   \n",
            "=================================================================\n",
            "embedding (Embedding)        (None, 200, 256)          2560000   \n",
            "_________________________________________________________________\n",
            "dropout (Dropout)            (None, 200, 256)          0         \n",
            "_________________________________________________________________\n",
            "conv1d (Conv1D)              (None, 198, 256)          196864    \n",
            "_________________________________________________________________\n",
            "global_max_pooling1d (Global (None, 256)               0         \n",
            "_________________________________________________________________\n",
            "dense (Dense)                (None, 128)               32896     \n",
            "_________________________________________________________________\n",
            "dropout_1 (Dropout)          (None, 128)               0         \n",
            "_________________________________________________________________\n",
            "dense_1 (Dense)              (None, 1)                 129       \n",
            "=================================================================\n",
            "Total params: 2,789,889\n",
            "Trainable params: 2,789,889\n",
            "Non-trainable params: 0\n",
            "_________________________________________________________________\n",
            "Epoch 1/20\n",
            "50/50 [==============================] - 15s 149ms/step - loss: 0.6774 - accuracy: 0.5667 - val_loss: 0.4963 - val_accuracy: 0.7733\n",
            "Epoch 2/20\n",
            "50/50 [==============================] - 7s 142ms/step - loss: 0.4356 - accuracy: 0.8052 - val_loss: 0.3106 - val_accuracy: 0.8673\n",
            "Epoch 3/20\n",
            "50/50 [==============================] - 7s 143ms/step - loss: 0.2499 - accuracy: 0.9023 - val_loss: 0.2637 - val_accuracy: 0.8883\n",
            "Epoch 4/20\n",
            "50/50 [==============================] - 7s 144ms/step - loss: 0.1562 - accuracy: 0.9464 - val_loss: 0.2621 - val_accuracy: 0.8918\n",
            "Epoch 5/20\n",
            "50/50 [==============================] - 7s 143ms/step - loss: 0.0894 - accuracy: 0.9753 - val_loss: 0.2844 - val_accuracy: 0.8883\n",
            "Epoch 6/20\n",
            "50/50 [==============================] - 7s 141ms/step - loss: 0.0463 - accuracy: 0.9903 - val_loss: 0.3181 - val_accuracy: 0.8877\n",
            "Epoch 7/20\n",
            "50/50 [==============================] - 7s 144ms/step - loss: 0.0209 - accuracy: 0.9972 - val_loss: 0.3546 - val_accuracy: 0.8852\n",
            "Epoch 8/20\n",
            "50/50 [==============================] - 7s 143ms/step - loss: 0.0127 - accuracy: 0.9987 - val_loss: 0.3871 - val_accuracy: 0.8848\n",
            "Epoch 9/20\n",
            "50/50 [==============================] - 7s 143ms/step - loss: 0.0069 - accuracy: 0.9996 - val_loss: 0.4133 - val_accuracy: 0.8848\n",
            "Epoch 10/20\n",
            "50/50 [==============================] - 7s 139ms/step - loss: 0.0043 - accuracy: 0.9999 - val_loss: 0.4354 - val_accuracy: 0.8845\n",
            "Epoch 11/20\n",
            "50/50 [==============================] - 7s 141ms/step - loss: 0.0035 - accuracy: 0.9999 - val_loss: 0.4592 - val_accuracy: 0.8833\n",
            "Epoch 12/20\n",
            "50/50 [==============================] - 7s 143ms/step - loss: 0.0022 - accuracy: 0.9999 - val_loss: 0.4696 - val_accuracy: 0.8846\n",
            "Epoch 13/20\n",
            "50/50 [==============================] - 7s 143ms/step - loss: 0.0018 - accuracy: 1.0000 - val_loss: 0.4854 - val_accuracy: 0.8842\n",
            "Epoch 14/20\n",
            "50/50 [==============================] - 7s 141ms/step - loss: 0.0016 - accuracy: 0.9999 - val_loss: 0.5007 - val_accuracy: 0.8842\n",
            "Epoch 15/20\n",
            "50/50 [==============================] - 7s 144ms/step - loss: 0.0012 - accuracy: 1.0000 - val_loss: 0.5158 - val_accuracy: 0.8845\n",
            "Epoch 16/20\n",
            "50/50 [==============================] - 7s 140ms/step - loss: 8.9642e-04 - accuracy: 1.0000 - val_loss: 0.5296 - val_accuracy: 0.8828\n",
            "Epoch 17/20\n",
            "50/50 [==============================] - 7s 140ms/step - loss: 7.7410e-04 - accuracy: 1.0000 - val_loss: 0.5370 - val_accuracy: 0.8832\n",
            "Epoch 18/20\n",
            "50/50 [==============================] - 7s 142ms/step - loss: 6.7324e-04 - accuracy: 1.0000 - val_loss: 0.5468 - val_accuracy: 0.8839\n",
            "Epoch 19/20\n",
            "50/50 [==============================] - 7s 139ms/step - loss: 5.7454e-04 - accuracy: 1.0000 - val_loss: 0.5558 - val_accuracy: 0.8836\n",
            "Epoch 20/20\n",
            "50/50 [==============================] - 7s 142ms/step - loss: 5.9981e-04 - accuracy: 1.0000 - val_loss: 0.5618 - val_accuracy: 0.8830\n",
            "50/50 [==============================] - 2s 36ms/step - loss: 0.5618 - accuracy: 0.8830\n",
            "\n",
            "Test score: 0.5618067979812622\n",
            "Test accuracy: 0.8829600214958191\n"
          ],
          "name": "stdout"
        }
      ]
    }
  ]
}