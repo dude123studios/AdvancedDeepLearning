{
  "nbformat": 4,
  "nbformat_minor": 0,
  "metadata": {
    "colab": {
      "name": "Transfer Learning Basics",
      "provenance": [],
      "collapsed_sections": [],
      "authorship_tag": "ABX9TyMFjD510S1jxTEIVcHL9jkf",
      "include_colab_link": true
    },
    "kernelspec": {
      "name": "python3",
      "display_name": "Python 3"
    }
  },
  "cells": [
    {
      "cell_type": "markdown",
      "metadata": {
        "id": "view-in-github",
        "colab_type": "text"
      },
      "source": [
        "<a href=\"https://colab.research.google.com/github/dude123studios/AdvancedDeepLearning/blob/main/Transfer_Learning_Basics.ipynb\" target=\"_parent\"><img src=\"https://colab.research.google.com/assets/colab-badge.svg\" alt=\"Open In Colab\"/></a>"
      ]
    },
    {
      "cell_type": "code",
      "metadata": {
        "id": "e8We73fBWcaj"
      },
      "source": [
        "import tensorflow as tf\r\n",
        "from tensorflow.keras.applications.inception_v3 import InceptionV3\r\n",
        "from tensorflow.keras.preprocessing import image\r\n",
        "from tensorflow.keras import  layers, models\r\n",
        "\r\n",
        "strategy = tf.distribute.MirroredStrategy(devices=['GPU:0'])\r\n",
        "with strategy.scope():\r\n",
        "    base_model = InceptionV3(weights='imagenet',include_top=False)\r\n",
        "\r\n",
        "    x = base_model.output\r\n",
        "    x = layers.Dense(1024,activation='relu')(x)\r\n",
        "    preds = layers.Dense(200,activation='softmax')(x)\r\n",
        "\r\n",
        "    model = models.Model(inputs=base_model.input,outputs=preds)\r\n",
        "    base_model.trainable = False\r\n",
        "    model.compile(optimizer='rmsprop',loss='categorical_crossentropy')\r\n",
        "\r\n",
        "#use actual data and stuff\r\n",
        "model.fit()\r\n",
        "\r\n",
        "with strategy.scope():\r\n",
        "    for layers in model.layers[:172]:\r\n",
        "        layers.trainable = False\r\n",
        "    for layers in model,layers[172:]:\r\n",
        "        layers.trainable = True\r\n",
        "    model.compile(optimizer=tf.keras.optimizers.SGD(lr=0.0001,momentum=0.9),\r\n",
        "                  loss='categorical_crossentropy',metrics=['accuracy'])\r\n",
        "#use rest of dataset \r\n",
        "model.fit()"
      ],
      "execution_count": null,
      "outputs": []
    }
  ]
}