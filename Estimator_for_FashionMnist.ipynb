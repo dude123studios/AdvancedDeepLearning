{
  "nbformat": 4,
  "nbformat_minor": 0,
  "metadata": {
    "colab": {
      "name": "Estimator for FashionMnist",
      "provenance": [],
      "collapsed_sections": [],
      "authorship_tag": "ABX9TyNgvpyhWk7tC1A8IvXdIJJ8",
      "include_colab_link": true
    },
    "kernelspec": {
      "name": "python3",
      "display_name": "Python 3"
    },
    "accelerator": "GPU"
  },
  "cells": [
    {
      "cell_type": "markdown",
      "metadata": {
        "id": "view-in-github",
        "colab_type": "text"
      },
      "source": [
        "<a href=\"https://colab.research.google.com/github/dude123studios/AdvancedDeepLearning/blob/main/Estimator_for_FashionMnist.ipynb\" target=\"_parent\"><img src=\"https://colab.research.google.com/assets/colab-badge.svg\" alt=\"Open In Colab\"/></a>"
      ]
    },
    {
      "cell_type": "code",
      "metadata": {
        "colab": {
          "base_uri": "https://localhost:8080/"
        },
        "id": "G_tFHpZPiqhF",
        "outputId": "07675166-703b-44da-bb66-deea59762839"
      },
      "source": [
        "import os\r\n",
        "import time\r\n",
        "import tensorflow as tf\r\n",
        "import numpy as np\r\n",
        "\r\n",
        "LABEL_DIM = 10\r\n",
        "\r\n",
        "(train_img,train_lbs),(test_img,test_lbs) = tf.keras.datasets.fashion_mnist.load_data()\r\n",
        "TRAINING_SIZE = len(train_img)\r\n",
        "TEST_SIZE = len(test_img)\r\n",
        "\r\n",
        "train_img = np.asarray(train_img,dtype='float32')/255.0\r\n",
        "train_img = train_img.reshape((TRAINING_SIZE,28,28,1))\r\n",
        "test_img = np.asarray(test_img,dtype='float32')/255.0\r\n",
        "test_img = test_img.reshape((TEST_SIZE,28,28,1))\r\n",
        "\r\n",
        "train_lbs = tf.keras.utils.to_categorical(train_lbs,LABEL_DIM)\r\n",
        "test_lbs = tf.keras.utils.to_categorical(test_lbs,LABEL_DIM)\r\n",
        "train_lbs = train_lbs.astype('float32')\r\n",
        "test_lbs = test_lbs.astype('float32')\r\n",
        "print(test_lbs.shape)\r\n",
        "print(train_lbs.shape)"
      ],
      "execution_count": 2,
      "outputs": [
        {
          "output_type": "stream",
          "text": [
            "Downloading data from https://storage.googleapis.com/tensorflow/tf-keras-datasets/train-labels-idx1-ubyte.gz\n",
            "32768/29515 [=================================] - 0s 0us/step\n",
            "Downloading data from https://storage.googleapis.com/tensorflow/tf-keras-datasets/train-images-idx3-ubyte.gz\n",
            "26427392/26421880 [==============================] - 0s 0us/step\n",
            "Downloading data from https://storage.googleapis.com/tensorflow/tf-keras-datasets/t10k-labels-idx1-ubyte.gz\n",
            "8192/5148 [===============================================] - 0s 0us/step\n",
            "Downloading data from https://storage.googleapis.com/tensorflow/tf-keras-datasets/t10k-images-idx3-ubyte.gz\n",
            "4423680/4422102 [==============================] - 0s 0us/step\n",
            "(10000, 10)\n",
            "(60000, 10)\n"
          ],
          "name": "stdout"
        }
      ]
    },
    {
      "cell_type": "code",
      "metadata": {
        "id": "cuYDRIoemWDV",
        "colab": {
          "base_uri": "https://localhost:8080/"
        },
        "outputId": "64a83320-280c-4920-9d68-6b425f2586de"
      },
      "source": [
        "inputs = tf.keras.layers.Input(shape=(train_img.shape[1:]))\r\n",
        "x = tf.keras.layers.Conv2D(filters=32,kernel_size=(3,3),activation='relu')(inputs)\r\n",
        "x = tf.keras.layers.MaxPool2D(pool_size=(2,2),strides=2)(x)\r\n",
        "x = tf.keras.layers.Conv2D(filters=64,kernel_size=(3,3),activation='relu')(x)\r\n",
        "x = tf.keras.layers.MaxPool2D((2,2),strides=2)(x)\r\n",
        "x = tf.keras.layers.Conv2D(filters=64,kernel_size=(3,3),activation='relu')(x)\r\n",
        "x = tf.keras.layers.Flatten()(x)\r\n",
        "x = tf.keras.layers.Dense(64,activation='relu')(x)\r\n",
        "preds = tf.keras.layers.Dense(LABEL_DIM,activation='softmax')(x)\r\n",
        "model = tf.keras.models.Model(inputs=inputs,outputs=preds)\r\n",
        "model.summary()"
      ],
      "execution_count": 3,
      "outputs": [
        {
          "output_type": "stream",
          "text": [
            "Model: \"model\"\n",
            "_________________________________________________________________\n",
            "Layer (type)                 Output Shape              Param #   \n",
            "=================================================================\n",
            "input_1 (InputLayer)         [(None, 28, 28, 1)]       0         \n",
            "_________________________________________________________________\n",
            "conv2d (Conv2D)              (None, 26, 26, 32)        320       \n",
            "_________________________________________________________________\n",
            "max_pooling2d (MaxPooling2D) (None, 13, 13, 32)        0         \n",
            "_________________________________________________________________\n",
            "conv2d_1 (Conv2D)            (None, 11, 11, 64)        18496     \n",
            "_________________________________________________________________\n",
            "max_pooling2d_1 (MaxPooling2 (None, 5, 5, 64)          0         \n",
            "_________________________________________________________________\n",
            "conv2d_2 (Conv2D)            (None, 3, 3, 64)          36928     \n",
            "_________________________________________________________________\n",
            "flatten (Flatten)            (None, 576)               0         \n",
            "_________________________________________________________________\n",
            "dense (Dense)                (None, 64)                36928     \n",
            "_________________________________________________________________\n",
            "dense_1 (Dense)              (None, 10)                650       \n",
            "=================================================================\n",
            "Total params: 93,322\n",
            "Trainable params: 93,322\n",
            "Non-trainable params: 0\n",
            "_________________________________________________________________\n"
          ],
          "name": "stdout"
        }
      ]
    },
    {
      "cell_type": "code",
      "metadata": {
        "colab": {
          "base_uri": "https://localhost:8080/"
        },
        "id": "9A8fYX5zOjis",
        "outputId": "31db1f52-706a-4d56-98e2-d9ef518e5f80"
      },
      "source": [
        "optim = tf.keras.optimizers.SGD()\r\n",
        "model.compile(optimizer=optim,loss='categorical_crossentropy',metrics=['accuracy'])\r\n",
        "strategy = tf.distribute.MirroredStrategy()\r\n",
        "config = tf.estimator.RunConfig(train_distribute=strategy)\r\n",
        "estimator = tf.keras.estimator.model_to_estimator(model,config=config)"
      ],
      "execution_count": 4,
      "outputs": [
        {
          "output_type": "stream",
          "text": [
            "INFO:tensorflow:Using MirroredStrategy with devices ('/job:localhost/replica:0/task:0/device:GPU:0',)\n",
            "INFO:tensorflow:Initializing RunConfig with distribution strategies.\n",
            "INFO:tensorflow:Not using Distribute Coordinator.\n",
            "WARNING:tensorflow:Using temporary folder as model directory: /tmp/tmprpxq358k\n",
            "INFO:tensorflow:Using the Keras model provided.\n"
          ],
          "name": "stdout"
        },
        {
          "output_type": "stream",
          "text": [
            "/usr/local/lib/python3.6/dist-packages/tensorflow/python/keras/backend.py:434: UserWarning: `tf.keras.backend.set_learning_phase` is deprecated and will be removed after 2020-10-11. To update it, simply pass a True/False value to the `training` argument of the `__call__` method of your layer or model.\n",
            "  warnings.warn('`tf.keras.backend.set_learning_phase` is deprecated and '\n"
          ],
          "name": "stderr"
        },
        {
          "output_type": "stream",
          "text": [
            "INFO:tensorflow:Using config: {'_model_dir': '/tmp/tmprpxq358k', '_tf_random_seed': None, '_save_summary_steps': 100, '_save_checkpoints_steps': None, '_save_checkpoints_secs': 600, '_session_config': allow_soft_placement: true\n",
            "graph_options {\n",
            "  rewrite_options {\n",
            "    meta_optimizer_iterations: ONE\n",
            "  }\n",
            "}\n",
            ", '_keep_checkpoint_max': 5, '_keep_checkpoint_every_n_hours': 10000, '_log_step_count_steps': 100, '_train_distribute': <tensorflow.python.distribute.mirrored_strategy.MirroredStrategy object at 0x7fadb03c68d0>, '_device_fn': None, '_protocol': None, '_eval_distribute': None, '_experimental_distribute': None, '_experimental_max_worker_delay_secs': None, '_session_creation_timeout_secs': 7200, '_checkpoint_save_graph_def': True, '_service': None, '_cluster_spec': ClusterSpec({}), '_task_type': 'worker', '_task_id': 0, '_global_id_in_cluster': 0, '_master': '', '_evaluation_master': '', '_is_chief': True, '_num_ps_replicas': 0, '_num_worker_replicas': 1, '_distribute_coordinator_mode': None}\n"
          ],
          "name": "stdout"
        }
      ]
    },
    {
      "cell_type": "code",
      "metadata": {
        "colab": {
          "base_uri": "https://localhost:8080/"
        },
        "id": "WMmoJhT9PqBM",
        "outputId": "481a68fd-4c37-4f82-e22b-e5de807da11d"
      },
      "source": [
        "def input_fn(images,labels,epochs,batch_size):\r\n",
        "    dataset = tf.data.Dataset.from_tensor_slices((images,labels))\r\n",
        "    SHUFFLE_SIZE = 60000\r\n",
        "    dataset = dataset.shuffle(SHUFFLE_SIZE).repeat(epochs).batch(batch_size)\r\n",
        "    dataset = dataset.prefetch(None)\r\n",
        "    return dataset\r\n",
        "\r\n",
        "BATCH_SIZE = 512\r\n",
        "EPOCHS = 50\r\n",
        "estimator_train_results=\\\r\n",
        "    estimator.train(input_fn=lambda:input_fn(train_img,train_lbs,EPOCHS,BATCH_SIZE))\r\n",
        "print(estimator_train_results)\r\n",
        "\r\n",
        "estimator.evaluate(lambda:input_fn(test_img,test_lbs,1,BATCH_SIZE))"
      ],
      "execution_count": 5,
      "outputs": [
        {
          "output_type": "stream",
          "text": [
            "INFO:tensorflow:Calling model_fn.\n"
          ],
          "name": "stdout"
        },
        {
          "output_type": "stream",
          "text": [
            "/usr/local/lib/python3.6/dist-packages/tensorflow/python/keras/backend.py:434: UserWarning: `tf.keras.backend.set_learning_phase` is deprecated and will be removed after 2020-10-11. To update it, simply pass a True/False value to the `training` argument of the `__call__` method of your layer or model.\n",
            "  warnings.warn('`tf.keras.backend.set_learning_phase` is deprecated and '\n"
          ],
          "name": "stderr"
        },
        {
          "output_type": "stream",
          "text": [
            "INFO:tensorflow:Reduce to /replica:0/task:0/device:CPU:0 then broadcast to ('/replica:0/task:0/device:CPU:0',).\n",
            "INFO:tensorflow:Reduce to /replica:0/task:0/device:CPU:0 then broadcast to ('/replica:0/task:0/device:CPU:0',).\n",
            "INFO:tensorflow:Reduce to /replica:0/task:0/device:CPU:0 then broadcast to ('/replica:0/task:0/device:CPU:0',).\n",
            "INFO:tensorflow:Reduce to /replica:0/task:0/device:CPU:0 then broadcast to ('/replica:0/task:0/device:CPU:0',).\n",
            "INFO:tensorflow:Reduce to /replica:0/task:0/device:CPU:0 then broadcast to ('/replica:0/task:0/device:CPU:0',).\n",
            "INFO:tensorflow:Reduce to /replica:0/task:0/device:CPU:0 then broadcast to ('/replica:0/task:0/device:CPU:0',).\n",
            "INFO:tensorflow:Reduce to /replica:0/task:0/device:CPU:0 then broadcast to ('/replica:0/task:0/device:CPU:0',).\n",
            "INFO:tensorflow:Reduce to /replica:0/task:0/device:CPU:0 then broadcast to ('/replica:0/task:0/device:CPU:0',).\n",
            "INFO:tensorflow:Reduce to /replica:0/task:0/device:CPU:0 then broadcast to ('/replica:0/task:0/device:CPU:0',).\n",
            "INFO:tensorflow:Reduce to /replica:0/task:0/device:CPU:0 then broadcast to ('/replica:0/task:0/device:CPU:0',).\n",
            "INFO:tensorflow:Done calling model_fn.\n",
            "INFO:tensorflow:Warm-starting with WarmStartSettings: WarmStartSettings(ckpt_to_initialize_from='/tmp/tmprpxq358k/keras/keras_model.ckpt', vars_to_warm_start='.*', var_name_to_vocab_info={}, var_name_to_prev_var_name={})\n",
            "INFO:tensorflow:Warm-starting from: /tmp/tmprpxq358k/keras/keras_model.ckpt\n",
            "INFO:tensorflow:Warm-starting variables only in TRAINABLE_VARIABLES.\n",
            "INFO:tensorflow:Warm-started 10 variables.\n",
            "INFO:tensorflow:Create CheckpointSaverHook.\n",
            "WARNING:tensorflow:From /usr/local/lib/python3.6/dist-packages/tensorflow_estimator/python/estimator/util.py:96: DistributedIteratorV1.initialize (from tensorflow.python.distribute.input_lib) is deprecated and will be removed in a future version.\n",
            "Instructions for updating:\n",
            "Use the iterator's `initializer` property instead.\n",
            "INFO:tensorflow:Graph was finalized.\n",
            "INFO:tensorflow:Running local_init_op.\n",
            "INFO:tensorflow:Done running local_init_op.\n",
            "INFO:tensorflow:Calling checkpoint listeners before saving checkpoint 0...\n",
            "INFO:tensorflow:Saving checkpoints for 0 into /tmp/tmprpxq358k/model.ckpt.\n",
            "INFO:tensorflow:Calling checkpoint listeners after saving checkpoint 0...\n",
            "INFO:tensorflow:loss = 2.309979, step = 0\n",
            "INFO:tensorflow:global_step/sec: 87.9411\n",
            "INFO:tensorflow:loss = 2.2471108, step = 100 (1.138 sec)\n",
            "INFO:tensorflow:global_step/sec: 91.9348\n",
            "INFO:tensorflow:loss = 2.054945, step = 200 (1.091 sec)\n",
            "INFO:tensorflow:global_step/sec: 91.692\n",
            "INFO:tensorflow:loss = 1.2258885, step = 300 (1.087 sec)\n",
            "INFO:tensorflow:global_step/sec: 90.1411\n",
            "INFO:tensorflow:loss = 0.9494245, step = 400 (1.113 sec)\n",
            "INFO:tensorflow:global_step/sec: 87.6632\n",
            "INFO:tensorflow:loss = 0.88147676, step = 500 (1.137 sec)\n",
            "INFO:tensorflow:global_step/sec: 90.094\n",
            "INFO:tensorflow:loss = 0.7965173, step = 600 (1.112 sec)\n",
            "INFO:tensorflow:global_step/sec: 89.8884\n",
            "INFO:tensorflow:loss = 0.8154922, step = 700 (1.113 sec)\n",
            "INFO:tensorflow:global_step/sec: 91.5045\n",
            "INFO:tensorflow:loss = 0.7367308, step = 800 (1.092 sec)\n",
            "INFO:tensorflow:global_step/sec: 90.0121\n",
            "INFO:tensorflow:loss = 0.6843555, step = 900 (1.112 sec)\n",
            "INFO:tensorflow:global_step/sec: 91.587\n",
            "INFO:tensorflow:loss = 0.69692, step = 1000 (1.092 sec)\n",
            "INFO:tensorflow:global_step/sec: 92.1653\n",
            "INFO:tensorflow:loss = 0.7112026, step = 1100 (1.086 sec)\n",
            "INFO:tensorflow:global_step/sec: 90.186\n",
            "INFO:tensorflow:loss = 0.62940955, step = 1200 (1.109 sec)\n",
            "INFO:tensorflow:global_step/sec: 91.2666\n",
            "INFO:tensorflow:loss = 0.7284065, step = 1300 (1.093 sec)\n",
            "INFO:tensorflow:global_step/sec: 93.1734\n",
            "INFO:tensorflow:loss = 0.71375155, step = 1400 (1.076 sec)\n",
            "INFO:tensorflow:global_step/sec: 90.3703\n",
            "INFO:tensorflow:loss = 0.6082722, step = 1500 (1.107 sec)\n",
            "INFO:tensorflow:global_step/sec: 88.9245\n",
            "INFO:tensorflow:loss = 0.6153282, step = 1600 (1.122 sec)\n",
            "INFO:tensorflow:global_step/sec: 89.5016\n",
            "INFO:tensorflow:loss = 0.5777012, step = 1700 (1.119 sec)\n",
            "INFO:tensorflow:global_step/sec: 90.6002\n",
            "INFO:tensorflow:loss = 0.62189233, step = 1800 (1.103 sec)\n",
            "INFO:tensorflow:global_step/sec: 91.0533\n",
            "INFO:tensorflow:loss = 0.6472604, step = 1900 (1.100 sec)\n",
            "INFO:tensorflow:global_step/sec: 88.8266\n",
            "INFO:tensorflow:loss = 0.5481998, step = 2000 (1.124 sec)\n",
            "INFO:tensorflow:global_step/sec: 89.9803\n",
            "INFO:tensorflow:loss = 0.58362186, step = 2100 (1.112 sec)\n",
            "INFO:tensorflow:global_step/sec: 89.0079\n",
            "INFO:tensorflow:loss = 0.56979305, step = 2200 (1.121 sec)\n",
            "INFO:tensorflow:global_step/sec: 85.43\n",
            "INFO:tensorflow:loss = 0.59691894, step = 2300 (1.173 sec)\n",
            "INFO:tensorflow:global_step/sec: 78.3663\n",
            "INFO:tensorflow:loss = 0.4970878, step = 2400 (1.276 sec)\n",
            "INFO:tensorflow:global_step/sec: 90.112\n",
            "INFO:tensorflow:loss = 0.48915234, step = 2500 (1.109 sec)\n",
            "INFO:tensorflow:global_step/sec: 90.3252\n",
            "INFO:tensorflow:loss = 0.58179915, step = 2600 (1.106 sec)\n",
            "INFO:tensorflow:global_step/sec: 89.2008\n",
            "INFO:tensorflow:loss = 0.59612274, step = 2700 (1.123 sec)\n",
            "INFO:tensorflow:global_step/sec: 89.3803\n",
            "INFO:tensorflow:loss = 0.49830326, step = 2800 (1.117 sec)\n",
            "INFO:tensorflow:global_step/sec: 89.0159\n",
            "INFO:tensorflow:loss = 0.5097927, step = 2900 (1.125 sec)\n",
            "INFO:tensorflow:global_step/sec: 89.8611\n",
            "INFO:tensorflow:loss = 0.5498858, step = 3000 (1.110 sec)\n",
            "INFO:tensorflow:global_step/sec: 90.7471\n",
            "INFO:tensorflow:loss = 0.49010527, step = 3100 (1.104 sec)\n",
            "INFO:tensorflow:global_step/sec: 89.1073\n",
            "INFO:tensorflow:loss = 0.45246196, step = 3200 (1.122 sec)\n",
            "INFO:tensorflow:global_step/sec: 89.0631\n",
            "INFO:tensorflow:loss = 0.52947664, step = 3300 (1.122 sec)\n",
            "INFO:tensorflow:global_step/sec: 89.9096\n",
            "INFO:tensorflow:loss = 0.47273916, step = 3400 (1.111 sec)\n",
            "INFO:tensorflow:global_step/sec: 88.7331\n",
            "INFO:tensorflow:loss = 0.45667124, step = 3500 (1.127 sec)\n",
            "INFO:tensorflow:global_step/sec: 90.307\n",
            "INFO:tensorflow:loss = 0.5523089, step = 3600 (1.109 sec)\n",
            "INFO:tensorflow:global_step/sec: 90.6607\n",
            "INFO:tensorflow:loss = 0.47003204, step = 3700 (1.103 sec)\n",
            "INFO:tensorflow:global_step/sec: 89.9007\n",
            "INFO:tensorflow:loss = 0.4332082, step = 3800 (1.112 sec)\n",
            "INFO:tensorflow:global_step/sec: 89.367\n",
            "INFO:tensorflow:loss = 0.4749958, step = 3900 (1.118 sec)\n",
            "INFO:tensorflow:global_step/sec: 89.5087\n",
            "INFO:tensorflow:loss = 0.47029576, step = 4000 (1.116 sec)\n",
            "INFO:tensorflow:global_step/sec: 89.1015\n",
            "INFO:tensorflow:loss = 0.48276258, step = 4100 (1.126 sec)\n",
            "INFO:tensorflow:global_step/sec: 89.9867\n",
            "INFO:tensorflow:loss = 0.4513118, step = 4200 (1.108 sec)\n",
            "INFO:tensorflow:global_step/sec: 90.3084\n",
            "INFO:tensorflow:loss = 0.48550615, step = 4300 (1.108 sec)\n",
            "INFO:tensorflow:global_step/sec: 89.171\n",
            "INFO:tensorflow:loss = 0.43152115, step = 4400 (1.120 sec)\n",
            "INFO:tensorflow:global_step/sec: 89.9437\n",
            "INFO:tensorflow:loss = 0.5233517, step = 4500 (1.112 sec)\n",
            "INFO:tensorflow:global_step/sec: 89.9518\n",
            "INFO:tensorflow:loss = 0.48818013, step = 4600 (1.112 sec)\n",
            "INFO:tensorflow:global_step/sec: 89.6663\n",
            "INFO:tensorflow:loss = 0.4651114, step = 4700 (1.115 sec)\n",
            "INFO:tensorflow:global_step/sec: 90.3522\n",
            "INFO:tensorflow:loss = 0.46197212, step = 4800 (1.107 sec)\n",
            "INFO:tensorflow:global_step/sec: 89.7639\n",
            "INFO:tensorflow:loss = 0.39409783, step = 4900 (1.116 sec)\n",
            "INFO:tensorflow:global_step/sec: 90.1059\n",
            "INFO:tensorflow:loss = 0.49749628, step = 5000 (1.109 sec)\n",
            "INFO:tensorflow:global_step/sec: 91.5265\n",
            "INFO:tensorflow:loss = 0.46991575, step = 5100 (1.095 sec)\n",
            "INFO:tensorflow:global_step/sec: 88.7544\n",
            "INFO:tensorflow:loss = 0.43433294, step = 5200 (1.127 sec)\n",
            "INFO:tensorflow:global_step/sec: 88.7814\n",
            "INFO:tensorflow:loss = 0.47579747, step = 5300 (1.123 sec)\n",
            "INFO:tensorflow:global_step/sec: 90.5303\n",
            "INFO:tensorflow:loss = 0.47765797, step = 5400 (1.104 sec)\n",
            "INFO:tensorflow:global_step/sec: 87.6964\n",
            "INFO:tensorflow:loss = 0.41723025, step = 5500 (1.142 sec)\n",
            "INFO:tensorflow:global_step/sec: 89.2428\n",
            "INFO:tensorflow:loss = 0.44662258, step = 5600 (1.121 sec)\n",
            "INFO:tensorflow:global_step/sec: 87.9981\n",
            "INFO:tensorflow:loss = 0.44528487, step = 5700 (1.137 sec)\n",
            "INFO:tensorflow:global_step/sec: 90.6596\n",
            "INFO:tensorflow:loss = 0.41651642, step = 5800 (1.101 sec)\n",
            "INFO:tensorflow:Calling checkpoint listeners before saving checkpoint 5860...\n",
            "INFO:tensorflow:Saving checkpoints for 5860 into /tmp/tmprpxq358k/model.ckpt.\n",
            "INFO:tensorflow:Calling checkpoint listeners after saving checkpoint 5860...\n",
            "INFO:tensorflow:Loss for final step: 0.39344558.\n",
            "<tensorflow_estimator.python.estimator.estimator.EstimatorV2 object at 0x7fadb02b2eb8>\n",
            "INFO:tensorflow:Calling model_fn.\n",
            "INFO:tensorflow:Done calling model_fn.\n",
            "INFO:tensorflow:Starting evaluation at 2021-01-10T21:51:06Z\n",
            "INFO:tensorflow:Graph was finalized.\n",
            "INFO:tensorflow:Restoring parameters from /tmp/tmprpxq358k/model.ckpt-5860\n",
            "INFO:tensorflow:Running local_init_op.\n",
            "INFO:tensorflow:Done running local_init_op.\n"
          ],
          "name": "stdout"
        },
        {
          "output_type": "stream",
          "text": [
            "/usr/local/lib/python3.6/dist-packages/tensorflow/python/keras/engine/training.py:2325: UserWarning: `Model.state_updates` will be removed in a future version. This property should not be used in TensorFlow 2.0, as `updates` are applied automatically.\n",
            "  warnings.warn('`Model.state_updates` will be removed in a future version. '\n"
          ],
          "name": "stderr"
        },
        {
          "output_type": "stream",
          "text": [
            "INFO:tensorflow:Inference Time : 0.41340s\n",
            "INFO:tensorflow:Finished evaluation at 2021-01-10-21:51:06\n",
            "INFO:tensorflow:Saving dict for global step 5860: accuracy = 0.8289, global_step = 5860, loss = 0.4741744\n",
            "INFO:tensorflow:Saving 'checkpoint_path' summary for global step 5860: /tmp/tmprpxq358k/model.ckpt-5860\n"
          ],
          "name": "stdout"
        },
        {
          "output_type": "execute_result",
          "data": {
            "text/plain": [
              "{'accuracy': 0.8289, 'global_step': 5860, 'loss': 0.4741744}"
            ]
          },
          "metadata": {
            "tags": []
          },
          "execution_count": 5
        }
      ]
    }
  ]
}