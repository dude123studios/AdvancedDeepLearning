{
  "nbformat": 4,
  "nbformat_minor": 0,
  "metadata": {
    "colab": {
      "name": "Logistic regression",
      "provenance": [],
      "collapsed_sections": [],
      "authorship_tag": "ABX9TyPDfus+a2MbysCgmJu1el/T",
      "include_colab_link": true
    },
    "kernelspec": {
      "name": "python3",
      "display_name": "Python 3"
    }
  },
  "cells": [
    {
      "cell_type": "markdown",
      "metadata": {
        "id": "view-in-github",
        "colab_type": "text"
      },
      "source": [
        "<a href=\"https://colab.research.google.com/github/dude123studios/AdvancedDeepLearning/blob/main/Logistic_regression.ipynb\" target=\"_parent\"><img src=\"https://colab.research.google.com/assets/colab-badge.svg\" alt=\"Open In Colab\"/></a>"
      ]
    },
    {
      "cell_type": "code",
      "metadata": {
        "colab": {
          "base_uri": "https://localhost:8080/"
        },
        "id": "CIbeHkZA_vs7",
        "outputId": "72d27cf5-0a8b-448f-dd62-34781506ace7"
      },
      "source": [
        "import tensorflow as tf\r\n",
        "from tensorflow import feature_column\r\n",
        "import numpy as np\r\n",
        "(train_data,train_labels),(eval_data,eval_labels) = tf.keras.datasets.mnist.load_data()\r\n",
        "train_data = train_data.astype('float32')/255\r\n",
        "train_labels = train_labels.astype('int32')\r\n",
        "\r\n",
        "eval_data = eval_data.astype('float32')/255\r\n",
        "eval_labels = eval_labels.astype('int32')\r\n",
        "\r\n",
        "feature_columns = [feature_column.numeric_column('x',shape=[28,28])]\r\n",
        "\r\n",
        "classifier = tf.estimator.LinearClassifier(\r\n",
        "    feature_columns=feature_columns,\r\n",
        "    n_classes=10,\r\n",
        ")\r\n",
        "\r\n",
        "train_input_fn = tf.compat.v1.estimator.inputs.numpy_input_fn(\r\n",
        "    x={'x':train_data},\r\n",
        "    y=train_labels,\r\n",
        "    batch_size=100,\r\n",
        "    num_epochs=None,\r\n",
        "    shuffle = True\r\n",
        ")\r\n",
        "eval_input_fn = tf.compat.v1.estimator.inputs.numpy_input_fn(\r\n",
        "    x={'x':eval_data},\r\n",
        "    y=eval_labels,\r\n",
        "    num_epochs=1,\r\n",
        "    shuffle = False\r\n",
        ")\r\n",
        "\r\n",
        "classifier.train(input_fn=train_input_fn,steps=10)\r\n",
        "\r\n",
        "eval_results = classifier.evaluate(input_fn=eval_input_fn)\r\n",
        "print(eval_results)"
      ],
      "execution_count": null,
      "outputs": [
        {
          "output_type": "stream",
          "text": [
            "Downloading data from https://storage.googleapis.com/tensorflow/tf-keras-datasets/mnist.npz\n",
            "11493376/11490434 [==============================] - 0s 0us/step\n",
            "INFO:tensorflow:Using default config.\n",
            "WARNING:tensorflow:Using temporary folder as model directory: /tmp/tmp2p69_kln\n",
            "INFO:tensorflow:Using config: {'_model_dir': '/tmp/tmp2p69_kln', '_tf_random_seed': None, '_save_summary_steps': 100, '_save_checkpoints_steps': None, '_save_checkpoints_secs': 600, '_session_config': allow_soft_placement: true\n",
            "graph_options {\n",
            "  rewrite_options {\n",
            "    meta_optimizer_iterations: ONE\n",
            "  }\n",
            "}\n",
            ", '_keep_checkpoint_max': 5, '_keep_checkpoint_every_n_hours': 10000, '_log_step_count_steps': 100, '_train_distribute': None, '_device_fn': None, '_protocol': None, '_eval_distribute': None, '_experimental_distribute': None, '_experimental_max_worker_delay_secs': None, '_session_creation_timeout_secs': 7200, '_checkpoint_save_graph_def': True, '_service': None, '_cluster_spec': ClusterSpec({}), '_task_type': 'worker', '_task_id': 0, '_global_id_in_cluster': 0, '_master': '', '_evaluation_master': '', '_is_chief': True, '_num_ps_replicas': 0, '_num_worker_replicas': 1}\n",
            "WARNING:tensorflow:From /usr/local/lib/python3.6/dist-packages/tensorflow/python/util/lazy_loader.py:63: The name tf.estimator.inputs is deprecated. Please use tf.compat.v1.estimator.inputs instead.\n",
            "\n",
            "WARNING:tensorflow:From /usr/local/lib/python3.6/dist-packages/tensorflow/python/training/training_util.py:236: Variable.initialized_value (from tensorflow.python.ops.variables) is deprecated and will be removed in a future version.\n",
            "Instructions for updating:\n",
            "Use Variable.read_value. Variables in 2.X are initialized automatically both in eager and graph (inside tf.defun) contexts.\n",
            "WARNING:tensorflow:From /usr/local/lib/python3.6/dist-packages/tensorflow_estimator/python/estimator/inputs/queues/feeding_queue_runner.py:65: QueueRunner.__init__ (from tensorflow.python.training.queue_runner_impl) is deprecated and will be removed in a future version.\n",
            "Instructions for updating:\n",
            "To construct input pipelines, use the `tf.data` module.\n",
            "WARNING:tensorflow:From /usr/local/lib/python3.6/dist-packages/tensorflow_estimator/python/estimator/inputs/queues/feeding_functions.py:491: add_queue_runner (from tensorflow.python.training.queue_runner_impl) is deprecated and will be removed in a future version.\n",
            "Instructions for updating:\n",
            "To construct input pipelines, use the `tf.data` module.\n",
            "INFO:tensorflow:Calling model_fn.\n"
          ],
          "name": "stdout"
        },
        {
          "output_type": "stream",
          "text": [
            "/usr/local/lib/python3.6/dist-packages/tensorflow/python/keras/engine/base_layer_v1.py:1727: UserWarning: `layer.add_variable` is deprecated and will be removed in a future version. Please use `layer.add_weight` method instead.\n",
            "  warnings.warn('`layer.add_variable` is deprecated and '\n"
          ],
          "name": "stderr"
        },
        {
          "output_type": "stream",
          "text": [
            "WARNING:tensorflow:From /usr/local/lib/python3.6/dist-packages/tensorflow/python/keras/optimizer_v2/ftrl.py:134: calling Constant.__init__ (from tensorflow.python.ops.init_ops) with dtype is deprecated and will be removed in a future version.\n",
            "Instructions for updating:\n",
            "Call initializer instance with the dtype argument instead of passing it to the constructor\n",
            "INFO:tensorflow:Done calling model_fn.\n",
            "INFO:tensorflow:Create CheckpointSaverHook.\n",
            "INFO:tensorflow:Graph was finalized.\n",
            "INFO:tensorflow:Running local_init_op.\n",
            "INFO:tensorflow:Done running local_init_op.\n",
            "WARNING:tensorflow:From /usr/local/lib/python3.6/dist-packages/tensorflow/python/training/monitored_session.py:906: start_queue_runners (from tensorflow.python.training.queue_runner_impl) is deprecated and will be removed in a future version.\n",
            "Instructions for updating:\n",
            "To construct input pipelines, use the `tf.data` module.\n",
            "INFO:tensorflow:Calling checkpoint listeners before saving checkpoint 0...\n",
            "INFO:tensorflow:Saving checkpoints for 0 into /tmp/tmp2p69_kln/model.ckpt.\n",
            "INFO:tensorflow:Calling checkpoint listeners after saving checkpoint 0...\n",
            "INFO:tensorflow:loss = 2.3025854, step = 0\n",
            "INFO:tensorflow:Calling checkpoint listeners before saving checkpoint 10...\n",
            "INFO:tensorflow:Saving checkpoints for 10 into /tmp/tmp2p69_kln/model.ckpt.\n",
            "INFO:tensorflow:Calling checkpoint listeners after saving checkpoint 10...\n",
            "INFO:tensorflow:Loss for final step: 0.7587856.\n",
            "INFO:tensorflow:Calling model_fn.\n",
            "INFO:tensorflow:Done calling model_fn.\n",
            "INFO:tensorflow:Starting evaluation at 2021-01-05T05:22:34Z\n",
            "INFO:tensorflow:Graph was finalized.\n",
            "INFO:tensorflow:Restoring parameters from /tmp/tmp2p69_kln/model.ckpt-10\n",
            "INFO:tensorflow:Running local_init_op.\n",
            "INFO:tensorflow:Done running local_init_op.\n",
            "INFO:tensorflow:Inference Time : 0.28100s\n",
            "INFO:tensorflow:Finished evaluation at 2021-01-05-05:22:34\n",
            "INFO:tensorflow:Saving dict for global step 10: accuracy = 0.7927, average_loss = 0.74874544, global_step = 10, loss = 0.7473311\n",
            "INFO:tensorflow:Saving 'checkpoint_path' summary for global step 10: /tmp/tmp2p69_kln/model.ckpt-10\n",
            "{'accuracy': 0.7927, 'average_loss': 0.74874544, 'loss': 0.7473311, 'global_step': 10}\n"
          ],
          "name": "stdout"
        }
      ]
    }
  ]
}