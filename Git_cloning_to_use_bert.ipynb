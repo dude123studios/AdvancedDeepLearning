{
  "nbformat": 4,
  "nbformat_minor": 0,
  "metadata": {
    "colab": {
      "name": "Git cloning to use bert",
      "provenance": [],
      "collapsed_sections": [],
      "authorship_tag": "ABX9TyN93j+BKV1wd48ZEt+dVVuU",
      "include_colab_link": true
    },
    "kernelspec": {
      "name": "python3",
      "display_name": "Python 3"
    }
  },
  "cells": [
    {
      "cell_type": "markdown",
      "metadata": {
        "id": "view-in-github",
        "colab_type": "text"
      },
      "source": [
        "<a href=\"https://colab.research.google.com/github/dude123studios/AdvancedDeepLearning/blob/main/Git_cloning_to_use_bert.ipynb\" target=\"_parent\"><img src=\"https://colab.research.google.com/assets/colab-badge.svg\" alt=\"Open In Colab\"/></a>"
      ]
    },
    {
      "cell_type": "code",
      "metadata": {
        "id": "ZXR4atwSYR6Z",
        "colab": {
          "base_uri": "https://localhost:8080/"
        },
        "outputId": "ec537000-af7b-4f4b-c701-8d1fddb095b0"
      },
      "source": [
        "!git clone https://github.com/google-research/bert.git "
      ],
      "execution_count": 1,
      "outputs": [
        {
          "output_type": "stream",
          "text": [
            "Cloning into 'bert'...\n",
            "remote: Enumerating objects: 340, done.\u001b[K\n",
            "remote: Total 340 (delta 0), reused 0 (delta 0), pack-reused 340\u001b[K\n",
            "Receiving objects: 100% (340/340), 315.94 KiB | 13.16 MiB/s, done.\n",
            "Resolving deltas: 100% (184/184), done.\n"
          ],
          "name": "stdout"
        }
      ]
    },
    {
      "cell_type": "code",
      "metadata": {
        "id": "ntiBJEZ2pItY"
      },
      "source": [
        "!cd bert\r\n",
        "!mkdir data"
      ],
      "execution_count": 2,
      "outputs": []
    },
    {
      "cell_type": "code",
      "metadata": {
        "colab": {
          "base_uri": "https://localhost:8080/"
        },
        "id": "Z5iZZGiPpTVY",
        "outputId": "3d63f60a-99c1-4098-aaf4-e102280cea87"
      },
      "source": [
        "!wget \\\r\n",
        "https://storage.googleapis.com/bert_models/2018_10_18/uncased_L-12_H-768_A-12.zip\r\n",
        "!unzip -a uncased_L-12_H-768_A-12.zip"
      ],
      "execution_count": 3,
      "outputs": [
        {
          "output_type": "stream",
          "text": [
            "--2021-02-01 22:31:30--  https://storage.googleapis.com/bert_models/2018_10_18/uncased_L-12_H-768_A-12.zip\n",
            "Resolving storage.googleapis.com (storage.googleapis.com)... 74.125.20.128, 74.125.195.128, 74.125.142.128, ...\n",
            "Connecting to storage.googleapis.com (storage.googleapis.com)|74.125.20.128|:443... connected.\n",
            "HTTP request sent, awaiting response... 200 OK\n",
            "Length: 407727028 (389M) [application/zip]\n",
            "Saving to: ‘uncased_L-12_H-768_A-12.zip’\n",
            "\n",
            "uncased_L-12_H-768_ 100%[===================>] 388.84M  95.0MB/s    in 4.1s    \n",
            "\n",
            "2021-02-01 22:31:35 (95.0 MB/s) - ‘uncased_L-12_H-768_A-12.zip’ saved [407727028/407727028]\n",
            "\n",
            "Archive:  uncased_L-12_H-768_A-12.zip\n",
            "   creating: uncased_L-12_H-768_A-12/\n",
            "  inflating: uncased_L-12_H-768_A-12/bert_model.ckpt.meta  [binary]\n",
            "  inflating: uncased_L-12_H-768_A-12/bert_model.ckpt.data-00000-of-00001  [binary]\n",
            "  inflating: uncased_L-12_H-768_A-12/vocab.txt  [text]  \n",
            "  inflating: uncased_L-12_H-768_A-12/bert_model.ckpt.index  [binary]\n",
            "  inflating: uncased_L-12_H-768_A-12/bert_config.json  [text]  \n"
          ],
          "name": "stdout"
        }
      ]
    },
    {
      "cell_type": "code",
      "metadata": {
        "id": "iFM4cWqgqg-M"
      },
      "source": [
        "!export BERT_BASE_DIR=./bert/data/uncased_L-12_H-768_A-12\r\n",
        "!export CLASSIFIER_DATA=./bert/data/my_data\r\n",
        "!export TRAINED_CLASSIFIER=./bert/data/my_classifier\r\n",
        "\r\n",
        "!python bert/extract_features.py --input_file={CLASSIFIER_DATA}/sentence.txt --output_file={CLASSIFIER_DATA}/embeddings.jsonl --vocab_file={BERT_BASE_DIR}/vocab.txt --bert_config_file={BERT_BASE_DIR}/bert_config.json --init_checkpoint={BERT_BASE_DIR}/bert_model.ckpt --layers=-1,-2,-3,-4 --max_seq_length=129 --batch_size=8\r\n"
      ],
      "execution_count": null,
      "outputs": []
    }
  ]
}