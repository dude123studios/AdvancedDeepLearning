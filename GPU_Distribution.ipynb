{
  "nbformat": 4,
  "nbformat_minor": 0,
  "metadata": {
    "colab": {
      "name": "GPU Distribution",
      "provenance": [],
      "collapsed_sections": [],
      "authorship_tag": "ABX9TyNLgq7KueMsSomx99zYGBdT",
      "include_colab_link": true
    },
    "kernelspec": {
      "name": "python3",
      "display_name": "Python 3"
    },
    "accelerator": "GPU"
  },
  "cells": [
    {
      "cell_type": "markdown",
      "metadata": {
        "id": "view-in-github",
        "colab_type": "text"
      },
      "source": [
        "<a href=\"https://colab.research.google.com/github/dude123studios/AdvancedDeepLearning/blob/main/GPU_Distribution.ipynb\" target=\"_parent\"><img src=\"https://colab.research.google.com/assets/colab-badge.svg\" alt=\"Open In Colab\"/></a>"
      ]
    },
    {
      "cell_type": "code",
      "metadata": {
        "id": "qJgxYbzunsOI",
        "colab": {
          "base_uri": "https://localhost:8080/"
        },
        "outputId": "c049e621-ab7d-4695-b134-730c587ecf15"
      },
      "source": [
        "import tensorflow as tf\r\n",
        "import numpy as np\r\n",
        "from tensorflow import keras\r\n",
        "\r\n",
        "N_TRAIN_EXAMPLES = 2**20\r\n",
        "N_FEATURES = 10\r\n",
        "BATCH_SIZE = 256\r\n",
        "\r\n",
        "x = np.random.random((N_TRAIN_EXAMPLES,N_FEATURES))\r\n",
        "y = np.random.randint(2,size=(N_TRAIN_EXAMPLES,1))\r\n",
        "x = tf.dtypes.cast(x,tf.float32)\r\n",
        "print(x)\r\n",
        "print('\\n')\r\n",
        "print(y)"
      ],
      "execution_count": null,
      "outputs": [
        {
          "output_type": "stream",
          "text": [
            "tf.Tensor(\n",
            "[[0.4582237  0.72583795 0.199992   ... 0.38261086 0.65051234 0.28819433]\n",
            " [0.7527232  0.6197965  0.9709689  ... 0.10873412 0.28183696 0.9362707 ]\n",
            " [0.4967143  0.649683   0.00583366 ... 0.02706137 0.05541427 0.77816194]\n",
            " ...\n",
            " [0.7303165  0.7786472  0.32133842 ... 0.20499389 0.5383262  0.4262376 ]\n",
            " [0.05156194 0.90937054 0.11157741 ... 0.87956405 0.49459043 0.604477  ]\n",
            " [0.31527063 0.75491154 0.7741476  ... 0.13744509 0.59142286 0.76089656]], shape=(1048576, 10), dtype=float32)\n",
            "\n",
            "\n",
            "[[1]\n",
            " [0]\n",
            " [0]\n",
            " ...\n",
            " [0]\n",
            " [0]\n",
            " [1]]\n"
          ],
          "name": "stdout"
        }
      ]
    },
    {
      "cell_type": "code",
      "metadata": {
        "id": "pB6WnNL_oCFl",
        "colab": {
          "base_uri": "https://localhost:8080/"
        },
        "outputId": "7a0cc4b7-aa0d-4efc-d734-899b60604cf1"
      },
      "source": [
        "dataset = tf.data.Dataset.from_tensor_slices((x,y))\r\n",
        "dataset = dataset.shuffle(buffer_size=N_TRAIN_EXAMPLES).batch(BATCH_SIZE)\r\n",
        "\r\n",
        "distribution = tf.distribute.MirroredStrategy()\r\n",
        "\r\n",
        "with distribution.scope():\r\n",
        "    model = keras.Sequential()\r\n",
        "    model.add(keras.layers.Dense(16,activation='relu',input_shape=(N_FEATURES,)))\r\n",
        "    model.add(keras.layers.Dense(1,activation='sigmoid'))\r\n",
        "    optimizer = tf.keras.optimizers.SGD(0.2)\r\n",
        "    model.compile(loss='binary_crossentropy',optimizer=optimizer)\r\n",
        "    \r\n",
        "model.summary()\r\n",
        "model.fit(dataset,epochs=5,steps_per_epoch=10)\r\n",
        "\r\n"
      ],
      "execution_count": null,
      "outputs": [
        {
          "output_type": "stream",
          "text": [
            "INFO:tensorflow:Using MirroredStrategy with devices ('/job:localhost/replica:0/task:0/device:GPU:0',)\n",
            "INFO:tensorflow:Reduce to /job:localhost/replica:0/task:0/device:CPU:0 then broadcast to ('/job:localhost/replica:0/task:0/device:CPU:0',).\n",
            "INFO:tensorflow:Reduce to /job:localhost/replica:0/task:0/device:CPU:0 then broadcast to ('/job:localhost/replica:0/task:0/device:CPU:0',).\n",
            "INFO:tensorflow:Reduce to /job:localhost/replica:0/task:0/device:CPU:0 then broadcast to ('/job:localhost/replica:0/task:0/device:CPU:0',).\n",
            "INFO:tensorflow:Reduce to /job:localhost/replica:0/task:0/device:CPU:0 then broadcast to ('/job:localhost/replica:0/task:0/device:CPU:0',).\n",
            "Model: \"sequential\"\n",
            "_________________________________________________________________\n",
            "Layer (type)                 Output Shape              Param #   \n",
            "=================================================================\n",
            "dense (Dense)                (None, 16)                176       \n",
            "_________________________________________________________________\n",
            "dense_1 (Dense)              (None, 1)                 17        \n",
            "=================================================================\n",
            "Total params: 193\n",
            "Trainable params: 193\n",
            "Non-trainable params: 0\n",
            "_________________________________________________________________\n",
            "Epoch 1/5\n",
            "INFO:tensorflow:Reduce to /job:localhost/replica:0/task:0/device:CPU:0 then broadcast to ('/job:localhost/replica:0/task:0/device:CPU:0',).\n",
            "INFO:tensorflow:Reduce to /job:localhost/replica:0/task:0/device:CPU:0 then broadcast to ('/job:localhost/replica:0/task:0/device:CPU:0',).\n",
            "INFO:tensorflow:Reduce to /job:localhost/replica:0/task:0/device:CPU:0 then broadcast to ('/job:localhost/replica:0/task:0/device:CPU:0',).\n",
            "INFO:tensorflow:Reduce to /job:localhost/replica:0/task:0/device:CPU:0 then broadcast to ('/job:localhost/replica:0/task:0/device:CPU:0',).\n",
            "10/10 [==============================] - 5s 3ms/step - loss: 0.7043\n",
            "INFO:tensorflow:Reduce to /job:localhost/replica:0/task:0/device:CPU:0 then broadcast to ('/job:localhost/replica:0/task:0/device:CPU:0',).\n",
            "INFO:tensorflow:Reduce to /job:localhost/replica:0/task:0/device:CPU:0 then broadcast to ('/job:localhost/replica:0/task:0/device:CPU:0',).\n",
            "Epoch 2/5\n",
            "10/10 [==============================] - 0s 3ms/step - loss: 0.7045\n",
            "Epoch 3/5\n",
            "10/10 [==============================] - 0s 3ms/step - loss: 0.7020\n",
            "Epoch 4/5\n",
            "10/10 [==============================] - 0s 3ms/step - loss: 0.7011\n",
            "Epoch 5/5\n",
            "10/10 [==============================] - 0s 3ms/step - loss: 0.6957\n"
          ],
          "name": "stdout"
        },
        {
          "output_type": "execute_result",
          "data": {
            "text/plain": [
              "<tensorflow.python.keras.callbacks.History at 0x7f5b7bf1a198>"
            ]
          },
          "metadata": {
            "tags": []
          },
          "execution_count": 3
        }
      ]
    }
  ]
}