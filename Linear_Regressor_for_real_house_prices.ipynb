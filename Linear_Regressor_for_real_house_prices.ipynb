{
  "nbformat": 4,
  "nbformat_minor": 0,
  "metadata": {
    "colab": {
      "name": "Linear Regressor for real house prices",
      "provenance": [],
      "collapsed_sections": [],
      "authorship_tag": "ABX9TyOaaNWaKh/mQBPB1cfdJotX",
      "include_colab_link": true
    },
    "kernelspec": {
      "name": "python3",
      "display_name": "Python 3"
    }
  },
  "cells": [
    {
      "cell_type": "markdown",
      "metadata": {
        "id": "view-in-github",
        "colab_type": "text"
      },
      "source": [
        "<a href=\"https://colab.research.google.com/github/dude123studios/AdvancedDeepLearning/blob/main/Linear_Regressor_for_real_house_prices.ipynb\" target=\"_parent\"><img src=\"https://colab.research.google.com/assets/colab-badge.svg\" alt=\"Open In Colab\"/></a>"
      ]
    },
    {
      "cell_type": "code",
      "metadata": {
        "id": "hp99S2Ux0jRT",
        "colab": {
          "base_uri": "https://localhost:8080/"
        },
        "outputId": "8d01f654-cf70-415e-89b9-bd748d41e5ee"
      },
      "source": [
        "import tensorflow as tf\r\n",
        "from tensorflow import feature_column as fc\r\n",
        "import pandas as pd\r\n",
        "from tensorflow.keras.datasets import boston_housing\r\n",
        "\r\n",
        "(x_train,y_train),(x_test,y_test) = boston_housing.load_data()\r\n",
        "\r\n",
        "features = ['CRIM','ZN','INDUS','CHAS','NOX','RM','AGE','DIS','RAD','TAX','PTRATIO','B','LSTAT']\r\n",
        "\r\n",
        "x_train_df = pd.DataFrame(x_train,columns=features)\r\n",
        "x_test_df = pd.DataFrame(x_test,columns=features)\r\n",
        "y_train_df = pd.DataFrame(y_train,columns=['MEDV'])\r\n",
        "y_test_df = pd.DataFrame(y_test,columns=['MEDV'])\r\n",
        "x_train_df.head()\r\n",
        "feature_columns = []\r\n",
        "for feature in features:\r\n",
        "  feature_columns.append(fc.numeric_column(feature,dtype=tf.float32))\r\n",
        "\r\n",
        "def estimator_input_fn(df_data,df_label,epochs=10,shuffle=True,batch_size=32):\r\n",
        "    def input_fn():\r\n",
        "        ds = tf.data.Dataset.from_tensor_slices((dict(df_data),df_label))\r\n",
        "        if shuffle:\r\n",
        "            ds = ds.shuffle(100)\r\n",
        "        ds = ds.batch(batch_size).repeat(epochs)\r\n",
        "        return ds\r\n",
        "    return input_fn\r\n",
        "\r\n",
        "train_input_fn = estimator_input_fn(x_train_df,y_train_df)\r\n",
        "val_input_fn = estimator_input_fn(x_test_df,y_test_df,shuffle=False)\r\n",
        "print(feature_columns)\r\n",
        "linear_est = tf.estimator.LinearRegressor(feature_columns=feature_columns)\r\n",
        "linear_est.train(train_input_fn,steps=100)\r\n",
        "linear_est.evaluate(val_input_fn)\r\n",
        "result = linear_est.predict(val_input_fn)\r\n",
        "for pred,exp in zip(result,y_test[:32]):\r\n",
        "    print('Predicted Value: ',pred)\r\n",
        "    print('Expected Value: ',exp)\r\n",
        "    \r\n"
      ],
      "execution_count": null,
      "outputs": [
        {
          "output_type": "stream",
          "text": [
            "[NumericColumn(key='CRIM', shape=(1,), default_value=None, dtype=tf.float32, normalizer_fn=None), NumericColumn(key='ZN', shape=(1,), default_value=None, dtype=tf.float32, normalizer_fn=None), NumericColumn(key='INDUS', shape=(1,), default_value=None, dtype=tf.float32, normalizer_fn=None), NumericColumn(key='CHAS', shape=(1,), default_value=None, dtype=tf.float32, normalizer_fn=None), NumericColumn(key='NOX', shape=(1,), default_value=None, dtype=tf.float32, normalizer_fn=None), NumericColumn(key='RM', shape=(1,), default_value=None, dtype=tf.float32, normalizer_fn=None), NumericColumn(key='AGE', shape=(1,), default_value=None, dtype=tf.float32, normalizer_fn=None), NumericColumn(key='DIS', shape=(1,), default_value=None, dtype=tf.float32, normalizer_fn=None), NumericColumn(key='RAD', shape=(1,), default_value=None, dtype=tf.float32, normalizer_fn=None), NumericColumn(key='TAX', shape=(1,), default_value=None, dtype=tf.float32, normalizer_fn=None), NumericColumn(key='PTRATIO', shape=(1,), default_value=None, dtype=tf.float32, normalizer_fn=None), NumericColumn(key='B', shape=(1,), default_value=None, dtype=tf.float32, normalizer_fn=None), NumericColumn(key='LSTAT', shape=(1,), default_value=None, dtype=tf.float32, normalizer_fn=None)]\n",
            "INFO:tensorflow:Using default config.\n",
            "WARNING:tensorflow:Using temporary folder as model directory: /tmp/tmp2cb5lu8a\n",
            "INFO:tensorflow:Using config: {'_model_dir': '/tmp/tmp2cb5lu8a', '_tf_random_seed': None, '_save_summary_steps': 100, '_save_checkpoints_steps': None, '_save_checkpoints_secs': 600, '_session_config': allow_soft_placement: true\n",
            "graph_options {\n",
            "  rewrite_options {\n",
            "    meta_optimizer_iterations: ONE\n",
            "  }\n",
            "}\n",
            ", '_keep_checkpoint_max': 5, '_keep_checkpoint_every_n_hours': 10000, '_log_step_count_steps': 100, '_train_distribute': None, '_device_fn': None, '_protocol': None, '_eval_distribute': None, '_experimental_distribute': None, '_experimental_max_worker_delay_secs': None, '_session_creation_timeout_secs': 7200, '_checkpoint_save_graph_def': True, '_service': None, '_cluster_spec': ClusterSpec({}), '_task_type': 'worker', '_task_id': 0, '_global_id_in_cluster': 0, '_master': '', '_evaluation_master': '', '_is_chief': True, '_num_ps_replicas': 0, '_num_worker_replicas': 1}\n",
            "INFO:tensorflow:Calling model_fn.\n"
          ],
          "name": "stdout"
        },
        {
          "output_type": "stream",
          "text": [
            "/usr/local/lib/python3.6/dist-packages/tensorflow/python/keras/engine/base_layer_v1.py:1727: UserWarning: `layer.add_variable` is deprecated and will be removed in a future version. Please use `layer.add_weight` method instead.\n",
            "  warnings.warn('`layer.add_variable` is deprecated and '\n"
          ],
          "name": "stderr"
        },
        {
          "output_type": "stream",
          "text": [
            "WARNING:tensorflow:From /usr/local/lib/python3.6/dist-packages/tensorflow/python/keras/optimizer_v2/ftrl.py:134: calling Constant.__init__ (from tensorflow.python.ops.init_ops) with dtype is deprecated and will be removed in a future version.\n",
            "Instructions for updating:\n",
            "Call initializer instance with the dtype argument instead of passing it to the constructor\n",
            "INFO:tensorflow:Done calling model_fn.\n",
            "INFO:tensorflow:Create CheckpointSaverHook.\n",
            "INFO:tensorflow:Graph was finalized.\n",
            "INFO:tensorflow:Running local_init_op.\n",
            "INFO:tensorflow:Done running local_init_op.\n",
            "INFO:tensorflow:Calling checkpoint listeners before saving checkpoint 0...\n",
            "INFO:tensorflow:Saving checkpoints for 0 into /tmp/tmp2cb5lu8a/model.ckpt.\n",
            "INFO:tensorflow:Calling checkpoint listeners after saving checkpoint 0...\n",
            "INFO:tensorflow:loss = 486.07092, step = 0\n",
            "INFO:tensorflow:Calling checkpoint listeners before saving checkpoint 100...\n",
            "INFO:tensorflow:Saving checkpoints for 100 into /tmp/tmp2cb5lu8a/model.ckpt.\n",
            "INFO:tensorflow:Calling checkpoint listeners after saving checkpoint 100...\n",
            "INFO:tensorflow:Loss for final step: 99.829506.\n",
            "INFO:tensorflow:Calling model_fn.\n"
          ],
          "name": "stdout"
        },
        {
          "output_type": "stream",
          "text": [
            "/usr/local/lib/python3.6/dist-packages/tensorflow/python/keras/engine/base_layer_v1.py:1727: UserWarning: `layer.add_variable` is deprecated and will be removed in a future version. Please use `layer.add_weight` method instead.\n",
            "  warnings.warn('`layer.add_variable` is deprecated and '\n"
          ],
          "name": "stderr"
        },
        {
          "output_type": "stream",
          "text": [
            "INFO:tensorflow:Done calling model_fn.\n",
            "INFO:tensorflow:Starting evaluation at 2021-01-04T16:57:57Z\n",
            "INFO:tensorflow:Graph was finalized.\n",
            "INFO:tensorflow:Restoring parameters from /tmp/tmp2cb5lu8a/model.ckpt-100\n",
            "INFO:tensorflow:Running local_init_op.\n",
            "INFO:tensorflow:Done running local_init_op.\n",
            "INFO:tensorflow:Inference Time : 0.41943s\n",
            "INFO:tensorflow:Finished evaluation at 2021-01-04-16:57:58\n",
            "INFO:tensorflow:Saving dict for global step 100: average_loss = 72.99251, global_step = 100, label/mean = 23.078432, loss = 80.067245, prediction/mean = 24.239063\n",
            "INFO:tensorflow:Saving 'checkpoint_path' summary for global step 100: /tmp/tmp2cb5lu8a/model.ckpt-100\n",
            "INFO:tensorflow:Calling model_fn.\n"
          ],
          "name": "stdout"
        },
        {
          "output_type": "stream",
          "text": [
            "/usr/local/lib/python3.6/dist-packages/tensorflow/python/keras/engine/base_layer_v1.py:1727: UserWarning: `layer.add_variable` is deprecated and will be removed in a future version. Please use `layer.add_weight` method instead.\n",
            "  warnings.warn('`layer.add_variable` is deprecated and '\n"
          ],
          "name": "stderr"
        },
        {
          "output_type": "stream",
          "text": [
            "INFO:tensorflow:Done calling model_fn.\n",
            "INFO:tensorflow:Graph was finalized.\n",
            "INFO:tensorflow:Restoring parameters from /tmp/tmp2cb5lu8a/model.ckpt-100\n",
            "INFO:tensorflow:Running local_init_op.\n",
            "INFO:tensorflow:Done running local_init_op.\n",
            "Predicted Value:  {'predictions': array([4.8069453], dtype=float32)}\n",
            "Expected Value:  7.2\n",
            "Predicted Value:  {'predictions': array([25.096722], dtype=float32)}\n",
            "Expected Value:  18.8\n",
            "Predicted Value:  {'predictions': array([23.233837], dtype=float32)}\n",
            "Expected Value:  19.0\n",
            "Predicted Value:  {'predictions': array([24.353361], dtype=float32)}\n",
            "Expected Value:  27.0\n",
            "Predicted Value:  {'predictions': array([23.86551], dtype=float32)}\n",
            "Expected Value:  22.2\n",
            "Predicted Value:  {'predictions': array([23.275581], dtype=float32)}\n",
            "Expected Value:  24.5\n",
            "Predicted Value:  {'predictions': array([30.882854], dtype=float32)}\n",
            "Expected Value:  31.2\n",
            "Predicted Value:  {'predictions': array([26.85638], dtype=float32)}\n",
            "Expected Value:  22.9\n",
            "Predicted Value:  {'predictions': array([22.022226], dtype=float32)}\n",
            "Expected Value:  20.5\n",
            "Predicted Value:  {'predictions': array([25.566456], dtype=float32)}\n",
            "Expected Value:  23.2\n",
            "Predicted Value:  {'predictions': array([10.14626], dtype=float32)}\n",
            "Expected Value:  18.6\n",
            "Predicted Value:  {'predictions': array([24.3777], dtype=float32)}\n",
            "Expected Value:  14.5\n",
            "Predicted Value:  {'predictions': array([24.895472], dtype=float32)}\n",
            "Expected Value:  17.8\n",
            "Predicted Value:  {'predictions': array([24.11386], dtype=float32)}\n",
            "Expected Value:  50.0\n",
            "Predicted Value:  {'predictions': array([19.899982], dtype=float32)}\n",
            "Expected Value:  20.8\n",
            "Predicted Value:  {'predictions': array([26.13659], dtype=float32)}\n",
            "Expected Value:  24.3\n",
            "Predicted Value:  {'predictions': array([21.882298], dtype=float32)}\n",
            "Expected Value:  24.2\n",
            "Predicted Value:  {'predictions': array([22.813248], dtype=float32)}\n",
            "Expected Value:  19.8\n",
            "Predicted Value:  {'predictions': array([25.336311], dtype=float32)}\n",
            "Expected Value:  19.1\n",
            "Predicted Value:  {'predictions': array([27.256176], dtype=float32)}\n",
            "Expected Value:  22.7\n",
            "Predicted Value:  {'predictions': array([20.9598], dtype=float32)}\n",
            "Expected Value:  12.0\n",
            "Predicted Value:  {'predictions': array([5.7585497], dtype=float32)}\n",
            "Expected Value:  10.2\n",
            "Predicted Value:  {'predictions': array([22.894772], dtype=float32)}\n",
            "Expected Value:  20.0\n",
            "Predicted Value:  {'predictions': array([26.076607], dtype=float32)}\n",
            "Expected Value:  18.5\n",
            "Predicted Value:  {'predictions': array([32.8767], dtype=float32)}\n",
            "Expected Value:  20.9\n",
            "Predicted Value:  {'predictions': array([25.543404], dtype=float32)}\n",
            "Expected Value:  23.0\n",
            "Predicted Value:  {'predictions': array([25.644382], dtype=float32)}\n",
            "Expected Value:  27.5\n",
            "Predicted Value:  {'predictions': array([34.56726], dtype=float32)}\n",
            "Expected Value:  30.1\n",
            "Predicted Value:  {'predictions': array([8.199616], dtype=float32)}\n",
            "Expected Value:  9.5\n",
            "Predicted Value:  {'predictions': array([24.836357], dtype=float32)}\n",
            "Expected Value:  22.0\n",
            "Predicted Value:  {'predictions': array([24.868326], dtype=float32)}\n",
            "Expected Value:  21.2\n",
            "Predicted Value:  {'predictions': array([9.773188], dtype=float32)}\n",
            "Expected Value:  14.1\n"
          ],
          "name": "stdout"
        }
      ]
    }
  ]
}