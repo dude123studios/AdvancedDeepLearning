{
  "nbformat": 4,
  "nbformat_minor": 0,
  "metadata": {
    "colab": {
      "name": "POS tagging",
      "provenance": [],
      "collapsed_sections": [],
      "authorship_tag": "ABX9TyO8rTZN9RftvCx3bbPLUsjS",
      "include_colab_link": true
    },
    "kernelspec": {
      "name": "python3",
      "display_name": "Python 3"
    },
    "accelerator": "GPU"
  },
  "cells": [
    {
      "cell_type": "markdown",
      "metadata": {
        "id": "view-in-github",
        "colab_type": "text"
      },
      "source": [
        "<a href=\"https://colab.research.google.com/github/dude123studios/AdvancedDeepLearning/blob/main/POS_tagging.ipynb\" target=\"_parent\"><img src=\"https://colab.research.google.com/assets/colab-badge.svg\" alt=\"Open In Colab\"/></a>"
      ]
    },
    {
      "cell_type": "code",
      "metadata": {
        "colab": {
          "base_uri": "https://localhost:8080/"
        },
        "id": "A4sqqNj9O30D",
        "outputId": "266746be-22ea-4362-f8f5-983b0b36a5a1"
      },
      "source": [
        "import nltk\r\n",
        "nltk.download('treebank')"
      ],
      "execution_count": 1,
      "outputs": [
        {
          "output_type": "stream",
          "text": [
            "[nltk_data] Downloading package treebank to /root/nltk_data...\n",
            "[nltk_data]   Package treebank is already up-to-date!\n"
          ],
          "name": "stdout"
        },
        {
          "output_type": "execute_result",
          "data": {
            "text/plain": [
              "True"
            ]
          },
          "metadata": {
            "tags": []
          },
          "execution_count": 1
        }
      ]
    },
    {
      "cell_type": "code",
      "metadata": {
        "id": "SFTVHx5yRgkf"
      },
      "source": [
        "import os \r\n",
        "import tensorflow as tf\r\n",
        "import numpy as np"
      ],
      "execution_count": 2,
      "outputs": []
    },
    {
      "cell_type": "code",
      "metadata": {
        "id": "FPsjxu16PTPJ"
      },
      "source": [
        "DATA_DIR = './data'\r\n",
        "\r\n",
        "def download_and_read(dataset_dir, num_pairs = None):\r\n",
        "  sent_filename = os.path.join(dataset_dir, 'treebank-sentences.txt')\r\n",
        "  poss_filename = os.path.join(dataset_dir, 'treebank-poss.txt')\r\n",
        "  if not (os.path.exists(sent_filename) and os.path.exists(poss_filename)):\r\n",
        "    if not os.path.exists(dataset_dir):\r\n",
        "      os.mkdir(dataset_dir)\r\n",
        "    fsents = open(sent_filename, 'w')\r\n",
        "    fposs = open(poss_filename, 'w')\r\n",
        "    sentences = nltk.corpus.treebank.tagged_sents()\r\n",
        "    for sent in sentences:\r\n",
        "      fsents.write(' '.join([w for w, p in sent])+'\\n')\r\n",
        "      fposs.write(' '.join([p for w, p in sent])+'\\n')\r\n",
        "    fsents.close()\r\n",
        "    fposs.close()\r\n",
        "  sents, poss = [], []\r\n",
        "  with open(sent_filename, 'r') as fsent:\r\n",
        "    for idx, line in enumerate(fsent):\r\n",
        "      sents.append(line.strip())\r\n",
        "      if num_pairs is not None and idx >= num_pairs:\r\n",
        "        break\r\n",
        "  with open(poss_filename, 'r') as fposs:\r\n",
        "    for idx, line in enumerate(fposs):\r\n",
        "      poss.append(line.strip())\r\n",
        "      if num_pairs is not None and idx >= num_pairs:\r\n",
        "        break\r\n",
        "  return sents, poss"
      ],
      "execution_count": 3,
      "outputs": []
    },
    {
      "cell_type": "code",
      "metadata": {
        "colab": {
          "base_uri": "https://localhost:8080/"
        },
        "id": "jgeJyLkWecGM",
        "outputId": "bc1d4286-29a7-466e-bb31-d284c775a704"
      },
      "source": [
        "sents, poss = download_and_read('./datasets')\r\n",
        "assert (len(sents) == len(poss))\r\n",
        "print('#Number of records: ', len(sents))"
      ],
      "execution_count": 4,
      "outputs": [
        {
          "output_type": "stream",
          "text": [
            "#Number of records:  3914\n"
          ],
          "name": "stdout"
        }
      ]
    },
    {
      "cell_type": "code",
      "metadata": {
        "id": "skBoGa3If6o6"
      },
      "source": [
        "def tokenize_and_build_vocab(texts, vocab_size = None, lower=True):\r\n",
        "  if vocab_size is None:\r\n",
        "    tokenizer = tf.keras.preprocessing.text.Tokenizer(lower=lower)\r\n",
        "  else:\r\n",
        "    tokenizer = tf.keras.preprocessing.text.Tokenizer(num_words=vocab_size+1, oov_token='UNK',lower=lower)\r\n",
        "  tokenizer.fit_on_texts(texts)\r\n",
        "  if vocab_size is not None:\r\n",
        "    tokenizer.word_index = {e:i for e, i in tokenizer.word_index.items() if i <= vocab_size+1}\r\n",
        "  word2idx = tokenizer.word_index\r\n",
        "  idx2word = {v:k for k,v in word2idx.items()}\r\n",
        "  return word2idx, idx2word, tokenizer"
      ],
      "execution_count": 5,
      "outputs": []
    },
    {
      "cell_type": "code",
      "metadata": {
        "id": "ZdLJlolSiTNE"
      },
      "source": [
        "word2idx_s, idx2word_s, tokenizer_s = tokenize_and_build_vocab(sents, vocab_size=9000)\r\n",
        "word2idx_t, idx2word_t, tokenizer_t = tokenize_and_build_vocab(poss, vocab_size=38,lower=False)"
      ],
      "execution_count": 6,
      "outputs": []
    },
    {
      "cell_type": "code",
      "metadata": {
        "colab": {
          "base_uri": "https://localhost:8080/"
        },
        "id": "zXzM9UwMmVjf",
        "outputId": "6cb90047-f93d-4ec4-9f13-75d8c9fbb69b"
      },
      "source": [
        "sequence_lengths = np.array([len(s.split()) for s in sents])\r\n",
        "print([(p, np.percentile(sequence_lengths, p))\r\n",
        "  for p in [75, 80, 90, 95, 99, 100]\r\n",
        "])"
      ],
      "execution_count": 7,
      "outputs": [
        {
          "output_type": "stream",
          "text": [
            "[(75, 33.0), (80, 35.0), (90, 41.0), (95, 47.0), (99, 58.0), (100, 271.0)]\n"
          ],
          "name": "stdout"
        }
      ]
    },
    {
      "cell_type": "code",
      "metadata": {
        "id": "7sTSLnY0m83Z"
      },
      "source": [
        "max_seqlen = 271\r\n",
        "sents_as_ints = tokenizer_s.texts_to_sequences(sents)\r\n",
        "sents_as_ints = tf.keras.preprocessing.sequence.pad_sequences(\r\n",
        "    sents_as_ints, maxlen=max_seqlen, padding='post')\r\n",
        "poss_as_ints = tokenizer_t.texts_to_sequences(poss)\r\n",
        "poss_as_ints = tf.keras.preprocessing.sequence.pad_sequences(\r\n",
        "    poss_as_ints,maxlen = max_seqlen, padding='post')\r\n",
        "\r\n",
        "poss_as_catigorical = []\r\n",
        "for p in poss_as_ints:\r\n",
        "  poss_as_catigorical.append(tf.keras.utils.to_categorical(p, num_classes=39, dtype='int32'))\r\n",
        "poss_as_catigorical = tf.keras.preprocessing.sequence.pad_sequences(\r\n",
        "    poss_as_catigorical, maxlen=max_seqlen)\r\n",
        "\r\n",
        "dataset = tf.data.Dataset.from_tensor_slices((sents_as_ints, poss_as_catigorical))\r\n",
        "\r\n",
        "idx2word_s[0], idx2word_t[0] = 'PAD', 'PAD'"
      ],
      "execution_count": 8,
      "outputs": []
    },
    {
      "cell_type": "code",
      "metadata": {
        "id": "H-IbNLdrriCz"
      },
      "source": [
        "dataset = dataset.shuffle(10000)\r\n",
        "test_size = len(sents) // 5\r\n",
        "val_size = (len(sents)-test_size) // 10\r\n",
        "test_dataset = dataset.take(test_size)\r\n",
        "val_dataset = dataset.skip(test_size).take(val_size)\r\n",
        "train_dataset = dataset.skip(test_size + val_size)\r\n",
        "\r\n",
        "batch_size = 64\r\n",
        "train_dataset = train_dataset.batch(batch_size)\r\n",
        "test_dataset = test_dataset.batch(batch_size)\r\n",
        "val_dataset = val_dataset.batch(batch_size)"
      ],
      "execution_count": 9,
      "outputs": []
    },
    {
      "cell_type": "code",
      "metadata": {
        "id": "O1DYqBNofdMB"
      },
      "source": [
        "from tensorflow.keras.layers import *"
      ],
      "execution_count": 10,
      "outputs": []
    },
    {
      "cell_type": "code",
      "metadata": {
        "id": "TkCiHnIIfZeZ"
      },
      "source": [
        "class POSTaggingModel(tf.keras.models.Model):\r\n",
        "  def __init__(self, vocab_input_size, vocab_output_size,\r\n",
        "               embedding_dim, time_stamps, rnn_out, **kwargs):\r\n",
        "    super(POSTaggingModel,self).__init__(**kwargs)\r\n",
        "    self.embedding = Embedding(vocab_input_size, embedding_dim, input_length = time_stamps)\r\n",
        "    self.dropout = SpatialDropout1D(0.2)\r\n",
        "    self.rnn = GRU(rnn_out, return_sequences = True)\r\n",
        "    self.dense = TimeDistributed(Dense(vocab_output_size))\r\n",
        "    self.activation = Activation('softmax')\r\n",
        "\r\n",
        "  def call(self, x):\r\n",
        "    x = self.embedding(x)\r\n",
        "    x = self.dropout(x)\r\n",
        "    x = self.rnn(x)\r\n",
        "    x = self.dense(x)\r\n",
        "    x = self.activation(x)\r\n",
        "    return x"
      ],
      "execution_count": 11,
      "outputs": []
    },
    {
      "cell_type": "code",
      "metadata": {
        "id": "2kvDcOL2ibXe"
      },
      "source": [
        "def build_graph(vocab_input_size, vocab_output_size, embedding_dim, rnn_out):\r\n",
        "  model = POSTaggingModel(vocab_input_size, vocab_output_size, embedding_dim, max_seqlen, rnn_out)\r\n",
        "  model.build(input_shape=(batch_size, max_seqlen))\r\n",
        "  model.summary()\r\n",
        "  def masked_accuracy():\r\n",
        "    def masked_accuracy_fn(ytrue, ypred):\r\n",
        "        ytrue = tf.keras.backend.argmax(ytrue, axis=-1)\r\n",
        "        ypred = tf.keras.backend.argmax(ypred, axis=-1)\r\n",
        " \r\n",
        "        mask = tf.keras.backend.cast(\r\n",
        "            tf.keras.backend.not_equal(ypred, 0), tf.int32)\r\n",
        "        matches = tf.keras.backend.cast(\r\n",
        "            tf.keras.backend.equal(ytrue, ypred), tf.int32) * mask\r\n",
        "        numer = tf.keras.backend.sum(matches)\r\n",
        "        denom = tf.keras.backend.maximum(tf.keras.backend.sum(mask), 1)\r\n",
        "        accuracy =  numer / denom\r\n",
        "        return accuracy\r\n",
        "    return masked_accuracy_fn\r\n",
        "  model.compile(loss='categorical_crossentropy', optimizer = 'adam', metrics = ['accuracy', masked_accuracy()])\r\n",
        "  return model"
      ],
      "execution_count": 12,
      "outputs": []
    },
    {
      "cell_type": "code",
      "metadata": {
        "colab": {
          "base_uri": "https://localhost:8080/"
        },
        "id": "9ACsRDSj9x2K",
        "outputId": "d34fd3b7-4c64-451f-ff76-3e0c6584b2bd"
      },
      "source": [
        "if not os.path.exists('./data'):\r\n",
        "  os.mkdir('./data')\r\n",
        "with tf.device('gpu:0'):\r\n",
        "  num_epochs = 120\r\n",
        "  best_model_file = os.path.join(DATA_DIR, 'POS_Tagging_Model.h5')\r\n",
        "  checkpoint = tf.keras.callbacks.ModelCheckpoint(best_model_file,\r\n",
        "                                                  save_weights_only = True,\r\n",
        "                                                  save_best_only = True,\r\n",
        "                                                  save_freq=610)\r\n",
        "  tensorboard = tf.keras.callbacks.TensorBoard(log_dir='/data/tensorboard')\r\n",
        "  model = build_graph(9001,39,128,256)\r\n",
        "  history = model.fit(train_dataset,epochs=num_epochs,\r\n",
        "                      validation_data=val_dataset,\r\n",
        "                      callbacks=[checkpoint,tensorboard])\r\n",
        "  model.save_weights('./data/final_pos_tagging_model.h5')"
      ],
      "execution_count": 13,
      "outputs": [
        {
          "output_type": "stream",
          "text": [
            "Model: \"pos_tagging_model\"\n",
            "_________________________________________________________________\n",
            "Layer (type)                 Output Shape              Param #   \n",
            "=================================================================\n",
            "embedding (Embedding)        multiple                  1152128   \n",
            "_________________________________________________________________\n",
            "spatial_dropout1d (SpatialDr multiple                  0         \n",
            "_________________________________________________________________\n",
            "gru (GRU)                    multiple                  296448    \n",
            "_________________________________________________________________\n",
            "time_distributed (TimeDistri multiple                  10023     \n",
            "_________________________________________________________________\n",
            "activation (Activation)      multiple                  0         \n",
            "=================================================================\n",
            "Total params: 1,458,599\n",
            "Trainable params: 1,458,599\n",
            "Non-trainable params: 0\n",
            "_________________________________________________________________\n",
            "Epoch 1/120\n",
            "45/45 [==============================] - 7s 66ms/step - loss: 1.7871 - accuracy: 0.8279 - masked_accuracy_fn: 0.0220 - val_loss: 0.3307 - val_accuracy: 0.9194 - val_masked_accuracy_fn: 0.0730\n",
            "Epoch 2/120\n",
            "45/45 [==============================] - 2s 47ms/step - loss: 0.3267 - accuracy: 0.9167 - masked_accuracy_fn: 0.1837 - val_loss: 0.2856 - val_accuracy: 0.9214 - val_masked_accuracy_fn: 0.4364\n",
            "Epoch 3/120\n",
            "45/45 [==============================] - 2s 47ms/step - loss: 0.2979 - accuracy: 0.9163 - masked_accuracy_fn: 0.3473 - val_loss: 0.2798 - val_accuracy: 0.9158 - val_masked_accuracy_fn: 0.1739\n",
            "Epoch 4/120\n",
            "45/45 [==============================] - 2s 45ms/step - loss: 0.2735 - accuracy: 0.9208 - masked_accuracy_fn: 0.1540 - val_loss: 0.2651 - val_accuracy: 0.9245 - val_masked_accuracy_fn: 0.1559\n",
            "Epoch 5/120\n",
            "45/45 [==============================] - 2s 45ms/step - loss: 0.2634 - accuracy: 0.9251 - masked_accuracy_fn: 0.1617 - val_loss: 0.2478 - val_accuracy: 0.9313 - val_masked_accuracy_fn: 0.2037\n",
            "Epoch 6/120\n",
            "45/45 [==============================] - 2s 47ms/step - loss: 0.2494 - accuracy: 0.9299 - masked_accuracy_fn: 0.1985 - val_loss: 0.2377 - val_accuracy: 0.9357 - val_masked_accuracy_fn: 0.2521\n",
            "Epoch 7/120\n",
            "45/45 [==============================] - 2s 46ms/step - loss: 0.2441 - accuracy: 0.9331 - masked_accuracy_fn: 0.2561 - val_loss: 0.2276 - val_accuracy: 0.9375 - val_masked_accuracy_fn: 0.2880\n",
            "Epoch 8/120\n",
            "45/45 [==============================] - 2s 46ms/step - loss: 0.2267 - accuracy: 0.9376 - masked_accuracy_fn: 0.2996 - val_loss: 0.2080 - val_accuracy: 0.9444 - val_masked_accuracy_fn: 0.3603\n",
            "Epoch 9/120\n",
            "45/45 [==============================] - 2s 47ms/step - loss: 0.2156 - accuracy: 0.9423 - masked_accuracy_fn: 0.3548 - val_loss: 0.2034 - val_accuracy: 0.9466 - val_masked_accuracy_fn: 0.4006\n",
            "Epoch 10/120\n",
            "45/45 [==============================] - 2s 48ms/step - loss: 0.2021 - accuracy: 0.9469 - masked_accuracy_fn: 0.4014 - val_loss: 0.1821 - val_accuracy: 0.9535 - val_masked_accuracy_fn: 0.4641\n",
            "Epoch 11/120\n",
            "45/45 [==============================] - 2s 46ms/step - loss: 0.1916 - accuracy: 0.9506 - masked_accuracy_fn: 0.4498 - val_loss: 0.1774 - val_accuracy: 0.9554 - val_masked_accuracy_fn: 0.4977\n",
            "Epoch 12/120\n",
            "45/45 [==============================] - 2s 46ms/step - loss: 0.1767 - accuracy: 0.9551 - masked_accuracy_fn: 0.4957 - val_loss: 0.1702 - val_accuracy: 0.9578 - val_masked_accuracy_fn: 0.5199\n",
            "Epoch 13/120\n",
            "45/45 [==============================] - 2s 47ms/step - loss: 0.1738 - accuracy: 0.9562 - masked_accuracy_fn: 0.5170 - val_loss: 0.1563 - val_accuracy: 0.9615 - val_masked_accuracy_fn: 0.5713\n",
            "Epoch 14/120\n",
            "25/45 [===============>..............] - ETA: 0s - loss: 0.1572 - accuracy: 0.9612 - masked_accuracy_fn: 0.5700WARNING:tensorflow:Can save best model only with val_loss available, skipping.\n",
            "45/45 [==============================] - 2s 47ms/step - loss: 0.1584 - accuracy: 0.9608 - masked_accuracy_fn: 0.5662 - val_loss: 0.1646 - val_accuracy: 0.9593 - val_masked_accuracy_fn: 0.5570\n",
            "Epoch 15/120\n",
            "45/45 [==============================] - 2s 47ms/step - loss: 0.1578 - accuracy: 0.9606 - masked_accuracy_fn: 0.5657 - val_loss: 0.1375 - val_accuracy: 0.9661 - val_masked_accuracy_fn: 0.6210\n",
            "Epoch 16/120\n",
            "45/45 [==============================] - 2s 46ms/step - loss: 0.1496 - accuracy: 0.9624 - masked_accuracy_fn: 0.5872 - val_loss: 0.1509 - val_accuracy: 0.9613 - val_masked_accuracy_fn: 0.5796\n",
            "Epoch 17/120\n",
            "45/45 [==============================] - 2s 45ms/step - loss: 0.1389 - accuracy: 0.9642 - masked_accuracy_fn: 0.5964 - val_loss: 0.1347 - val_accuracy: 0.9641 - val_masked_accuracy_fn: 0.5928\n",
            "Epoch 18/120\n",
            "45/45 [==============================] - 2s 48ms/step - loss: 0.1372 - accuracy: 0.9641 - masked_accuracy_fn: 0.6067 - val_loss: 0.1312 - val_accuracy: 0.9647 - val_masked_accuracy_fn: 0.6254\n",
            "Epoch 19/120\n",
            "45/45 [==============================] - 2s 46ms/step - loss: 0.1339 - accuracy: 0.9644 - masked_accuracy_fn: 0.6157 - val_loss: 0.1322 - val_accuracy: 0.9640 - val_masked_accuracy_fn: 0.6058\n",
            "Epoch 20/120\n",
            "45/45 [==============================] - 2s 46ms/step - loss: 0.1290 - accuracy: 0.9648 - masked_accuracy_fn: 0.6168 - val_loss: 0.1285 - val_accuracy: 0.9645 - val_masked_accuracy_fn: 0.6240\n",
            "Epoch 21/120\n",
            "45/45 [==============================] - 2s 47ms/step - loss: 0.1263 - accuracy: 0.9652 - masked_accuracy_fn: 0.6238 - val_loss: 0.1161 - val_accuracy: 0.9671 - val_masked_accuracy_fn: 0.6231\n",
            "Epoch 22/120\n",
            "45/45 [==============================] - 2s 47ms/step - loss: 0.1231 - accuracy: 0.9659 - masked_accuracy_fn: 0.6268 - val_loss: 0.1096 - val_accuracy: 0.9696 - val_masked_accuracy_fn: 0.6591\n",
            "Epoch 23/120\n",
            "45/45 [==============================] - 2s 46ms/step - loss: 0.1155 - accuracy: 0.9675 - masked_accuracy_fn: 0.6461 - val_loss: 0.1050 - val_accuracy: 0.9703 - val_masked_accuracy_fn: 0.6595\n",
            "Epoch 24/120\n",
            "45/45 [==============================] - 2s 48ms/step - loss: 0.1130 - accuracy: 0.9679 - masked_accuracy_fn: 0.6500 - val_loss: 0.1055 - val_accuracy: 0.9699 - val_masked_accuracy_fn: 0.6815\n",
            "Epoch 25/120\n",
            "45/45 [==============================] - 2s 46ms/step - loss: 0.1137 - accuracy: 0.9675 - masked_accuracy_fn: 0.6429 - val_loss: 0.1131 - val_accuracy: 0.9670 - val_masked_accuracy_fn: 0.6316\n",
            "Epoch 26/120\n",
            "45/45 [==============================] - 2s 46ms/step - loss: 0.1166 - accuracy: 0.9663 - masked_accuracy_fn: 0.6376 - val_loss: 0.1086 - val_accuracy: 0.9686 - val_masked_accuracy_fn: 0.6840\n",
            "Epoch 27/120\n",
            "45/45 [==============================] - 2s 48ms/step - loss: 0.1100 - accuracy: 0.9683 - masked_accuracy_fn: 0.6612 - val_loss: 0.1052 - val_accuracy: 0.9695 - val_masked_accuracy_fn: 0.6681\n",
            "Epoch 28/120\n",
            " 5/45 [==>...........................] - ETA: 1s - loss: 0.1166 - accuracy: 0.9663 - masked_accuracy_fn: 0.6401WARNING:tensorflow:Can save best model only with val_loss available, skipping.\n",
            "45/45 [==============================] - 2s 46ms/step - loss: 0.1096 - accuracy: 0.9685 - masked_accuracy_fn: 0.6580 - val_loss: 0.1047 - val_accuracy: 0.9690 - val_masked_accuracy_fn: 0.6728\n",
            "Epoch 29/120\n",
            "45/45 [==============================] - 2s 46ms/step - loss: 0.1102 - accuracy: 0.9678 - masked_accuracy_fn: 0.6535 - val_loss: 0.1028 - val_accuracy: 0.9698 - val_masked_accuracy_fn: 0.6815\n",
            "Epoch 30/120\n",
            "45/45 [==============================] - 2s 46ms/step - loss: 0.1046 - accuracy: 0.9696 - masked_accuracy_fn: 0.6740 - val_loss: 0.0967 - val_accuracy: 0.9712 - val_masked_accuracy_fn: 0.6860\n",
            "Epoch 31/120\n",
            "45/45 [==============================] - 2s 47ms/step - loss: 0.1041 - accuracy: 0.9695 - masked_accuracy_fn: 0.6713 - val_loss: 0.1104 - val_accuracy: 0.9666 - val_masked_accuracy_fn: 0.6547\n",
            "Epoch 32/120\n",
            "45/45 [==============================] - 2s 46ms/step - loss: 0.0992 - accuracy: 0.9709 - masked_accuracy_fn: 0.6875 - val_loss: 0.0826 - val_accuracy: 0.9757 - val_masked_accuracy_fn: 0.7251\n",
            "Epoch 33/120\n",
            "45/45 [==============================] - 2s 47ms/step - loss: 0.0990 - accuracy: 0.9709 - masked_accuracy_fn: 0.6831 - val_loss: 0.1003 - val_accuracy: 0.9708 - val_masked_accuracy_fn: 0.7210\n",
            "Epoch 34/120\n",
            "45/45 [==============================] - 2s 47ms/step - loss: 0.1008 - accuracy: 0.9706 - masked_accuracy_fn: 0.6874 - val_loss: 0.0918 - val_accuracy: 0.9725 - val_masked_accuracy_fn: 0.6976\n",
            "Epoch 35/120\n",
            "45/45 [==============================] - 2s 47ms/step - loss: 0.1006 - accuracy: 0.9702 - masked_accuracy_fn: 0.6784 - val_loss: 0.0936 - val_accuracy: 0.9719 - val_masked_accuracy_fn: 0.6968\n",
            "Epoch 36/120\n",
            "45/45 [==============================] - 2s 47ms/step - loss: 0.0963 - accuracy: 0.9717 - masked_accuracy_fn: 0.6947 - val_loss: 0.0935 - val_accuracy: 0.9725 - val_masked_accuracy_fn: 0.7329\n",
            "Epoch 37/120\n",
            "45/45 [==============================] - 2s 45ms/step - loss: 0.0965 - accuracy: 0.9715 - masked_accuracy_fn: 0.6991 - val_loss: 0.0885 - val_accuracy: 0.9735 - val_masked_accuracy_fn: 0.7322\n",
            "Epoch 38/120\n",
            "45/45 [==============================] - 2s 47ms/step - loss: 0.0910 - accuracy: 0.9731 - masked_accuracy_fn: 0.7106 - val_loss: 0.0885 - val_accuracy: 0.9739 - val_masked_accuracy_fn: 0.7345\n",
            "Epoch 39/120\n",
            "45/45 [==============================] - 2s 46ms/step - loss: 0.0924 - accuracy: 0.9726 - masked_accuracy_fn: 0.7099 - val_loss: 0.0737 - val_accuracy: 0.9779 - val_masked_accuracy_fn: 0.7470\n",
            "Epoch 40/120\n",
            "45/45 [==============================] - 2s 47ms/step - loss: 0.0886 - accuracy: 0.9733 - masked_accuracy_fn: 0.7143 - val_loss: 0.0897 - val_accuracy: 0.9733 - val_masked_accuracy_fn: 0.7226\n",
            "Epoch 41/120\n",
            "30/45 [===================>..........] - ETA: 0s - loss: 0.0819 - accuracy: 0.9755 - masked_accuracy_fn: 0.7307WARNING:tensorflow:Can save best model only with val_loss available, skipping.\n",
            "45/45 [==============================] - 2s 47ms/step - loss: 0.0832 - accuracy: 0.9752 - masked_accuracy_fn: 0.7278 - val_loss: 0.0800 - val_accuracy: 0.9763 - val_masked_accuracy_fn: 0.7303\n",
            "Epoch 42/120\n",
            "45/45 [==============================] - 2s 46ms/step - loss: 0.0877 - accuracy: 0.9738 - masked_accuracy_fn: 0.7166 - val_loss: 0.0747 - val_accuracy: 0.9778 - val_masked_accuracy_fn: 0.7586\n",
            "Epoch 43/120\n",
            "45/45 [==============================] - 2s 46ms/step - loss: 0.0875 - accuracy: 0.9742 - masked_accuracy_fn: 0.7255 - val_loss: 0.0888 - val_accuracy: 0.9739 - val_masked_accuracy_fn: 0.7293\n",
            "Epoch 44/120\n",
            "45/45 [==============================] - 2s 48ms/step - loss: 0.0822 - accuracy: 0.9755 - masked_accuracy_fn: 0.7358 - val_loss: 0.0679 - val_accuracy: 0.9799 - val_masked_accuracy_fn: 0.7911\n",
            "Epoch 45/120\n",
            "45/45 [==============================] - 2s 47ms/step - loss: 0.0796 - accuracy: 0.9763 - masked_accuracy_fn: 0.7433 - val_loss: 0.0785 - val_accuracy: 0.9767 - val_masked_accuracy_fn: 0.7528\n",
            "Epoch 46/120\n",
            "45/45 [==============================] - 2s 46ms/step - loss: 0.0787 - accuracy: 0.9765 - masked_accuracy_fn: 0.7466 - val_loss: 0.0762 - val_accuracy: 0.9772 - val_masked_accuracy_fn: 0.7415\n",
            "Epoch 47/120\n",
            "45/45 [==============================] - 2s 47ms/step - loss: 0.0812 - accuracy: 0.9758 - masked_accuracy_fn: 0.7413 - val_loss: 0.0850 - val_accuracy: 0.9749 - val_masked_accuracy_fn: 0.7367\n",
            "Epoch 48/120\n",
            "45/45 [==============================] - 2s 47ms/step - loss: 0.0766 - accuracy: 0.9773 - masked_accuracy_fn: 0.7548 - val_loss: 0.0658 - val_accuracy: 0.9804 - val_masked_accuracy_fn: 0.7942\n",
            "Epoch 49/120\n",
            "45/45 [==============================] - 2s 46ms/step - loss: 0.0740 - accuracy: 0.9780 - masked_accuracy_fn: 0.7622 - val_loss: 0.0687 - val_accuracy: 0.9799 - val_masked_accuracy_fn: 0.7792\n",
            "Epoch 50/120\n",
            "45/45 [==============================] - 2s 46ms/step - loss: 0.0726 - accuracy: 0.9782 - masked_accuracy_fn: 0.7646 - val_loss: 0.0724 - val_accuracy: 0.9789 - val_masked_accuracy_fn: 0.7768\n",
            "Epoch 51/120\n",
            "45/45 [==============================] - 2s 47ms/step - loss: 0.0738 - accuracy: 0.9781 - masked_accuracy_fn: 0.7630 - val_loss: 0.0670 - val_accuracy: 0.9799 - val_masked_accuracy_fn: 0.7843\n",
            "Epoch 52/120\n",
            "45/45 [==============================] - 2s 47ms/step - loss: 0.0699 - accuracy: 0.9790 - masked_accuracy_fn: 0.7703 - val_loss: 0.0613 - val_accuracy: 0.9823 - val_masked_accuracy_fn: 0.8038\n",
            "Epoch 53/120\n",
            "45/45 [==============================] - 2s 48ms/step - loss: 0.0680 - accuracy: 0.9795 - masked_accuracy_fn: 0.7765 - val_loss: 0.0583 - val_accuracy: 0.9827 - val_masked_accuracy_fn: 0.8033\n",
            "Epoch 54/120\n",
            "45/45 [==============================] - 2s 48ms/step - loss: 0.0673 - accuracy: 0.9799 - masked_accuracy_fn: 0.7836 - val_loss: 0.0580 - val_accuracy: 0.9828 - val_masked_accuracy_fn: 0.8193\n",
            "Epoch 55/120\n",
            "10/45 [=====>........................] - ETA: 1s - loss: 0.0667 - accuracy: 0.9800 - masked_accuracy_fn: 0.7894WARNING:tensorflow:Can save best model only with val_loss available, skipping.\n",
            "45/45 [==============================] - 2s 49ms/step - loss: 0.0674 - accuracy: 0.9798 - masked_accuracy_fn: 0.7847 - val_loss: 0.0558 - val_accuracy: 0.9840 - val_masked_accuracy_fn: 0.8365\n",
            "Epoch 56/120\n",
            "45/45 [==============================] - 2s 47ms/step - loss: 0.0674 - accuracy: 0.9797 - masked_accuracy_fn: 0.7818 - val_loss: 0.0671 - val_accuracy: 0.9800 - val_masked_accuracy_fn: 0.7780\n",
            "Epoch 57/120\n",
            "45/45 [==============================] - 2s 46ms/step - loss: 0.0724 - accuracy: 0.9783 - masked_accuracy_fn: 0.7664 - val_loss: 0.0556 - val_accuracy: 0.9834 - val_masked_accuracy_fn: 0.8287\n",
            "Epoch 58/120\n",
            "45/45 [==============================] - 2s 46ms/step - loss: 0.0628 - accuracy: 0.9811 - masked_accuracy_fn: 0.7958 - val_loss: 0.0566 - val_accuracy: 0.9836 - val_masked_accuracy_fn: 0.8208\n",
            "Epoch 59/120\n",
            "45/45 [==============================] - 2s 47ms/step - loss: 0.0627 - accuracy: 0.9814 - masked_accuracy_fn: 0.8002 - val_loss: 0.0614 - val_accuracy: 0.9824 - val_masked_accuracy_fn: 0.8091\n",
            "Epoch 60/120\n",
            "45/45 [==============================] - 2s 47ms/step - loss: 0.0596 - accuracy: 0.9820 - masked_accuracy_fn: 0.8033 - val_loss: 0.0628 - val_accuracy: 0.9813 - val_masked_accuracy_fn: 0.8143\n",
            "Epoch 61/120\n",
            "45/45 [==============================] - 2s 47ms/step - loss: 0.0583 - accuracy: 0.9826 - masked_accuracy_fn: 0.8113 - val_loss: 0.0493 - val_accuracy: 0.9857 - val_masked_accuracy_fn: 0.8392\n",
            "Epoch 62/120\n",
            "45/45 [==============================] - 2s 47ms/step - loss: 0.0566 - accuracy: 0.9832 - masked_accuracy_fn: 0.8135 - val_loss: 0.0543 - val_accuracy: 0.9839 - val_masked_accuracy_fn: 0.8243\n",
            "Epoch 63/120\n",
            "45/45 [==============================] - 2s 47ms/step - loss: 0.0585 - accuracy: 0.9826 - masked_accuracy_fn: 0.8095 - val_loss: 0.0468 - val_accuracy: 0.9869 - val_masked_accuracy_fn: 0.8502\n",
            "Epoch 64/120\n",
            "45/45 [==============================] - 2s 48ms/step - loss: 0.0581 - accuracy: 0.9825 - masked_accuracy_fn: 0.8077 - val_loss: 0.0500 - val_accuracy: 0.9853 - val_masked_accuracy_fn: 0.8336\n",
            "Epoch 65/120\n",
            "45/45 [==============================] - 2s 48ms/step - loss: 0.0557 - accuracy: 0.9833 - masked_accuracy_fn: 0.8186 - val_loss: 0.0523 - val_accuracy: 0.9846 - val_masked_accuracy_fn: 0.8454\n",
            "Epoch 66/120\n",
            "45/45 [==============================] - 2s 46ms/step - loss: 0.0536 - accuracy: 0.9840 - masked_accuracy_fn: 0.8261 - val_loss: 0.0464 - val_accuracy: 0.9862 - val_masked_accuracy_fn: 0.8579\n",
            "Epoch 67/120\n",
            "45/45 [==============================] - 2s 48ms/step - loss: 0.0524 - accuracy: 0.9844 - masked_accuracy_fn: 0.8294 - val_loss: 0.0395 - val_accuracy: 0.9887 - val_masked_accuracy_fn: 0.8707\n",
            "Epoch 68/120\n",
            "35/45 [======================>.......] - ETA: 0s - loss: 0.0505 - accuracy: 0.9847 - masked_accuracy_fn: 0.8341WARNING:tensorflow:Can save best model only with val_loss available, skipping.\n",
            "45/45 [==============================] - 2s 46ms/step - loss: 0.0508 - accuracy: 0.9846 - masked_accuracy_fn: 0.8331 - val_loss: 0.0467 - val_accuracy: 0.9863 - val_masked_accuracy_fn: 0.8694\n",
            "Epoch 69/120\n",
            "45/45 [==============================] - 2s 48ms/step - loss: 0.0511 - accuracy: 0.9846 - masked_accuracy_fn: 0.8353 - val_loss: 0.0417 - val_accuracy: 0.9878 - val_masked_accuracy_fn: 0.8621\n",
            "Epoch 70/120\n",
            "45/45 [==============================] - 2s 48ms/step - loss: 0.0479 - accuracy: 0.9856 - masked_accuracy_fn: 0.8376 - val_loss: 0.0399 - val_accuracy: 0.9884 - val_masked_accuracy_fn: 0.8732\n",
            "Epoch 71/120\n",
            "45/45 [==============================] - 2s 47ms/step - loss: 0.0486 - accuracy: 0.9855 - masked_accuracy_fn: 0.8431 - val_loss: 0.0408 - val_accuracy: 0.9884 - val_masked_accuracy_fn: 0.8836\n",
            "Epoch 72/120\n",
            "45/45 [==============================] - 2s 47ms/step - loss: 0.0485 - accuracy: 0.9854 - masked_accuracy_fn: 0.8421 - val_loss: 0.0382 - val_accuracy: 0.9891 - val_masked_accuracy_fn: 0.8782\n",
            "Epoch 73/120\n",
            "45/45 [==============================] - 2s 48ms/step - loss: 0.0470 - accuracy: 0.9858 - masked_accuracy_fn: 0.8447 - val_loss: 0.0350 - val_accuracy: 0.9898 - val_masked_accuracy_fn: 0.8749\n",
            "Epoch 74/120\n",
            "45/45 [==============================] - 2s 47ms/step - loss: 0.0469 - accuracy: 0.9859 - masked_accuracy_fn: 0.8461 - val_loss: 0.0385 - val_accuracy: 0.9886 - val_masked_accuracy_fn: 0.8815\n",
            "Epoch 75/120\n",
            "45/45 [==============================] - 2s 47ms/step - loss: 0.0459 - accuracy: 0.9861 - masked_accuracy_fn: 0.8467 - val_loss: 0.0385 - val_accuracy: 0.9886 - val_masked_accuracy_fn: 0.8763\n",
            "Epoch 76/120\n",
            "45/45 [==============================] - 2s 47ms/step - loss: 0.0449 - accuracy: 0.9864 - masked_accuracy_fn: 0.8509 - val_loss: 0.0364 - val_accuracy: 0.9895 - val_masked_accuracy_fn: 0.8805\n",
            "Epoch 77/120\n",
            "45/45 [==============================] - 2s 47ms/step - loss: 0.0473 - accuracy: 0.9859 - masked_accuracy_fn: 0.8422 - val_loss: 0.0348 - val_accuracy: 0.9901 - val_masked_accuracy_fn: 0.8925\n",
            "Epoch 78/120\n",
            "45/45 [==============================] - 2s 46ms/step - loss: 0.0429 - accuracy: 0.9870 - masked_accuracy_fn: 0.8557 - val_loss: 0.0374 - val_accuracy: 0.9892 - val_masked_accuracy_fn: 0.8885\n",
            "Epoch 79/120\n",
            "45/45 [==============================] - 2s 47ms/step - loss: 0.0566 - accuracy: 0.9828 - masked_accuracy_fn: 0.8160 - val_loss: 0.0408 - val_accuracy: 0.9885 - val_masked_accuracy_fn: 0.8803\n",
            "Epoch 80/120\n",
            "45/45 [==============================] - 2s 48ms/step - loss: 0.0433 - accuracy: 0.9869 - masked_accuracy_fn: 0.8576 - val_loss: 0.0363 - val_accuracy: 0.9894 - val_masked_accuracy_fn: 0.8792\n",
            "Epoch 81/120\n",
            "45/45 [==============================] - 2s 47ms/step - loss: 0.0416 - accuracy: 0.9873 - masked_accuracy_fn: 0.8610 - val_loss: 0.0357 - val_accuracy: 0.9903 - val_masked_accuracy_fn: 0.8925\n",
            "Epoch 82/120\n",
            "15/45 [=========>....................] - ETA: 1s - loss: 0.0366 - accuracy: 0.9888 - masked_accuracy_fn: 0.8719WARNING:tensorflow:Can save best model only with val_loss available, skipping.\n",
            "45/45 [==============================] - 2s 48ms/step - loss: 0.0393 - accuracy: 0.9881 - masked_accuracy_fn: 0.8678 - val_loss: 0.0367 - val_accuracy: 0.9896 - val_masked_accuracy_fn: 0.8846\n",
            "Epoch 83/120\n",
            "45/45 [==============================] - 2s 48ms/step - loss: 0.0405 - accuracy: 0.9879 - masked_accuracy_fn: 0.8681 - val_loss: 0.0306 - val_accuracy: 0.9910 - val_masked_accuracy_fn: 0.8987\n",
            "Epoch 84/120\n",
            "45/45 [==============================] - 2s 46ms/step - loss: 0.0379 - accuracy: 0.9885 - masked_accuracy_fn: 0.8718 - val_loss: 0.0314 - val_accuracy: 0.9915 - val_masked_accuracy_fn: 0.9085\n",
            "Epoch 85/120\n",
            "45/45 [==============================] - 2s 49ms/step - loss: 0.0374 - accuracy: 0.9889 - masked_accuracy_fn: 0.8786 - val_loss: 0.0315 - val_accuracy: 0.9912 - val_masked_accuracy_fn: 0.9042\n",
            "Epoch 86/120\n",
            "45/45 [==============================] - 2s 48ms/step - loss: 0.0364 - accuracy: 0.9891 - masked_accuracy_fn: 0.8798 - val_loss: 0.0266 - val_accuracy: 0.9926 - val_masked_accuracy_fn: 0.9219\n",
            "Epoch 87/120\n",
            "45/45 [==============================] - 2s 47ms/step - loss: 0.0343 - accuracy: 0.9898 - masked_accuracy_fn: 0.8884 - val_loss: 0.0325 - val_accuracy: 0.9909 - val_masked_accuracy_fn: 0.9018\n",
            "Epoch 88/120\n",
            "45/45 [==============================] - 2s 47ms/step - loss: 0.0358 - accuracy: 0.9893 - masked_accuracy_fn: 0.8826 - val_loss: 0.0275 - val_accuracy: 0.9926 - val_masked_accuracy_fn: 0.9252\n",
            "Epoch 89/120\n",
            "45/45 [==============================] - 2s 47ms/step - loss: 0.0340 - accuracy: 0.9898 - masked_accuracy_fn: 0.8876 - val_loss: 0.0295 - val_accuracy: 0.9916 - val_masked_accuracy_fn: 0.9083\n",
            "Epoch 90/120\n",
            "45/45 [==============================] - 2s 47ms/step - loss: 0.0342 - accuracy: 0.9897 - masked_accuracy_fn: 0.8867 - val_loss: 0.0286 - val_accuracy: 0.9922 - val_masked_accuracy_fn: 0.9166\n",
            "Epoch 91/120\n",
            "45/45 [==============================] - 2s 47ms/step - loss: 0.0328 - accuracy: 0.9903 - masked_accuracy_fn: 0.8935 - val_loss: 0.0244 - val_accuracy: 0.9933 - val_masked_accuracy_fn: 0.9274\n",
            "Epoch 92/120\n",
            "45/45 [==============================] - 2s 46ms/step - loss: 0.0321 - accuracy: 0.9903 - masked_accuracy_fn: 0.8932 - val_loss: 0.0240 - val_accuracy: 0.9933 - val_masked_accuracy_fn: 0.9292\n",
            "Epoch 93/120\n",
            "45/45 [==============================] - 2s 47ms/step - loss: 0.0328 - accuracy: 0.9900 - masked_accuracy_fn: 0.8922 - val_loss: 0.0218 - val_accuracy: 0.9941 - val_masked_accuracy_fn: 0.9351\n",
            "Epoch 94/120\n",
            "45/45 [==============================] - 2s 47ms/step - loss: 0.0316 - accuracy: 0.9904 - masked_accuracy_fn: 0.8948 - val_loss: 0.0249 - val_accuracy: 0.9930 - val_masked_accuracy_fn: 0.9266\n",
            "Epoch 95/120\n",
            "39/45 [=========================>....] - ETA: 0s - loss: 0.0315 - accuracy: 0.9905 - masked_accuracy_fn: 0.8953WARNING:tensorflow:Can save best model only with val_loss available, skipping.\n",
            "45/45 [==============================] - 2s 48ms/step - loss: 0.0314 - accuracy: 0.9905 - masked_accuracy_fn: 0.8955 - val_loss: 0.0231 - val_accuracy: 0.9937 - val_masked_accuracy_fn: 0.9362\n",
            "Epoch 96/120\n",
            "45/45 [==============================] - 2s 48ms/step - loss: 0.0299 - accuracy: 0.9910 - masked_accuracy_fn: 0.9047 - val_loss: 0.0223 - val_accuracy: 0.9937 - val_masked_accuracy_fn: 0.9306\n",
            "Epoch 97/120\n",
            "45/45 [==============================] - 2s 46ms/step - loss: 0.0292 - accuracy: 0.9912 - masked_accuracy_fn: 0.9024 - val_loss: 0.0226 - val_accuracy: 0.9943 - val_masked_accuracy_fn: 0.9374\n",
            "Epoch 98/120\n",
            "45/45 [==============================] - 2s 47ms/step - loss: 0.0284 - accuracy: 0.9914 - masked_accuracy_fn: 0.9058 - val_loss: 0.0216 - val_accuracy: 0.9940 - val_masked_accuracy_fn: 0.9388\n",
            "Epoch 99/120\n",
            "45/45 [==============================] - 2s 47ms/step - loss: 0.0288 - accuracy: 0.9914 - masked_accuracy_fn: 0.9057 - val_loss: 0.0205 - val_accuracy: 0.9943 - val_masked_accuracy_fn: 0.9348\n",
            "Epoch 100/120\n",
            "45/45 [==============================] - 2s 47ms/step - loss: 0.0286 - accuracy: 0.9914 - masked_accuracy_fn: 0.9049 - val_loss: 0.0198 - val_accuracy: 0.9947 - val_masked_accuracy_fn: 0.9423\n",
            "Epoch 101/120\n",
            "45/45 [==============================] - 2s 50ms/step - loss: 0.0270 - accuracy: 0.9918 - masked_accuracy_fn: 0.9096 - val_loss: 0.0182 - val_accuracy: 0.9951 - val_masked_accuracy_fn: 0.9415\n",
            "Epoch 102/120\n",
            "45/45 [==============================] - 2s 48ms/step - loss: 0.0262 - accuracy: 0.9922 - masked_accuracy_fn: 0.9149 - val_loss: 0.0182 - val_accuracy: 0.9954 - val_masked_accuracy_fn: 0.9443\n",
            "Epoch 103/120\n",
            "45/45 [==============================] - 2s 49ms/step - loss: 0.0247 - accuracy: 0.9927 - masked_accuracy_fn: 0.9178 - val_loss: 0.0171 - val_accuracy: 0.9957 - val_masked_accuracy_fn: 0.9530\n",
            "Epoch 104/120\n",
            "45/45 [==============================] - 2s 47ms/step - loss: 0.0257 - accuracy: 0.9922 - masked_accuracy_fn: 0.9143 - val_loss: 0.0182 - val_accuracy: 0.9951 - val_masked_accuracy_fn: 0.9417\n",
            "Epoch 105/120\n",
            "45/45 [==============================] - 2s 46ms/step - loss: 0.0244 - accuracy: 0.9927 - masked_accuracy_fn: 0.9183 - val_loss: 0.0152 - val_accuracy: 0.9959 - val_masked_accuracy_fn: 0.9535\n",
            "Epoch 106/120\n",
            "45/45 [==============================] - 2s 47ms/step - loss: 0.0241 - accuracy: 0.9927 - masked_accuracy_fn: 0.9202 - val_loss: 0.0128 - val_accuracy: 0.9970 - val_masked_accuracy_fn: 0.9652\n",
            "Epoch 107/120\n",
            "45/45 [==============================] - 2s 47ms/step - loss: 0.0232 - accuracy: 0.9929 - masked_accuracy_fn: 0.9233 - val_loss: 0.0133 - val_accuracy: 0.9966 - val_masked_accuracy_fn: 0.9638\n",
            "Epoch 108/120\n",
            "45/45 [==============================] - 2s 48ms/step - loss: 0.0233 - accuracy: 0.9928 - masked_accuracy_fn: 0.9227 - val_loss: 0.0162 - val_accuracy: 0.9956 - val_masked_accuracy_fn: 0.9487\n",
            "Epoch 109/120\n",
            "19/45 [===========>..................] - ETA: 1s - loss: 0.0232 - accuracy: 0.9929 - masked_accuracy_fn: 0.9236WARNING:tensorflow:Can save best model only with val_loss available, skipping.\n",
            "45/45 [==============================] - 2s 49ms/step - loss: 0.0228 - accuracy: 0.9931 - masked_accuracy_fn: 0.9246 - val_loss: 0.0137 - val_accuracy: 0.9965 - val_masked_accuracy_fn: 0.9626\n",
            "Epoch 110/120\n",
            "45/45 [==============================] - 2s 48ms/step - loss: 0.0215 - accuracy: 0.9936 - masked_accuracy_fn: 0.9291 - val_loss: 0.0161 - val_accuracy: 0.9958 - val_masked_accuracy_fn: 0.9514\n",
            "Epoch 111/120\n",
            "45/45 [==============================] - 2s 48ms/step - loss: 0.0225 - accuracy: 0.9932 - masked_accuracy_fn: 0.9231 - val_loss: 0.0137 - val_accuracy: 0.9963 - val_masked_accuracy_fn: 0.9579\n",
            "Epoch 112/120\n",
            "45/45 [==============================] - 2s 47ms/step - loss: 0.0219 - accuracy: 0.9933 - masked_accuracy_fn: 0.9250 - val_loss: 0.0123 - val_accuracy: 0.9969 - val_masked_accuracy_fn: 0.9652\n",
            "Epoch 113/120\n",
            "45/45 [==============================] - 2s 47ms/step - loss: 0.0209 - accuracy: 0.9936 - masked_accuracy_fn: 0.9297 - val_loss: 0.0136 - val_accuracy: 0.9966 - val_masked_accuracy_fn: 0.9684\n",
            "Epoch 114/120\n",
            "45/45 [==============================] - 2s 47ms/step - loss: 0.0205 - accuracy: 0.9938 - masked_accuracy_fn: 0.9321 - val_loss: 0.0135 - val_accuracy: 0.9967 - val_masked_accuracy_fn: 0.9666\n",
            "Epoch 115/120\n",
            "45/45 [==============================] - 2s 47ms/step - loss: 0.0206 - accuracy: 0.9937 - masked_accuracy_fn: 0.9291 - val_loss: 0.0130 - val_accuracy: 0.9965 - val_masked_accuracy_fn: 0.9621\n",
            "Epoch 116/120\n",
            "45/45 [==============================] - 2s 47ms/step - loss: 0.0205 - accuracy: 0.9938 - masked_accuracy_fn: 0.9327 - val_loss: 0.0143 - val_accuracy: 0.9964 - val_masked_accuracy_fn: 0.9623\n",
            "Epoch 117/120\n",
            "45/45 [==============================] - 2s 47ms/step - loss: 0.0189 - accuracy: 0.9944 - masked_accuracy_fn: 0.9391 - val_loss: 0.0096 - val_accuracy: 0.9977 - val_masked_accuracy_fn: 0.9738\n",
            "Epoch 118/120\n",
            "45/45 [==============================] - 2s 48ms/step - loss: 0.0186 - accuracy: 0.9943 - masked_accuracy_fn: 0.9371 - val_loss: 0.0090 - val_accuracy: 0.9977 - val_masked_accuracy_fn: 0.9737\n",
            "Epoch 119/120\n",
            "45/45 [==============================] - 2s 48ms/step - loss: 0.0171 - accuracy: 0.9950 - masked_accuracy_fn: 0.9448 - val_loss: 0.0124 - val_accuracy: 0.9968 - val_masked_accuracy_fn: 0.9647\n",
            "Epoch 120/120\n",
            "45/45 [==============================] - 2s 48ms/step - loss: 0.0185 - accuracy: 0.9945 - masked_accuracy_fn: 0.9376 - val_loss: 0.0102 - val_accuracy: 0.9975 - val_masked_accuracy_fn: 0.9728\n"
          ],
          "name": "stdout"
        }
      ]
    }
  ]
}