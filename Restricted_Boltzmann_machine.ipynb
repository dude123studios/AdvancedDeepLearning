{
  "nbformat": 4,
  "nbformat_minor": 0,
  "metadata": {
    "colab": {
      "name": "Restricted Boltzmann machine ",
      "provenance": [],
      "collapsed_sections": [],
      "authorship_tag": "ABX9TyNJpk61y1KPlbNOfsJXeaTz",
      "include_colab_link": true
    },
    "kernelspec": {
      "name": "python3",
      "display_name": "Python 3"
    },
    "language_info": {
      "name": "python"
    },
    "accelerator": "GPU"
  },
  "cells": [
    {
      "cell_type": "markdown",
      "metadata": {
        "id": "view-in-github",
        "colab_type": "text"
      },
      "source": [
        "<a href=\"https://colab.research.google.com/github/dude123studios/AdvancedDeepLearning/blob/main/Restricted_Boltzmann_machine.ipynb\" target=\"_parent\"><img src=\"https://colab.research.google.com/assets/colab-badge.svg\" alt=\"Open In Colab\"/></a>"
      ]
    },
    {
      "cell_type": "code",
      "metadata": {
        "id": "DugpXzxLtcxV"
      },
      "source": [
        "import tensorflow as tf\n",
        "import numpy as np\n",
        "import matplotlib.pyplot as plt"
      ],
      "execution_count": 1,
      "outputs": []
    },
    {
      "cell_type": "code",
      "metadata": {
        "id": "iVZjjvlUtpFI"
      },
      "source": [
        "class RBM(object):\n",
        "    def __init__(self, input_size, output_size, lr=1.0, batch_size = 100):\n",
        "\n",
        "        self.input_size = input_size\n",
        "        self.output_size = output_size\n",
        "        self.learning_rate = lr\n",
        "        self.batch_size = batch_size\n",
        "        \n",
        "        self.w = tf.cast(tf.random.uniform([input_size, output_size],-1, 1), tf.float32)\n",
        "        self.hb = tf.cast(tf.random.uniform([output_size],-1, 1), tf.float32)\n",
        "        self.vb = tf.cast(tf.random.uniform([input_size],-1, 1), tf.float32)\n",
        "\n",
        "    def prob_h_given_v(self, visible, w, hb):\n",
        "        return tf.nn.sigmoid(tf.matmul(visible, w) + hb)\n",
        "    \n",
        "    def prob_v_given_h(self, hidden, w, vb):\n",
        "        return tf.nn.sigmoid(tf.matmul(hidden, tf.transpose(w)) + vb)\n",
        "\n",
        "    def sample_prob(self, probs):\n",
        "        return tf.nn.relu(tf.sign(probs-tf.random.uniform(tf.shape(probs))))\n",
        "    \n",
        "    def rbm_reconstruct(self, X):\n",
        "        h = tf.nn.sigmoid(tf.matmul(X, self.w) + self.hb)\n",
        "        reconstruct = tf.nn.sigmoid(tf.matmul(h, self.w) + self.vb)\n",
        "        return reconstruct \n",
        "\n",
        "    def train(self, X, epochs=10):\n",
        "\n",
        "        loss = []\n",
        "        for epoch in range(epochs):\n",
        "            for start, end in zip(range(0, len(X), self.batch_size), \n",
        "                                  range(self.batch_size, len(X), self.batch_size)):\n",
        "                batch = X[start:end]\n",
        "                h0 = self.sample_prob(self.prob_h_given_v(batch, self.w, self.hb))\n",
        "                v1 = self.sample_prob(self.prob_v_given_h(h0, self.w, self.vb))\n",
        "                h1 = self.prob_h_given_v(v1, self.w, self.hb)\n",
        "\n",
        "                positive_grad = tf.matmul(tf.transpose(batch), h0)\n",
        "                negative_grad = tf.matmul(tf.transpose(v1), h1)\n",
        "\n",
        "                self.w = self.w + self.learning_rate *(positive_grad-negative_grad)/ tf.dtypes.cast(tf.shape(batch)[0], tf.float32)\n",
        "                self.vb = self.vb + self.learning_rate * tf.reduce_mean(batch-v1, 0)\n",
        "                self.hb = self.hb + self.learning_rate * tf.reduce_mean(h0-h1, 0)\n",
        "\n",
        "                err = tf.reduce_mean(tf.square(batch-v1))\n",
        "            print('Epoch: %d' %epoch, 'reconstructed error: %f' %err)\n",
        "            loss.append(err)\n",
        "        return loss"
      ],
      "execution_count": 8,
      "outputs": []
    },
    {
      "cell_type": "code",
      "metadata": {
        "colab": {
          "base_uri": "https://localhost:8080/"
        },
        "id": "u3chd4MrV-wx",
        "outputId": "c576ecba-ba05-4da4-e709-f5282ec7c9d4"
      },
      "source": [
        "(x_train,_), (x_test, _) = tf.keras.datasets.mnist.load_data()\n",
        "x_train = x_train/np.float32(255)\n",
        "x_test = x_test/np.float32(255)\n",
        "x_train = np.reshape(x_train, (x_train.shape[0], 784))\n",
        "x_test = np.reshape(x_test, (x_test.shape[0], 784))\n",
        "\n",
        "input_size = x_train.shape[1]\n",
        "rbm = RBM(input_size, 200)\n",
        "err = rbm.train(x_train, 50)"
      ],
      "execution_count": 9,
      "outputs": [
        {
          "output_type": "stream",
          "text": [
            "Epoch: 0 reconstructed error: 0.081169\n",
            "Epoch: 1 reconstructed error: 0.078238\n",
            "Epoch: 2 reconstructed error: 0.073753\n",
            "Epoch: 3 reconstructed error: 0.072048\n",
            "Epoch: 4 reconstructed error: 0.070942\n",
            "Epoch: 5 reconstructed error: 0.069235\n",
            "Epoch: 6 reconstructed error: 0.069191\n",
            "Epoch: 7 reconstructed error: 0.068283\n",
            "Epoch: 8 reconstructed error: 0.064978\n",
            "Epoch: 9 reconstructed error: 0.064977\n",
            "Epoch: 10 reconstructed error: 0.063736\n",
            "Epoch: 11 reconstructed error: 0.062627\n",
            "Epoch: 12 reconstructed error: 0.061410\n",
            "Epoch: 13 reconstructed error: 0.060632\n",
            "Epoch: 14 reconstructed error: 0.061245\n",
            "Epoch: 15 reconstructed error: 0.060290\n",
            "Epoch: 16 reconstructed error: 0.060032\n",
            "Epoch: 17 reconstructed error: 0.058963\n",
            "Epoch: 18 reconstructed error: 0.056443\n",
            "Epoch: 19 reconstructed error: 0.057398\n",
            "Epoch: 20 reconstructed error: 0.057435\n",
            "Epoch: 21 reconstructed error: 0.057727\n",
            "Epoch: 22 reconstructed error: 0.056935\n",
            "Epoch: 23 reconstructed error: 0.057626\n",
            "Epoch: 24 reconstructed error: 0.055249\n",
            "Epoch: 25 reconstructed error: 0.056938\n",
            "Epoch: 26 reconstructed error: 0.056807\n",
            "Epoch: 27 reconstructed error: 0.056956\n",
            "Epoch: 28 reconstructed error: 0.055459\n",
            "Epoch: 29 reconstructed error: 0.056191\n",
            "Epoch: 30 reconstructed error: 0.055008\n",
            "Epoch: 31 reconstructed error: 0.056451\n",
            "Epoch: 32 reconstructed error: 0.055258\n",
            "Epoch: 33 reconstructed error: 0.054103\n",
            "Epoch: 34 reconstructed error: 0.055043\n",
            "Epoch: 35 reconstructed error: 0.054374\n",
            "Epoch: 36 reconstructed error: 0.052739\n",
            "Epoch: 37 reconstructed error: 0.053641\n",
            "Epoch: 38 reconstructed error: 0.053071\n",
            "Epoch: 39 reconstructed error: 0.052487\n",
            "Epoch: 40 reconstructed error: 0.052862\n",
            "Epoch: 41 reconstructed error: 0.053113\n",
            "Epoch: 42 reconstructed error: 0.052603\n",
            "Epoch: 43 reconstructed error: 0.051648\n",
            "Epoch: 44 reconstructed error: 0.052651\n",
            "Epoch: 45 reconstructed error: 0.054612\n",
            "Epoch: 46 reconstructed error: 0.053181\n",
            "Epoch: 47 reconstructed error: 0.052741\n",
            "Epoch: 48 reconstructed error: 0.053306\n",
            "Epoch: 49 reconstructed error: 0.052199\n"
          ],
          "name": "stdout"
        }
      ]
    },
    {
      "cell_type": "code",
      "metadata": {
        "colab": {
          "base_uri": "https://localhost:8080/",
          "height": 296
        },
        "id": "LQDEOwaualz_",
        "outputId": "5367eb40-47d1-4d12-c0a0-5d5f869b744c"
      },
      "source": [
        "plt.plot(err)\n",
        "plt.xlabel('epochs')\n",
        "plt.ylabel('cost')"
      ],
      "execution_count": 10,
      "outputs": [
        {
          "output_type": "execute_result",
          "data": {
            "text/plain": [
              "Text(0, 0.5, 'cost')"
            ]
          },
          "metadata": {
            "tags": []
          },
          "execution_count": 10
        },
        {
          "output_type": "display_data",
          "data": {
            "image/png": "[encoded data removed]",
            "text/plain": [
              "<Figure size 432x288 with 1 Axes>"
            ]
          },
          "metadata": {
            "tags": [],
            "needs_background": "light"
          }
        }
      ]
    }
  ]
}