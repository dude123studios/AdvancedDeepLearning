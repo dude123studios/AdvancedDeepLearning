{
  "nbformat": 4,
  "nbformat_minor": 0,
  "metadata": {
    "colab": {
      "name": "Restricted Boltzmann machine ",
      "provenance": [],
      "collapsed_sections": [],
      "authorship_tag": "ABX9TyMMo6V/GlqiJ28K3cUA7wdf",
      "include_colab_link": true
    },
    "kernelspec": {
      "name": "python3",
      "display_name": "Python 3"
    },
    "language_info": {
      "name": "python"
    },
    "accelerator": "GPU"
  },
  "cells": [
    {
      "cell_type": "markdown",
      "metadata": {
        "id": "view-in-github",
        "colab_type": "text"
      },
      "source": [
        "<a href=\"https://colab.research.google.com/github/dude123studios/AdvancedDeepLearning/blob/main/Restricted_Boltzmann_machine.ipynb\" target=\"_parent\"><img src=\"https://colab.research.google.com/assets/colab-badge.svg\" alt=\"Open In Colab\"/></a>"
      ]
    },
    {
      "cell_type": "code",
      "metadata": {
        "id": "DugpXzxLtcxV"
      },
      "source": [
        "import tensorflow as tf\n",
        "import numpy as np\n",
        "import matplotlib.pyplot as plt"
      ],
      "execution_count": 1,
      "outputs": []
    },
    {
      "cell_type": "code",
      "metadata": {
        "id": "iVZjjvlUtpFI"
      },
      "source": [
        "class RBM(object):\n",
        "    def __init__(self, input_size, output_size, lr=1.0, batch_size = 100):\n",
        "\n",
        "        self.input_size = input_size\n",
        "        self.output_size = output_size\n",
        "        self.learning_rate = lr\n",
        "        self.batch_size = batch_size\n",
        "        \n",
        "        self.w = tf.cast(tf.random.uniform([input_size, output_size],-1, 1), tf.float32)\n",
        "        self.hb = tf.cast(tf.random.uniform([output_size],-1, 1), tf.float32)\n",
        "        self.vb = tf.cast(tf.random.uniform([input_size],-1, 1), tf.float32)\n",
        "\n",
        "    def prob_h_given_v(self, visible, w, hb):\n",
        "        return tf.nn.sigmoid(tf.matmul(visible, w) + hb)\n",
        "    \n",
        "    def prob_v_given_h(self, hidden, w, vb):\n",
        "        return tf.nn.sigmoid(tf.matmul(hidden, tf.transpose(w)) + vb)\n",
        "\n",
        "    def sample_prob(self, probs):\n",
        "        return tf.nn.relu(tf.sign(probs-tf.random.uniform(tf.shape(probs))))\n",
        "    \n",
        "    def rbm_reconstruct(self, X):\n",
        "        h = tf.nn.sigmoid(tf.matmul(X, self.w) + self.hb)\n",
        "        reconstruct = tf.nn.sigmoid(tf.matmul(h, self.w) + self.vb)\n",
        "        return reconstruct \n",
        "\n",
        "    def train(self, X, epochs=10):\n",
        "\n",
        "        loss = []\n",
        "        for epoch in range(epochs):\n",
        "            for start, end in zip(range(0, len(X), self.batch_size), \n",
        "                                  range(self.batch_size, len(X), self.batch_size)):\n",
        "                batch = X[start:end]\n",
        "                h0 = self.sample_prob(self.prob_h_given_v(batch, self.w, self.hb))\n",
        "                v1 = self.sample_prob(self.prob_v_given_h(h0, self.w, self.vb))\n",
        "                h1 = self.prob_h_given_v(v1, self.w, self.hb)\n",
        "\n",
        "                positive_grad = tf.matmul(tf.transpose(batch), h0)\n",
        "                negative_grad = tf.matmul(tf.transpose(v1), h1)\n",
        "\n",
        "                self.w = self.w + self.learning_rate *(positive_grad-negative_grad)/ tf.dtypes.cast(tf.shape(batch)[0], tf.float32)\n",
        "                self.vb = self.vb + self.learning_rate * tf.reduce_mean(batch-v1, 0)\n",
        "                self.hb = self.hb + self.learning_rate * tf.reduce_mean(h0-h1, 0)\n",
        "\n",
        "                err = tf.reduce_mean(tf.square(batch-v1))\n",
        "            print('Epoch: %d' %epoch, 'reconstructed error: %f' %err)\n",
        "            loss.append(err)\n",
        "        return loss"
      ],
      "execution_count": 2,
      "outputs": []
    },
    {
      "cell_type": "code",
      "metadata": {
        "colab": {
          "base_uri": "https://localhost:8080/"
        },
        "id": "u3chd4MrV-wx",
        "outputId": "a3cffbc3-5e42-4151-c85d-c9515dc8f3a3"
      },
      "source": [
        "(x_train,_), (x_test, _) = tf.keras.datasets.mnist.load_data()\n",
        "x_train = x_train/np.float32(255)\n",
        "x_test = x_test/np.float32(255)\n",
        "x_train = np.reshape(x_train, (x_train.shape[0], 784))\n",
        "x_test = np.reshape(x_test, (x_test.shape[0], 784))\n",
        "\n",
        "input_size = x_train.shape[1]\n",
        "rbm = RBM(input_size, 200)\n",
        "err = rbm.train(x_train, 50)"
      ],
      "execution_count": 3,
      "outputs": [
        {
          "output_type": "stream",
          "text": [
            "Epoch: 0 reconstructed error: 0.080567\n",
            "Epoch: 1 reconstructed error: 0.075461\n",
            "Epoch: 2 reconstructed error: 0.073635\n",
            "Epoch: 3 reconstructed error: 0.071766\n",
            "Epoch: 4 reconstructed error: 0.072151\n",
            "Epoch: 5 reconstructed error: 0.070488\n",
            "Epoch: 6 reconstructed error: 0.068271\n",
            "Epoch: 7 reconstructed error: 0.069191\n",
            "Epoch: 8 reconstructed error: 0.067456\n",
            "Epoch: 9 reconstructed error: 0.066723\n",
            "Epoch: 10 reconstructed error: 0.065543\n",
            "Epoch: 11 reconstructed error: 0.063051\n",
            "Epoch: 12 reconstructed error: 0.063758\n",
            "Epoch: 13 reconstructed error: 0.063366\n",
            "Epoch: 14 reconstructed error: 0.061651\n",
            "Epoch: 15 reconstructed error: 0.060390\n",
            "Epoch: 16 reconstructed error: 0.059849\n",
            "Epoch: 17 reconstructed error: 0.059696\n",
            "Epoch: 18 reconstructed error: 0.059295\n",
            "Epoch: 19 reconstructed error: 0.058822\n",
            "Epoch: 20 reconstructed error: 0.058541\n",
            "Epoch: 21 reconstructed error: 0.059557\n",
            "Epoch: 22 reconstructed error: 0.059652\n",
            "Epoch: 23 reconstructed error: 0.059326\n",
            "Epoch: 24 reconstructed error: 0.059198\n",
            "Epoch: 25 reconstructed error: 0.058343\n",
            "Epoch: 26 reconstructed error: 0.058128\n",
            "Epoch: 27 reconstructed error: 0.056922\n",
            "Epoch: 28 reconstructed error: 0.057114\n",
            "Epoch: 29 reconstructed error: 0.057360\n",
            "Epoch: 30 reconstructed error: 0.055737\n",
            "Epoch: 31 reconstructed error: 0.057339\n",
            "Epoch: 32 reconstructed error: 0.056531\n",
            "Epoch: 33 reconstructed error: 0.056500\n",
            "Epoch: 34 reconstructed error: 0.057194\n",
            "Epoch: 35 reconstructed error: 0.056435\n",
            "Epoch: 36 reconstructed error: 0.055716\n",
            "Epoch: 37 reconstructed error: 0.055165\n",
            "Epoch: 38 reconstructed error: 0.055389\n",
            "Epoch: 39 reconstructed error: 0.053804\n",
            "Epoch: 40 reconstructed error: 0.054841\n",
            "Epoch: 41 reconstructed error: 0.053626\n",
            "Epoch: 42 reconstructed error: 0.053663\n",
            "Epoch: 43 reconstructed error: 0.054879\n",
            "Epoch: 44 reconstructed error: 0.054782\n",
            "Epoch: 45 reconstructed error: 0.055209\n",
            "Epoch: 46 reconstructed error: 0.055341\n",
            "Epoch: 47 reconstructed error: 0.053831\n",
            "Epoch: 48 reconstructed error: 0.053536\n",
            "Epoch: 49 reconstructed error: 0.054184\n"
          ],
          "name": "stdout"
        }
      ]
    },
    {
      "cell_type": "code",
      "metadata": {
        "colab": {
          "base_uri": "https://localhost:8080/",
          "height": 296
        },
        "id": "LQDEOwaualz_",
        "outputId": "b41f5cb0-1d96-47c0-b685-6c23881d3dbc"
      },
      "source": [
        "plt.plot(err)\n",
        "plt.xlabel('epochs')\n",
        "plt.ylabel('cost')"
      ],
      "execution_count": 4,
      "outputs": [
        {
          "output_type": "execute_result",
          "data": {
            "text/plain": [
              "Text(0, 0.5, 'cost')"
            ]
          },
          "metadata": {
            "tags": []
          },
          "execution_count": 4
        },
        {
          "output_type": "display_data",
          "data": {
            "image/png": "[encoded data removed]",
            "text/plain": [
              "<Figure size 432x288 with 1 Axes>"
            ]
          },
          "metadata": {
            "tags": [],
            "needs_background": "light"
          }
        }
      ]
    },
    {
      "cell_type": "code",
      "metadata": {
        "id": "h2MtgE7oALT4"
      },
      "source": [
        "def deep_belief_net():\n",
        "    RBM_hidden_states = [500, 200, 50]\n",
        "    inpX = x_train\n",
        "    rbm_list = []\n",
        "    input_size = x_train.shape[1]\n",
        "\n",
        "    for i, size in enumerate(RBM_hidden_states):\n",
        "        rbm_list.append(RBM(input_size, size))\n",
        "        input_size = size\n",
        "\n",
        "    for rbm in rbm_list:\n",
        "        rbm.train(tf.cast(inpX, tf.float32))\n",
        "        inpX = rbm.prob_h_given_v(inpX, rbm.w, rbm.hb)"
      ],
      "execution_count": 5,
      "outputs": []
    },
    {
      "cell_type": "code",
      "metadata": {
        "colab": {
          "base_uri": "https://localhost:8080/"
        },
        "id": "oz1OnxGHB0Y5",
        "outputId": "2f20072a-4d2f-4d53-cd0a-0286178a9ad3"
      },
      "source": [
        "deep_belief_net()"
      ],
      "execution_count": 6,
      "outputs": [
        {
          "output_type": "stream",
          "text": [
            "Epoch: 0 reconstructed error: 0.071012\n",
            "Epoch: 1 reconstructed error: 0.067004\n",
            "Epoch: 2 reconstructed error: 0.063906\n",
            "Epoch: 3 reconstructed error: 0.064804\n",
            "Epoch: 4 reconstructed error: 0.061783\n",
            "Epoch: 5 reconstructed error: 0.059388\n",
            "Epoch: 6 reconstructed error: 0.057608\n",
            "Epoch: 7 reconstructed error: 0.057401\n",
            "Epoch: 8 reconstructed error: 0.055454\n",
            "Epoch: 9 reconstructed error: 0.054629\n",
            "Epoch: 0 reconstructed error: 0.014001\n",
            "Epoch: 1 reconstructed error: 0.012622\n",
            "Epoch: 2 reconstructed error: 0.012887\n",
            "Epoch: 3 reconstructed error: 0.011623\n",
            "Epoch: 4 reconstructed error: 0.012170\n",
            "Epoch: 5 reconstructed error: 0.012127\n",
            "Epoch: 6 reconstructed error: 0.011244\n",
            "Epoch: 7 reconstructed error: 0.011423\n",
            "Epoch: 8 reconstructed error: 0.011138\n",
            "Epoch: 9 reconstructed error: 0.011810\n",
            "Epoch: 0 reconstructed error: 0.037335\n",
            "Epoch: 1 reconstructed error: 0.034974\n",
            "Epoch: 2 reconstructed error: 0.032590\n",
            "Epoch: 3 reconstructed error: 0.032429\n",
            "Epoch: 4 reconstructed error: 0.032647\n",
            "Epoch: 5 reconstructed error: 0.033616\n",
            "Epoch: 6 reconstructed error: 0.034586\n",
            "Epoch: 7 reconstructed error: 0.032449\n",
            "Epoch: 8 reconstructed error: 0.031910\n",
            "Epoch: 9 reconstructed error: 0.034276\n"
          ],
          "name": "stdout"
        }
      ]
    }
  ]
}